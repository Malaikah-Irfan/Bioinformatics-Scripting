{
 "cells": [
  {
   "cell_type": "code",
   "execution_count": 17,
   "id": "d70f9f8e-3190-4e61-8c11-cc1585c1d59d",
   "metadata": {},
   "outputs": [
    {
     "name": "stdout",
     "output_type": "stream",
     "text": [
      "A\n",
      "T\n",
      "G\n",
      "C\n",
      "C\n",
      "T\n",
      "G\n",
      "A\n",
      "T\n",
      "A\n",
      "C\n",
      "G\n",
      "A\n",
      "T\n"
     ]
    }
   ],
   "source": [
    "DNA = \"ATGCCTGATACGAT\"\n",
    "i=0\n",
    "while i<len(DNA):\n",
    "    print(DNA[i])\n",
    "    i+=1"
   ]
  },
  {
   "cell_type": "code",
   "execution_count": 19,
   "id": "83f2cb1a-2a5e-4971-aae6-5301d3108a2b",
   "metadata": {},
   "outputs": [
    {
     "name": "stdout",
     "output_type": "stream",
     "text": [
      "A\n",
      "T\n",
      "G\n",
      "C\n",
      "C\n",
      "T\n",
      "G\n",
      "A\n",
      "T\n",
      "A\n",
      "C\n",
      "G\n",
      "A\n",
      "T\n"
     ]
    }
   ],
   "source": [
    "DNA = \"ATGCCTGATACGAT\"\n",
    "for base in DNA:\n",
    "    print(base)"
   ]
  },
  {
   "cell_type": "code",
   "execution_count": null,
   "id": "0016614e-d0c6-4909-b389-baa8eee45573",
   "metadata": {},
   "outputs": [
    {
     "name": "stdout",
     "output_type": "stream",
     "text": [
      "A\n"
     ]
    }
   ],
   "source": [
    "DNA = \"ATGCCTGATACGAT\"\n",
    "i = 0\n",
    "\n",
    "while i < len(DNA):\n",
    "    if DNA[i] == 'A':\n",
    "        print(DNA[i])\n",
    "        i += 1"
   ]
  },
  {
   "cell_type": "code",
   "execution_count": 11,
   "id": "bc7208aa-0966-4eb7-b440-73497c38d882",
   "metadata": {},
   "outputs": [
    {
     "name": "stdout",
     "output_type": "stream",
     "text": [
      "2\n",
      "3\n",
      "5\n",
      "7\n",
      "8\n"
     ]
    }
   ],
   "source": [
    "X = [2, 3, 5, 7, 8, 10, 12, 13, 14, 16]\n",
    "\n",
    "for number in X:\n",
    "    if number == 10:\n",
    "        break\n",
    "    else:\n",
    "        print(number)"
   ]
  },
  {
   "cell_type": "code",
   "execution_count": 5,
   "id": "b03d9cfa-48ea-4055-870c-51c7c538c1cf",
   "metadata": {},
   "outputs": [
    {
     "name": "stdout",
     "output_type": "stream",
     "text": [
      "3\n",
      "5\n",
      "7\n",
      "13\n"
     ]
    }
   ],
   "source": [
    "X = [2, 3, 5, 7, 8, 10, 12, 13, 14, 16]\n",
    "\n",
    "for item in X:\n",
    "    if item % 2 == 0:\n",
    "        pass \n",
    "    else:\n",
    "        print(item)"
   ]
  },
  {
   "cell_type": "code",
   "execution_count": 7,
   "id": "c263e60c-cc7b-4684-920c-a3692fc16d0b",
   "metadata": {},
   "outputs": [
    {
     "name": "stdout",
     "output_type": "stream",
     "text": [
      "2\n",
      "8\n",
      "10\n",
      "12\n",
      "14\n",
      "16\n"
     ]
    }
   ],
   "source": [
    "X = [2, 3, 5, 7, 8, 10, 12, 13, 14, 16]\n",
    "\n",
    "for number in X:\n",
    "    if number % 2 == 0:\n",
    "        print(number)"
   ]
  },
  {
   "cell_type": "code",
   "execution_count": 9,
   "id": "a9aaafb2-d630-4fca-a40a-266db7fe911d",
   "metadata": {},
   "outputs": [
    {
     "name": "stdout",
     "output_type": "stream",
     "text": [
      "3\n",
      "4\n",
      "6\n",
      "8\n",
      "9\n",
      "11\n",
      "13\n",
      "14\n",
      "15\n",
      "17\n"
     ]
    }
   ],
   "source": [
    "X = [2, 3, 5, 7, 8, 10, 12, 13, 14, 16]\n",
    "for number in X:\n",
    "    print(number+1)"
   ]
  },
  {
   "cell_type": "code",
   "execution_count": null,
   "id": "1da2dde1-0c1f-4528-8e0a-2edbd7439a33",
   "metadata": {},
   "outputs": [],
   "source": []
  }
 ],
 "metadata": {
  "kernelspec": {
   "display_name": "Python 3 (ipykernel)",
   "language": "python",
   "name": "python3"
  },
  "language_info": {
   "codemirror_mode": {
    "name": "ipython",
    "version": 3
   },
   "file_extension": ".py",
   "mimetype": "text/x-python",
   "name": "python",
   "nbconvert_exporter": "python",
   "pygments_lexer": "ipython3",
   "version": "3.12.4"
  }
 },
 "nbformat": 4,
 "nbformat_minor": 5
}
