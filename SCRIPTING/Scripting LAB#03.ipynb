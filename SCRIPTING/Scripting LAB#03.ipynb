{
 "cells": [
  {
   "cell_type": "code",
   "execution_count": 14,
   "id": "2fed577e-4966-4d82-a859-9ffd28c8e86a",
   "metadata": {},
   "outputs": [
    {
     "data": {
      "text/plain": [
       "'TT'"
      ]
     },
     "execution_count": 14,
     "metadata": {},
     "output_type": "execute_result"
    }
   ],
   "source": [
    "DNA=\"AGTAGTCCGGT\"\n",
    "DNA[2:8:3]"
   ]
  },
  {
   "cell_type": "code",
   "execution_count": 2,
   "id": "94b52e8b-6075-4454-a35d-e8e8c9e5bf54",
   "metadata": {},
   "outputs": [
    {
     "data": {
      "text/plain": [
       "'GA'"
      ]
     },
     "execution_count": 2,
     "metadata": {},
     "output_type": "execute_result"
    }
   ],
   "source": [
    "DNA = \"ATGCAGCT\"\n",
    ">>> DNA[2:5:2]"
   ]
  },
  {
   "cell_type": "code",
   "execution_count": 18,
   "id": "a9573daf-fb43-484c-9f7d-71013c71ee25",
   "metadata": {},
   "outputs": [
    {
     "data": {
      "text/plain": [
       "'ATGCAGC'"
      ]
     },
     "execution_count": 18,
     "metadata": {},
     "output_type": "execute_result"
    }
   ],
   "source": [
    "DNA = \"ATGCAGCT\"\n",
    ">>> DNA[0:-1]"
   ]
  },
  {
   "cell_type": "code",
   "execution_count": 20,
   "id": "c4f04c0b-bc65-42fd-b33c-dd358687a0df",
   "metadata": {},
   "outputs": [
    {
     "data": {
      "text/plain": [
       "True"
      ]
     },
     "execution_count": 20,
     "metadata": {},
     "output_type": "execute_result"
    }
   ],
   "source": [
    "DNA = \"ATGCAGCT\"\n",
    "base = \"W\"\n",
    "base in DNA\n",
    "False\n",
    "base not in DNA\n",
    "True\n",
    "not base in DNA\n",
    "True"
   ]
  },
  {
   "cell_type": "code",
   "execution_count": 6,
   "id": "0df8440a-a330-49fa-b81c-c0a09ff7aa01",
   "metadata": {},
   "outputs": [
    {
     "data": {
      "text/plain": [
       "(2,)"
      ]
     },
     "execution_count": 6,
     "metadata": {},
     "output_type": "execute_result"
    }
   ],
   "source": [
    "tuple((2,))"
   ]
  },
  {
   "cell_type": "code",
   "execution_count": 28,
   "id": "e141f53e-6a6f-4bf1-b4c7-681dff431460",
   "metadata": {},
   "outputs": [
    {
     "data": {
      "text/plain": [
       "[2, 3, 2, 3, 2, 3]"
      ]
     },
     "execution_count": 28,
     "metadata": {},
     "output_type": "execute_result"
    }
   ],
   "source": [
    "[2,3]*3"
   ]
  },
  {
   "cell_type": "code",
   "execution_count": 30,
   "id": "0ea9074b-2f83-41e7-9b33-76025dd77163",
   "metadata": {},
   "outputs": [
    {
     "data": {
      "text/plain": [
       "(2, 2, 2, 2)"
      ]
     },
     "execution_count": 30,
     "metadata": {},
     "output_type": "execute_result"
    }
   ],
   "source": [
    "(2,)*4"
   ]
  },
  {
   "cell_type": "code",
   "execution_count": 34,
   "id": "8169c3a4-9605-4160-b3bd-4f500a62632f",
   "metadata": {},
   "outputs": [
    {
     "data": {
      "text/plain": [
       "'T'"
      ]
     },
     "execution_count": 34,
     "metadata": {},
     "output_type": "execute_result"
    }
   ],
   "source": [
    "DNA=\"AGTAGTCCGGT\"\n",
    "DNA[2]"
   ]
  },
  {
   "cell_type": "code",
   "execution_count": 8,
   "id": "3d756479-b648-481e-847f-407ee223af00",
   "metadata": {},
   "outputs": [
    {
     "data": {
      "text/plain": [
       "True"
      ]
     },
     "execution_count": 8,
     "metadata": {},
     "output_type": "execute_result"
    }
   ],
   "source": [
    "DNA = \"ATGCAGCT\"\n",
    "\"A\" in DNA\n"
   ]
  },
  {
   "cell_type": "code",
   "execution_count": 12,
   "id": "93ecfb92-929d-4844-b9b7-9be66cec9af0",
   "metadata": {},
   "outputs": [
    {
     "data": {
      "text/plain": [
       "True"
      ]
     },
     "execution_count": 12,
     "metadata": {},
     "output_type": "execute_result"
    }
   ],
   "source": [
    "DNA = \"ATGCAGCT\"\n",
    "\"CA\" in DNA\n"
   ]
  },
  {
   "cell_type": "code",
   "execution_count": 60,
   "id": "13129428-1ce3-4b53-b6e4-88674dea5679",
   "metadata": {},
   "outputs": [
    {
     "data": {
      "text/plain": [
       "False"
      ]
     },
     "execution_count": 60,
     "metadata": {},
     "output_type": "execute_result"
    }
   ],
   "source": [
    "DNA = \"ATGCAGCT\"\n",
    "\"AA\" in DNA"
   ]
  },
  {
   "cell_type": "code",
   "execution_count": 14,
   "id": "fb28c2ad-3c8f-4264-a739-783ec1da23ad",
   "metadata": {},
   "outputs": [
    {
     "data": {
      "text/plain": [
       "'AG'"
      ]
     },
     "execution_count": 14,
     "metadata": {},
     "output_type": "execute_result"
    }
   ],
   "source": [
    "str (\"A\" + \"G\")"
   ]
  },
  {
   "cell_type": "code",
   "execution_count": 78,
   "id": "45f0d1bb-9bb4-4f15-b0c1-3a308ce5e62f",
   "metadata": {},
   "outputs": [
    {
     "data": {
      "text/plain": [
       "(2, 3, 4)"
      ]
     },
     "execution_count": 78,
     "metadata": {},
     "output_type": "execute_result"
    }
   ],
   "source": [
    "tuple( (2,) + (3, 4))"
   ]
  },
  {
   "cell_type": "code",
   "execution_count": 80,
   "id": "d1c8d47f-20f4-4241-a74f-2fead5ab00d4",
   "metadata": {},
   "outputs": [
    {
     "data": {
      "text/plain": [
       "[2, 3]"
      ]
     },
     "execution_count": 80,
     "metadata": {},
     "output_type": "execute_result"
    }
   ],
   "source": [
    "list ([2] + [3])"
   ]
  },
  {
   "cell_type": "code",
   "execution_count": 66,
   "id": "a3df3866-5484-44e0-b7c7-4a2dfed4aec9",
   "metadata": {},
   "outputs": [
    {
     "data": {
      "text/plain": [
       "'ATGCAGCT'"
      ]
     },
     "execution_count": 66,
     "metadata": {},
     "output_type": "execute_result"
    }
   ],
   "source": [
    "DNA = \"ATGCAGCT\"\n",
    "DNA[::1]"
   ]
  },
  {
   "cell_type": "code",
   "execution_count": 68,
   "id": "26d8bb8d-ebc2-4414-b259-03a0e6df091e",
   "metadata": {},
   "outputs": [
    {
     "data": {
      "text/plain": [
       "'AGAC'"
      ]
     },
     "execution_count": 68,
     "metadata": {},
     "output_type": "execute_result"
    }
   ],
   "source": [
    "DNA = \"ATGCAGCT\"\n",
    "DNA[::2]"
   ]
  },
  {
   "cell_type": "code",
   "execution_count": 70,
   "id": "6f0e9e04-6197-478e-b3e8-a298b14387ee",
   "metadata": {},
   "outputs": [
    {
     "data": {
      "text/plain": [
       "'TCGACGTA'"
      ]
     },
     "execution_count": 70,
     "metadata": {},
     "output_type": "execute_result"
    }
   ],
   "source": [
    "DNA = \"ATGCAGCT\"\n",
    "DNA[::-1]"
   ]
  },
  {
   "cell_type": "code",
   "execution_count": 72,
   "id": "5fc0a3ea-08d3-4133-8b99-405821ec4832",
   "metadata": {},
   "outputs": [
    {
     "data": {
      "text/plain": [
       "'TGCT'"
      ]
     },
     "execution_count": 72,
     "metadata": {},
     "output_type": "execute_result"
    }
   ],
   "source": [
    "DNA = \"ATGCAGCT\"\n",
    "DNA[::-2]"
   ]
  },
  {
   "cell_type": "code",
   "execution_count": 19,
   "id": "4bd8826c-7b18-4c84-a619-60bfa4e13f23",
   "metadata": {},
   "outputs": [
    {
     "data": {
      "text/plain": [
       "'GC'"
      ]
     },
     "execution_count": 19,
     "metadata": {},
     "output_type": "execute_result"
    }
   ],
   "source": [
    "DNA = \"ATGCAGCT\"\n",
    "DNA[5:1:-2]"
   ]
  },
  {
   "cell_type": "code",
   "execution_count": 76,
   "id": "2764f41b-215d-403a-b868-c479046760bc",
   "metadata": {},
   "outputs": [
    {
     "data": {
      "text/plain": [
       "'TC'"
      ]
     },
     "execution_count": 76,
     "metadata": {},
     "output_type": "execute_result"
    }
   ],
   "source": [
    "DNA = \"ATGCAGCT\"\n",
    "DNA[1:5:2]"
   ]
  },
  {
   "cell_type": "code",
   "execution_count": 109,
   "id": "37e4b938-d4d1-48c0-bd2a-2ff925f532e2",
   "metadata": {},
   "outputs": [
    {
     "data": {
      "text/plain": [
       "','"
      ]
     },
     "execution_count": 109,
     "metadata": {},
     "output_type": "execute_result"
    }
   ],
   "source": [
    "string=\"apple,cherry,banana\"\n",
    "string[5]"
   ]
  },
  {
   "cell_type": "code",
   "execution_count": 87,
   "id": "9b4c56ca-ccde-46d8-8bd5-1aa30d165a1c",
   "metadata": {},
   "outputs": [
    {
     "data": {
      "text/plain": [
       "'n'"
      ]
     },
     "execution_count": 87,
     "metadata": {},
     "output_type": "execute_result"
    }
   ],
   "source": [
    "string=\"apple,cherry,banana\"\n",
    "string[-2]"
   ]
  },
  {
   "cell_type": "code",
   "execution_count": 89,
   "id": "af277100-5a2a-4256-a10f-965456d5755f",
   "metadata": {},
   "outputs": [
    {
     "data": {
      "text/plain": [
       "'n'"
      ]
     },
     "execution_count": 89,
     "metadata": {},
     "output_type": "execute_result"
    }
   ],
   "source": [
    "string=\"apple,cherry,banana\"\n",
    "string[-4]"
   ]
  },
  {
   "cell_type": "code",
   "execution_count": 23,
   "id": "93106a7e-1006-4796-a9bb-9401b00b0c76",
   "metadata": {},
   "outputs": [
    {
     "data": {
      "text/plain": [
       "'apple,cherry,banana'"
      ]
     },
     "execution_count": 23,
     "metadata": {},
     "output_type": "execute_result"
    }
   ],
   "source": [
    "string=\"apple,cherry,banana\"\n",
    "string[ : : ]"
   ]
  },
  {
   "cell_type": "code",
   "execution_count": 21,
   "id": "14dc1b91-bf0d-47e1-bb49-5ff1fe393644",
   "metadata": {},
   "outputs": [
    {
     "data": {
      "text/plain": [
       "''"
      ]
     },
     "execution_count": 21,
     "metadata": {},
     "output_type": "execute_result"
    }
   ],
   "source": [
    "string=\"apple,cherry,banana\"\n",
    "string[5:1:2]"
   ]
  },
  {
   "cell_type": "code",
   "execution_count": 95,
   "id": "48653cd4-a0fa-47dd-b27a-98358bd8a961",
   "metadata": {},
   "outputs": [
    {
     "data": {
      "text/plain": [
       "'apple,cherry,banana'"
      ]
     },
     "execution_count": 95,
     "metadata": {},
     "output_type": "execute_result"
    }
   ],
   "source": [
    "string=\"apple,cherry,banana\"\n",
    "string[0: : ]"
   ]
  },
  {
   "cell_type": "code",
   "execution_count": 107,
   "id": "d23e752a-c5a4-42d1-85bb-c95fcaea398b",
   "metadata": {},
   "outputs": [
    {
     "data": {
      "text/plain": [
       "'ananab,yrrehc,elppa'"
      ]
     },
     "execution_count": 107,
     "metadata": {},
     "output_type": "execute_result"
    }
   ],
   "source": [
    "string=\"apple,cherry,banana\"\n",
    "string[ : :-1]"
   ]
  },
  {
   "cell_type": "code",
   "execution_count": 4,
   "id": "cba73073-0480-4257-b6e5-5c61dc023d38",
   "metadata": {},
   "outputs": [
    {
     "ename": "SyntaxError",
     "evalue": "invalid syntax (1463512240.py, line 2)",
     "output_type": "error",
     "traceback": [
      "\u001b[1;36m  Cell \u001b[1;32mIn[4], line 2\u001b[1;36m\u001b[0m\n\u001b[1;33m    print([ : :-2])\u001b[0m\n\u001b[1;37m            ^\u001b[0m\n\u001b[1;31mSyntaxError\u001b[0m\u001b[1;31m:\u001b[0m invalid syntax\n"
     ]
    }
   ],
   "source": [
    "string=\"apple,cherry,banana\"\n",
    "string[ : :-2]"
   ]
  },
  {
   "cell_type": "code",
   "execution_count": null,
   "id": "1a6899b5-43d7-4ef7-84aa-c864b0ab2e1b",
   "metadata": {},
   "outputs": [],
   "source": []
  }
 ],
 "metadata": {
  "kernelspec": {
   "display_name": "Python 3 (ipykernel)",
   "language": "python",
   "name": "python3"
  },
  "language_info": {
   "codemirror_mode": {
    "name": "ipython",
    "version": 3
   },
   "file_extension": ".py",
   "mimetype": "text/x-python",
   "name": "python",
   "nbconvert_exporter": "python",
   "pygments_lexer": "ipython3",
   "version": "3.12.4"
  }
 },
 "nbformat": 4,
 "nbformat_minor": 5
}
