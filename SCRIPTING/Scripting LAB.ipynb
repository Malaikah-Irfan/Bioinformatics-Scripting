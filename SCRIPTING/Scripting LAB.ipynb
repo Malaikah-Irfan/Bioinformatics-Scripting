{
 "cells": [
  {
   "cell_type": "code",
   "execution_count": 1,
   "id": "336e5f43-605b-451e-839e-c4a0c8db0211",
   "metadata": {},
   "outputs": [
    {
     "name": "stdout",
     "output_type": "stream",
     "text": [
      "ATGCGAT\n"
     ]
    }
   ],
   "source": [
    "def convert_rna_to_dna(rna):\n",
    "    return rna.replace('U', 'T')\n",
    "rna_sequence = \"AUGCGAU\"\n",
    "dna_sequence = convert_rna_to_dna(rna_sequence)\n",
    "print(dna_sequence)\n"
   ]
  },
  {
   "cell_type": "code",
   "execution_count": 3,
   "id": "e6a068f0-d6f4-428d-9877-8f282dbc915b",
   "metadata": {},
   "outputs": [
    {
     "name": "stdout",
     "output_type": "stream",
     "text": [
      "30\n"
     ]
    }
   ],
   "source": [
    "def sum_three_numbers(a, b, c):\n",
    "    return a + b + c\n",
    "result = sum_three_numbers(5, 10, 15)\n",
    "print(result)\n"
   ]
  },
  {
   "cell_type": "code",
   "execution_count": 5,
   "id": "659a5751-003a-4b1f-b362-21512fd2cef8",
   "metadata": {},
   "outputs": [
    {
     "name": "stdout",
     "output_type": "stream",
     "text": [
      "(9, 16)\n"
     ]
    }
   ],
   "source": [
    "def square_two_numbers(x, y):\n",
    "    return x**2, y**2\n",
    "result = square_two_numbers(3, 4)\n",
    "print(result)\n"
   ]
  },
  {
   "cell_type": "code",
   "execution_count": 7,
   "id": "3c3be9ff-cf16-4701-b4dd-36b836ce3290",
   "metadata": {},
   "outputs": [
    {
     "name": "stdout",
     "output_type": "stream",
     "text": [
      "Key: name, Value: Abrish\n",
      "Key: age, Value: 1\n",
      "Key: city, Value: gujrat\n"
     ]
    }
   ],
   "source": [
    "def display_dict_items(dictionary):\n",
    "    for key, value in dictionary.items():\n",
    "        print(f\"Key: {key}, Value: {value}\")\n",
    "my_dict = {\"name\": \"Abrish\", \"age\": 1, \"city\": \"gujrat\"}\n",
    "display_dict_items(my_dict)\n"
   ]
  },
  {
   "cell_type": "code",
   "execution_count": 9,
   "id": "87fff017-fcfd-4c9b-b1fb-32e186675acc",
   "metadata": {},
   "outputs": [],
   "source": [
    "def do_nothing(arg1, arg2):\n",
    "    pass\n",
    "do_nothing(5, \"hello\")\n"
   ]
  },
  {
   "cell_type": "code",
   "execution_count": null,
   "id": "df9a8f94-20ed-4746-b0c5-23cf52e054fb",
   "metadata": {},
   "outputs": [],
   "source": []
  }
 ],
 "metadata": {
  "kernelspec": {
   "display_name": "Python 3 (ipykernel)",
   "language": "python",
   "name": "python3"
  },
  "language_info": {
   "codemirror_mode": {
    "name": "ipython",
    "version": 3
   },
   "file_extension": ".py",
   "mimetype": "text/x-python",
   "name": "python",
   "nbconvert_exporter": "python",
   "pygments_lexer": "ipython3",
   "version": "3.12.4"
  }
 },
 "nbformat": 4,
 "nbformat_minor": 5
}
