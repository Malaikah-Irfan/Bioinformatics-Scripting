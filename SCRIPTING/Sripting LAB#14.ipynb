{
 "cells": [
  {
   "cell_type": "code",
   "execution_count": 1,
   "id": "621406d3-76da-4d32-87f4-7f19e831554b",
   "metadata": {},
   "outputs": [],
   "source": [
    "import pandas as pd\n"
   ]
  },
  {
   "cell_type": "code",
   "execution_count": 3,
   "id": "d360b2bd-1a37-49e2-8b2e-fd18df0d363e",
   "metadata": {},
   "outputs": [
    {
     "name": "stdout",
     "output_type": "stream",
     "text": [
      "0    1\n",
      "1    2\n",
      "2    3\n",
      "3    4\n",
      "4    5\n",
      "dtype: int64\n"
     ]
    }
   ],
   "source": [
    "series = pd.Series([1,2,3,4,5])\n",
    "print (series)"
   ]
  },
  {
   "cell_type": "code",
   "execution_count": 5,
   "id": "15a8631c-59ec-48c9-8d8b-e97d9f03382d",
   "metadata": {},
   "outputs": [
    {
     "name": "stdout",
     "output_type": "stream",
     "text": [
      "0    0.5\n",
      "dtype: float64\n"
     ]
    }
   ],
   "source": [
    "series = pd.Series(0.5)\n",
    "print (series)"
   ]
  },
  {
   "cell_type": "code",
   "execution_count": 11,
   "id": "669709db-6492-4af4-a781-01e3535e4119",
   "metadata": {},
   "outputs": [
    {
     "name": "stdout",
     "output_type": "stream",
     "text": [
      "a    1\n",
      "b    2\n",
      "c    3\n",
      "dtype: int64\n"
     ]
    }
   ],
   "source": [
    "dict_series = pd.Series({'a':1, 'b':2, 'c':3})\n",
    "print (dict_series)"
   ]
  },
  {
   "cell_type": "code",
   "execution_count": 21,
   "id": "b9222ca3-76c0-4ac6-b32b-c50317a96e44",
   "metadata": {},
   "outputs": [
    {
     "name": "stdout",
     "output_type": "stream",
     "text": [
      "a    1\n",
      "b    2\n",
      "c    3\n",
      "d    4\n",
      "e    5\n",
      "dtype: int64\n"
     ]
    }
   ],
   "source": [
    "series = pd.Series([1,2,3,4,5], index = ['a','b','c','d','e'] )\n",
    "print (series)"
   ]
  },
  {
   "cell_type": "code",
   "execution_count": 25,
   "id": "ddd8acb3-fd41-4e2e-a1eb-2cabbb2a721b",
   "metadata": {},
   "outputs": [
    {
     "name": "stdout",
     "output_type": "stream",
     "text": [
      "0    1\n",
      "1    2\n",
      "2    3\n",
      "3    4\n",
      "4    5\n",
      "dtype: int64\n"
     ]
    },
    {
     "data": {
      "text/plain": [
       "1"
      ]
     },
     "execution_count": 25,
     "metadata": {},
     "output_type": "execute_result"
    }
   ],
   "source": [
    "series_2 = pd.Series([1,2,3,4,5])\n",
    "print (series_2)\n",
    "series_2[0]"
   ]
  },
  {
   "cell_type": "code",
   "execution_count": 27,
   "id": "5409e406-4860-4e97-aca7-75f887dc3299",
   "metadata": {},
   "outputs": [
    {
     "data": {
      "text/plain": [
       "0    1\n",
       "1    2\n",
       "2    3\n",
       "dtype: int64"
      ]
     },
     "execution_count": 27,
     "metadata": {},
     "output_type": "execute_result"
    }
   ],
   "source": [
    "series_2[0:3]"
   ]
  },
  {
   "cell_type": "code",
   "execution_count": 29,
   "id": "42047cdd-f62e-4be4-aea9-087c149b82f2",
   "metadata": {},
   "outputs": [
    {
     "data": {
      "text/plain": [
       "5"
      ]
     },
     "execution_count": 29,
     "metadata": {},
     "output_type": "execute_result"
    }
   ],
   "source": [
    "max(series_2)"
   ]
  },
  {
   "cell_type": "code",
   "execution_count": 31,
   "id": "4859825e-55c9-43b6-b188-9e356e7cca9d",
   "metadata": {},
   "outputs": [
    {
     "data": {
      "text/plain": [
       "3    4\n",
       "4    5\n",
       "dtype: int64"
      ]
     },
     "execution_count": 31,
     "metadata": {},
     "output_type": "execute_result"
    }
   ],
   "source": [
    "series_2[series_2 > 3]"
   ]
  },
  {
   "cell_type": "code",
   "execution_count": 33,
   "id": "a39c8d36-c35c-44d8-8735-1473526cddac",
   "metadata": {},
   "outputs": [
    {
     "name": "stdout",
     "output_type": "stream",
     "text": [
      "0    1\n",
      "1    2\n",
      "2    3\n",
      "3    4\n",
      "4    5\n",
      "dtype: int64\n",
      "0     6\n",
      "1     7\n",
      "2     8\n",
      "3     9\n",
      "4    10\n",
      "dtype: int64\n"
     ]
    },
    {
     "data": {
      "text/plain": [
       "0     7\n",
       "1     9\n",
       "2    11\n",
       "3    13\n",
       "4    15\n",
       "dtype: int64"
      ]
     },
     "execution_count": 33,
     "metadata": {},
     "output_type": "execute_result"
    }
   ],
   "source": [
    "series_2 = pd.Series([1,2,3,4,5])\n",
    "print (series_2)\n",
    "series_3 = pd.Series([6,7,8,9,10])\n",
    "print (series_3)\n",
    "series_2 + series_3"
   ]
  },
  {
   "cell_type": "code",
   "execution_count": 39,
   "id": "17b02438-ebfb-4f7b-937b-d25c01969cc8",
   "metadata": {},
   "outputs": [
    {
     "data": {
      "text/plain": [
       "0    32.0\n",
       "1    34.0\n",
       "2    36.0\n",
       "3     NaN\n",
       "4     NaN\n",
       "dtype: float64"
      ]
     },
     "execution_count": 39,
     "metadata": {},
     "output_type": "execute_result"
    }
   ],
   "source": [
    "series_4 = pd.Series([11,12,13,14,15])\n",
    "series_5 = pd.Series([21,22,23])\n",
    "series_4 + series_5"
   ]
  },
  {
   "cell_type": "code",
   "execution_count": 53,
   "id": "b9e11e8d-f04b-4663-b179-9962aba26573",
   "metadata": {},
   "outputs": [
    {
     "name": "stdout",
     "output_type": "stream",
     "text": [
      "Temperature Series: \n",
      "0    72\n",
      "1    65\n",
      "2    80\n",
      "3    90\n",
      "4    78\n",
      "5    68\n",
      "6    84\n",
      "dtype: int64\n"
     ]
    }
   ],
   "source": [
    "#Create a Series from a list of temperatures\n",
    "temperatures = pd.Series([72, 65, 80, 90, 78, 68, 84])\n",
    "\n",
    "print(\"Temperature Series: \")\n",
    "\n",
    "print(temperatures)"
   ]
  },
  {
   "cell_type": "code",
   "execution_count": 55,
   "id": "e9a74087-e715-4042-95c3-3fe44f9f2fdf",
   "metadata": {},
   "outputs": [
    {
     "name": "stdout",
     "output_type": "stream",
     "text": [
      "Addition of Series:\n",
      "0    15\n",
      "1    35\n",
      "2    55\n",
      "3    75\n",
      "4    95\n",
      "dtype: int64\n",
      "\n",
      "Subtraction of Series:\n",
      "0    5\n",
      "1    5\n",
      "2    5\n",
      "3    5\n",
      "4    5\n",
      "dtype: int64\n",
      "\n",
      "Multiplication of Series:\n",
      "0      50\n",
      "1     300\n",
      "2     750\n",
      "3    1400\n",
      "4    2250\n",
      "dtype: int64\n",
      "\n",
      "Division of Series:\n",
      "0    2.000000\n",
      "1    1.333333\n",
      "2    1.200000\n",
      "3    1.142857\n",
      "4    1.111111\n",
      "dtype: float64\n"
     ]
    }
   ],
   "source": [
    "series1 = pd.Series([10, 20, 30, 40, 50])\n",
    "series2 = pd.Series([5, 15, 25, 35, 45])\n",
    "\n",
    "\n",
    "addition = series1 + series2\n",
    "subtraction = series1 - series2\n",
    "multiplication = series1 * series2\n",
    "division = series1 / series2\n",
    "\n",
    "print(\"Addition of Series:\")\n",
    "print(addition)\n",
    "print(\"\\nSubtraction of Series:\")\n",
    "print(subtraction)\n",
    "print(\"\\nMultiplication of Series:\")\n",
    "print(multiplication)\n",
    "print(\"\\nDivision of Series:\")\n",
    "print(division)\n"
   ]
  },
  {
   "cell_type": "code",
   "execution_count": 99,
   "id": "5487113c-c7c1-4a01-af70-517915692cc6",
   "metadata": {},
   "outputs": [
    {
     "name": "stdout",
     "output_type": "stream",
     "text": [
      "Temperatures Greater than 75:\n",
      "2    80\n",
      "3    90\n",
      "4    78\n",
      "6    84\n",
      "dtype: int64\n",
      "\n",
      "Temperatures Between 65 and 80:\n",
      "0    72\n",
      "1    65\n",
      "2    80\n",
      "4    78\n",
      "5    68\n",
      "dtype: int64\n"
     ]
    }
   ],
   "source": [
    "#Slice a Series based on conditions.\n",
    "\n",
    "temperature_series = pd.Series([72, 65, 80, 90, 78, 68, 84])\n",
    "\n",
    "\n",
    "greater_than_75 = temperature_series[temperature_series > 75]\n",
    "between_65_and_80 = temperature_series[(temperature_series >= 65) & (temperature_series <= 80)]\n",
    "\n",
    "print(\"Temperatures Greater than 75:\")\n",
    "print(greater_than_75)\n",
    "\n",
    "print(\"\\nTemperatures Between 65 and 80:\")\n",
    "print(between_65_and_80)\n"
   ]
  },
  {
   "cell_type": "code",
   "execution_count": 59,
   "id": "6fab26a9-f453-430f-9977-e75f2054177f",
   "metadata": {},
   "outputs": [
    {
     "name": "stdout",
     "output_type": "stream",
     "text": [
      "Empty DataFrame\n",
      "Columns: []\n",
      "Index: []\n"
     ]
    }
   ],
   "source": [
    "df1=pd.DataFrame()\n",
    "print(df1)"
   ]
  },
  {
   "cell_type": "code",
   "execution_count": 63,
   "id": "d7510e9c-7ceb-468a-a6cd-9d548cabd9bc",
   "metadata": {},
   "outputs": [
    {
     "name": "stdout",
     "output_type": "stream",
     "text": [
      "   0\n",
      "0  1\n",
      "1  2\n",
      "2  3\n",
      "3  4\n",
      "4  5\n",
      "5  6\n"
     ]
    }
   ],
   "source": [
    "ls=[1,2,3,4,5,6]\n",
    "df2=pd.DataFrame(ls)\n",
    "print(df2)"
   ]
  },
  {
   "cell_type": "code",
   "execution_count": 103,
   "id": "578ff622-55d0-43cf-aa9d-9b81430700eb",
   "metadata": {},
   "outputs": [
    {
     "name": "stdout",
     "output_type": "stream",
     "text": [
      "   0  1    2\n",
      "0  1  2  3.0\n",
      "1  4  5  NaN\n"
     ]
    }
   ],
   "source": [
    "df3=pd.DataFrame([[1,2,3],[4,5]])\n",
    "print(df3)"
   ]
  },
  {
   "cell_type": "code",
   "execution_count": 75,
   "id": "0261c460-2059-4cb7-bb2d-d24c4714acc0",
   "metadata": {},
   "outputs": [
    {
     "name": "stdout",
     "output_type": "stream",
     "text": [
      "   a  b  c\n",
      "1  1  2  3\n"
     ]
    }
   ],
   "source": [
    "dict={'a':1,'b':2,'c':3}\n",
    "df4=pd.DataFrame(dict,index=[1])\n",
    "print(df4)"
   ]
  },
  {
   "cell_type": "code",
   "execution_count": 97,
   "id": "d4d65d4b-b655-4e3f-a466-e1718f46f33c",
   "metadata": {},
   "outputs": [
    {
     "name": "stdout",
     "output_type": "stream",
     "text": [
      "   a  b\n",
      "0  1  2\n"
     ]
    }
   ],
   "source": [
    "df5=pd.DataFrame([{'a':1,'b':2}])\n",
    "print(df5)"
   ]
  },
  {
   "cell_type": "code",
   "execution_count": 87,
   "id": "20019f5e-1434-47c8-9920-a44fe70ea118",
   "metadata": {},
   "outputs": [
    {
     "name": "stdout",
     "output_type": "stream",
     "text": [
      "  key  value\n",
      "0   a    1.0\n",
      "1   b    2.0\n",
      "2   c    NaN\n"
     ]
    }
   ],
   "source": [
    "df6=pd.DataFrame({'key':pd.Series(['a','b','c']),'value':pd.Series([1,2,3])})\n",
    "print(df6)"
   ]
  },
  {
   "cell_type": "code",
   "execution_count": 91,
   "id": "d9c51fcc-dcbb-4e03-a1d8-6986f200db79",
   "metadata": {},
   "outputs": [
    {
     "name": "stdout",
     "output_type": "stream",
     "text": [
      "       Name  Roll_Number\n",
      "0      Anma            1\n",
      "1     Kinza            2\n",
      "2  Malaikah            3\n",
      "3     Anika            5\n"
     ]
    }
   ],
   "source": [
    "df7=pd.DataFrame({'Name':['Anma','Kinza','Malaikah','Anika'],'Roll_Number':[1,2,3,5]})\n",
    "print(df7)"
   ]
  },
  {
   "cell_type": "code",
   "execution_count": null,
   "id": "c4ed8532-c568-4310-bd0a-ff0d570b2008",
   "metadata": {},
   "outputs": [],
   "source": []
  },
  {
   "cell_type": "code",
   "execution_count": null,
   "id": "e05f9d99-f454-497d-af79-2d13c6413ad6",
   "metadata": {},
   "outputs": [],
   "source": []
  },
  {
   "cell_type": "code",
   "execution_count": null,
   "id": "8f261cda-c736-4ee1-90ec-6b1121c1da36",
   "metadata": {},
   "outputs": [],
   "source": []
  }
 ],
 "metadata": {
  "kernelspec": {
   "display_name": "Python 3 (ipykernel)",
   "language": "python",
   "name": "python3"
  },
  "language_info": {
   "codemirror_mode": {
    "name": "ipython",
    "version": 3
   },
   "file_extension": ".py",
   "mimetype": "text/x-python",
   "name": "python",
   "nbconvert_exporter": "python",
   "pygments_lexer": "ipython3",
   "version": "3.12.4"
  }
 },
 "nbformat": 4,
 "nbformat_minor": 5
}
