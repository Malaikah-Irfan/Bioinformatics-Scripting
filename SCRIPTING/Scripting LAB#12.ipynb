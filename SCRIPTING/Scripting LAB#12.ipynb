{
 "cells": [
  {
   "cell_type": "code",
   "execution_count": 51,
   "id": "fb299716-3a1e-4a74-85f6-3bbf134b3a67",
   "metadata": {},
   "outputs": [
    {
     "data": {
      "text/plain": [
       "-1"
      ]
     },
     "execution_count": 51,
     "metadata": {},
     "output_type": "execute_result"
    }
   ],
   "source": [
    "def multiply(x, y):\n",
    "    return x - y\n",
    "multiply(3, 4)"
   ]
  },
  {
   "cell_type": "code",
   "execution_count": 61,
   "id": "50b37a42-0b9f-4507-b2df-d37c73833469",
   "metadata": {},
   "outputs": [
    {
     "name": "stdout",
     "output_type": "stream",
     "text": [
      "7 3 4\n"
     ]
    }
   ],
   "source": [
    "def add(a, b):\n",
    "    return a+b\n",
    "ss= add(3,4)\n",
    "print(ss,a,b)"
   ]
  },
  {
   "cell_type": "code",
   "execution_count": 65,
   "id": "9085182d-6520-4cea-bab9-2ff6244e82a2",
   "metadata": {},
   "outputs": [
    {
     "name": "stdout",
     "output_type": "stream",
     "text": [
      "None\n"
     ]
    }
   ],
   "source": [
    "def test():\n",
    "    pass\n",
    "test()\n",
    "print(test())"
   ]
  },
  {
   "cell_type": "code",
   "execution_count": 7,
   "id": "bea666c1-26af-4a1e-91c3-35328df8d2b6",
   "metadata": {},
   "outputs": [
    {
     "data": {
      "text/plain": [
       "1"
      ]
     },
     "execution_count": 7,
     "metadata": {},
     "output_type": "execute_result"
    }
   ],
   "source": [
    "def example(x, y, z):\n",
    "    return x-y\n",
    "example(2, 1, 43)"
   ]
  },
  {
   "cell_type": "code",
   "execution_count": 37,
   "id": "216edabb-800f-4b98-9fbb-20f546ec2fde",
   "metadata": {},
   "outputs": [
    {
     "name": "stdout",
     "output_type": "stream",
     "text": [
      "5\n"
     ]
    }
   ],
   "source": [
    "a=example(*(2, 1, 43))\n",
    "b=a*5\n",
    "print(b)"
   ]
  },
  {
   "cell_type": "code",
   "execution_count": 15,
   "id": "7f9aaeb6-0505-41e8-911f-41710785a632",
   "metadata": {},
   "outputs": [
    {
     "data": {
      "text/plain": [
       "1"
      ]
     },
     "execution_count": 15,
     "metadata": {},
     "output_type": "execute_result"
    }
   ],
   "source": [
    "example(*[2,1,43])"
   ]
  },
  {
   "cell_type": "code",
   "execution_count": 39,
   "id": "ae55def9-2867-48da-96f3-75ba0c3c92e3",
   "metadata": {},
   "outputs": [
    {
     "data": {
      "text/plain": [
       "1"
      ]
     },
     "execution_count": 39,
     "metadata": {},
     "output_type": "execute_result"
    }
   ],
   "source": [
    "example(z=43, y=1, x=2)"
   ]
  },
  {
   "cell_type": "code",
   "execution_count": 41,
   "id": "8311daa8-21ad-4138-9ce6-d942629e1c80",
   "metadata": {},
   "outputs": [
    {
     "data": {
      "text/plain": [
       "1"
      ]
     },
     "execution_count": 41,
     "metadata": {},
     "output_type": "execute_result"
    }
   ],
   "source": [
    "example(**{'x':2, 'y':1, 'z':43})"
   ]
  },
  {
   "cell_type": "code",
   "execution_count": 43,
   "id": "f2a4ab90-c64d-464d-8129-ecb7a762886e",
   "metadata": {},
   "outputs": [
    {
     "data": {
      "text/plain": [
       "1"
      ]
     },
     "execution_count": 43,
     "metadata": {},
     "output_type": "execute_result"
    }
   ],
   "source": [
    "example(2, z=43, y=1)"
   ]
  },
  {
   "cell_type": "code",
   "execution_count": 45,
   "id": "e47a2eb7-243d-4aa0-be0e-bd0b236f3419",
   "metadata": {},
   "outputs": [
    {
     "ename": "SyntaxError",
     "evalue": "positional argument follows keyword argument (146853395.py, line 1)",
     "output_type": "error",
     "traceback": [
      "\u001b[1;36m  Cell \u001b[1;32mIn[45], line 1\u001b[1;36m\u001b[0m\n\u001b[1;33m    example(z=43,2,y=1)\u001b[0m\n\u001b[1;37m                      ^\u001b[0m\n\u001b[1;31mSyntaxError\u001b[0m\u001b[1;31m:\u001b[0m positional argument follows keyword argument\n"
     ]
    }
   ],
   "source": [
    "example(z=43,2,y=1)"
   ]
  },
  {
   "cell_type": "code",
   "execution_count": 47,
   "id": "06aa7be5-a010-43bc-a8e2-0e3f9f81f8b1",
   "metadata": {},
   "outputs": [
    {
     "data": {
      "text/plain": [
       "1"
      ]
     },
     "execution_count": 47,
     "metadata": {},
     "output_type": "execute_result"
    }
   ],
   "source": [
    "example(**{'x':2, 'y':1, 'z':43})\n"
   ]
  },
  {
   "cell_type": "code",
   "execution_count": null,
   "id": "97591d3c-cc23-4b3e-a08e-6a1372b1b60b",
   "metadata": {},
   "outputs": [],
   "source": [
    "# Practice Questions"
   ]
  },
  {
   "cell_type": "code",
   "execution_count": 2,
   "id": "f09c8bab-c5dd-4ac5-9182-7b42286ce37a",
   "metadata": {},
   "outputs": [
    {
     "data": {
      "text/plain": [
       "'ATGCTACGGATACTT'"
      ]
     },
     "execution_count": 2,
     "metadata": {},
     "output_type": "execute_result"
    }
   ],
   "source": [
    "def RNA_to_DNA(RNA):\n",
    "    x=RNA.replace('U', 'T')\n",
    "    return x\n",
    "RNA=\"AUGCUACGGAUACUU\"\n",
    "RNA_to_DNA(RNA)"
   ]
  },
  {
   "cell_type": "code",
   "execution_count": 4,
   "id": "894f0b99-54b0-495c-8301-8189ac25689c",
   "metadata": {},
   "outputs": [
    {
     "data": {
      "text/plain": [
       "20.5"
      ]
     },
     "execution_count": 4,
     "metadata": {},
     "output_type": "execute_result"
    }
   ],
   "source": [
    "def summation(a,b,c):\n",
    "    x=a+b+c\n",
    "    return x\n",
    "a,b,c=12,5.5,3\n",
    "summation(a,b,c)"
   ]
  },
  {
   "cell_type": "code",
   "execution_count": 11,
   "id": "38371e14-5ee8-4c96-879b-2bb879461880",
   "metadata": {},
   "outputs": [
    {
     "data": {
      "text/plain": [
       "(4, 16)"
      ]
     },
     "execution_count": 11,
     "metadata": {},
     "output_type": "execute_result"
    }
   ],
   "source": [
    "def square(x, y):\n",
    "    return x**2,y**2\n",
    "square(*(2, 4))"
   ]
  },
  {
   "cell_type": "code",
   "execution_count": 31,
   "id": "46cdd73c-f648-47fc-8e5a-a7b8fbf2ac90",
   "metadata": {},
   "outputs": [
    {
     "name": "stdout",
     "output_type": "stream",
     "text": [
      "name Malaikah\n",
      "age 22\n",
      "city Islamabad\n"
     ]
    },
    {
     "data": {
      "text/plain": [
       "{'name': 'Malaikah', 'age': 22, 'city': 'Islamabad'}"
      ]
     },
     "execution_count": 31,
     "metadata": {},
     "output_type": "execute_result"
    }
   ],
   "source": [
    "def key_value(dictionary):\n",
    "    for k, v in dictionary.items():\n",
    "        print(k, v)  \n",
    "    return dictionary  \n",
    "\n",
    "dictionary = {\"name\": \"Malaikah\", \"age\": 22, \"city\": \"Islamabad\"}\n",
    "key_value(dictionary)\n"
   ]
  },
  {
   "cell_type": "code",
   "execution_count": 35,
   "id": "79af5f1d-c2a3-4bc5-892a-34bbafee049c",
   "metadata": {},
   "outputs": [],
   "source": [
    "def no_return(x, y):\n",
    "    pass\n",
    "\n",
    "no_return(3, 4)"
   ]
  },
  {
   "cell_type": "code",
   "execution_count": 45,
   "id": "9191ef9c-63f8-4dad-990d-7e9704725412",
   "metadata": {},
   "outputs": [],
   "source": [
    "def multiply(x, y):\n",
    "    a=x*y\n",
    "    return None\n",
    "   \n",
    "multiply(3, 4)"
   ]
  },
  {
   "cell_type": "code",
   "execution_count": null,
   "id": "f5c1408c-9c20-4edf-aaee-5d0b397ed0d7",
   "metadata": {},
   "outputs": [],
   "source": []
  }
 ],
 "metadata": {
  "kernelspec": {
   "display_name": "Python 3 (ipykernel)",
   "language": "python",
   "name": "python3"
  },
  "language_info": {
   "codemirror_mode": {
    "name": "ipython",
    "version": 3
   },
   "file_extension": ".py",
   "mimetype": "text/x-python",
   "name": "python",
   "nbconvert_exporter": "python",
   "pygments_lexer": "ipython3",
   "version": "3.12.4"
  }
 },
 "nbformat": 4,
 "nbformat_minor": 5
}
