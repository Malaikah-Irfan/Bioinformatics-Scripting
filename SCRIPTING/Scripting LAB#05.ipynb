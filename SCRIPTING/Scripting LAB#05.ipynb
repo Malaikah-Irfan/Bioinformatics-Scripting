{
 "cells": [
  {
   "cell_type": "code",
   "execution_count": 48,
   "id": "a12b9df6-317a-4018-8489-3160d04fbdf5",
   "metadata": {},
   "outputs": [
    {
     "name": "stdout",
     "output_type": "stream",
     "text": [
      "['A', 'T', 'C']\n"
     ]
    }
   ],
   "source": [
    "DNA=[\"A\",\"T\"]\n",
    "DNA.append(\"C\")\n",
    "print(DNA)"
   ]
  },
  {
   "cell_type": "code",
   "execution_count": 50,
   "id": "8076dede-1951-4cbe-9167-3883ddb4684b",
   "metadata": {},
   "outputs": [
    {
     "name": "stdout",
     "output_type": "stream",
     "text": [
      "['A', 'T', 'C', ['G', 'A']]\n"
     ]
    }
   ],
   "source": [
    "DNA.append([\"G\", \"A\"])\n",
    "print(DNA)"
   ]
  },
  {
   "cell_type": "code",
   "execution_count": 52,
   "id": "8d7091b3-95a5-4920-a446-a81bacd37de2",
   "metadata": {},
   "outputs": [
    {
     "name": "stdout",
     "output_type": "stream",
     "text": [
      "['A', 'T', 'C', 'T']\n"
     ]
    }
   ],
   "source": [
    "DNA = [\"A\", \"T\"]\n",
    "DNA.extend([\"C\", \"T\"])\n",
    "print(DNA)"
   ]
  },
  {
   "cell_type": "code",
   "execution_count": 54,
   "id": "58274b5e-d693-45c7-b691-2ec94d9f655c",
   "metadata": {},
   "outputs": [
    {
     "name": "stdout",
     "output_type": "stream",
     "text": [
      "['A', 'T', 'C', 'T', 'A', 'G']\n"
     ]
    }
   ],
   "source": [
    "DNA.extend(\"AG\")\n",
    "print(DNA)"
   ]
  },
  {
   "cell_type": "code",
   "execution_count": 56,
   "id": "b3907b71-f6df-4147-ac2d-31a1210858d6",
   "metadata": {},
   "outputs": [
    {
     "name": "stdout",
     "output_type": "stream",
     "text": [
      "['A', 'G', 'T']\n"
     ]
    }
   ],
   "source": [
    "DNA = [\"A\", \"T\"]\n",
    "DNA.insert(1, \"G\")\n",
    "print(DNA)"
   ]
  },
  {
   "cell_type": "code",
   "execution_count": 78,
   "id": "a615a7c0-a02a-447d-a0b6-f131a94b8ffd",
   "metadata": {},
   "outputs": [
    {
     "name": "stdout",
     "output_type": "stream",
     "text": [
      "['A', ['U', 'W'], ['U', 'W'], ['U', 'W'], ['U', 'W'], ['U', 'W'], ['U', 'W'], ['U', 'W'], 'G', 'T']\n"
     ]
    }
   ],
   "source": [
    "DNA.insert(1,[\"U\", \"W\"])\n",
    "print(DNA)"
   ]
  },
  {
   "cell_type": "code",
   "execution_count": 80,
   "id": "f0070e28-d27a-487a-9cc3-332dee1be424",
   "metadata": {},
   "outputs": [
    {
     "data": {
      "text/plain": [
       "'G'"
      ]
     },
     "execution_count": 80,
     "metadata": {},
     "output_type": "execute_result"
    }
   ],
   "source": [
    "DNA = [\"A\", \"T\", \"C\", \"G\"]\n",
    "DNA.pop()"
   ]
  },
  {
   "cell_type": "code",
   "execution_count": 82,
   "id": "f42a7eed-87a5-4be4-8a47-89066f7f4bce",
   "metadata": {},
   "outputs": [
    {
     "name": "stdout",
     "output_type": "stream",
     "text": [
      "['A', 'T', 'C']\n"
     ]
    }
   ],
   "source": [
    "print(DNA)"
   ]
  },
  {
   "cell_type": "code",
   "execution_count": 84,
   "id": "fe46bca3-2fe6-4736-942b-56f02d699b90",
   "metadata": {},
   "outputs": [
    {
     "data": {
      "text/plain": [
       "'T'"
      ]
     },
     "execution_count": 84,
     "metadata": {},
     "output_type": "execute_result"
    }
   ],
   "source": [
    "DNA.pop(1)"
   ]
  },
  {
   "cell_type": "code",
   "execution_count": 86,
   "id": "5e2b1cf6-1189-4739-98cf-a83d18c96fd2",
   "metadata": {},
   "outputs": [
    {
     "name": "stdout",
     "output_type": "stream",
     "text": [
      "['A', 'C']\n"
     ]
    }
   ],
   "source": [
    "print(DNA)"
   ]
  },
  {
   "cell_type": "code",
   "execution_count": 88,
   "id": "f0f7c9c2-1d88-4700-8ac0-d4db83303278",
   "metadata": {},
   "outputs": [
    {
     "data": {
      "text/plain": [
       "['T', 'C', 'G']"
      ]
     },
     "execution_count": 88,
     "metadata": {},
     "output_type": "execute_result"
    }
   ],
   "source": [
    "DNA = [\"A\", \"T\", \"C\", \"G\"]\n",
    "DNA.remove(\"A\")\n",
    "DNA"
   ]
  },
  {
   "cell_type": "code",
   "execution_count": 90,
   "id": "0512c5f6-1b30-4f7f-a66f-cbd54396b109",
   "metadata": {},
   "outputs": [
    {
     "ename": "ValueError",
     "evalue": "list.remove(x): x not in list",
     "output_type": "error",
     "traceback": [
      "\u001b[1;31m---------------------------------------------------------------------------\u001b[0m",
      "\u001b[1;31mValueError\u001b[0m                                Traceback (most recent call last)",
      "Cell \u001b[1;32mIn[90], line 1\u001b[0m\n\u001b[1;32m----> 1\u001b[0m DNA\u001b[38;5;241m.\u001b[39mremove(\u001b[38;5;124m\"\u001b[39m\u001b[38;5;124mt\u001b[39m\u001b[38;5;124m\"\u001b[39m)\n",
      "\u001b[1;31mValueError\u001b[0m: list.remove(x): x not in list"
     ]
    }
   ],
   "source": [
    "DNA.remove(\"t\")"
   ]
  },
  {
   "cell_type": "code",
   "execution_count": null,
   "id": "7da9c017-2e82-4d3b-b059-30fad5c24d03",
   "metadata": {},
   "outputs": [],
   "source": []
  },
  {
   "cell_type": "code",
   "execution_count": null,
   "id": "adb96e0a-5ceb-490e-bcc4-70763ac839c4",
   "metadata": {},
   "outputs": [],
   "source": []
  },
  {
   "cell_type": "code",
   "execution_count": 7,
   "id": "be1a0c39-3c23-4052-86cc-82ebb0e2d994",
   "metadata": {},
   "outputs": [
    {
     "name": "stdout",
     "output_type": "stream",
     "text": [
      "A\n",
      "T\n",
      "G\n",
      "C\n",
      "A\n",
      "G\n",
      "C\n",
      "T\n",
      "Outside loop\n"
     ]
    }
   ],
   "source": [
    "DNA = \"ATGCAGCT\"\n",
    "i=0\n",
    "while i< len(DNA):\n",
    "    print(DNA[i])\n",
    "    i+=1\n",
    "print(\"Outside loop\")"
   ]
  },
  {
   "cell_type": "code",
   "execution_count": 28,
   "id": "e2a2f7a3-b02f-414d-bbd5-bf642daf4c47",
   "metadata": {},
   "outputs": [
    {
     "name": "stdout",
     "output_type": "stream",
     "text": [
      "ATGCAGCT\n",
      "Outside loop\n"
     ]
    }
   ],
   "source": [
    "DNA = \"ATGCAGCT\"\n",
    "for base in DNA:\n",
    "    print(base,end=\"\")\n",
    "print(\"\\nOutside loop\")"
   ]
  },
  {
   "cell_type": "code",
   "execution_count": 30,
   "id": "cbf385b6-94af-493e-9570-3b76ca8f08a6",
   "metadata": {},
   "outputs": [
    {
     "name": "stdout",
     "output_type": "stream",
     "text": [
      "8\n",
      "6\n",
      "4\n",
      "2\n",
      "0\n"
     ]
    }
   ],
   "source": [
    "x=10\n",
    "while x:\n",
    "    x=x-1\n",
    "    if x%2!=0:\n",
    "        continue\n",
    "    print(x)"
   ]
  },
  {
   "cell_type": "code",
   "execution_count": 38,
   "id": "33018739-3ae2-4a6e-af33-311f88d2136f",
   "metadata": {},
   "outputs": [
    {
     "name": "stdin",
     "output_type": "stream",
     "text": [
      "Enter name:  Malaikah Irfan\n",
      "Enter age:  22\n"
     ]
    },
    {
     "name": "stdout",
     "output_type": "stream",
     "text": [
      "Age is  484\n"
     ]
    },
    {
     "name": "stdin",
     "output_type": "stream",
     "text": [
      "Enter name:  stop\n"
     ]
    }
   ],
   "source": [
    "while True:\n",
    "    name=input(\"Enter name: \")\n",
    "    if name==\"stop\":\n",
    "        break\n",
    "    age=input(\"Enter age: \")\n",
    "    print(\"Age is \",int(age)**2)"
   ]
  },
  {
   "cell_type": "code",
   "execution_count": 44,
   "id": "87bd42eb-df10-45fd-bd68-3b8ae555b657",
   "metadata": {},
   "outputs": [],
   "source": [
    "x=4\n",
    "if x>0:\n",
    "    pass"
   ]
  },
  {
   "cell_type": "code",
   "execution_count": 46,
   "id": "6ef3ea48-550c-4dd9-b3e7-2296b464ce85",
   "metadata": {},
   "outputs": [
    {
     "name": "stdout",
     "output_type": "stream",
     "text": [
      "Invalid\n",
      "Invalid\n",
      "Invalid\n"
     ]
    }
   ],
   "source": [
    "def dnaDt(dna):\n",
    "    for base in dna:\n",
    "        if base not in \"ARCG\":\n",
    "            print(\"Invalid\")\n",
    "            break\n",
    "    else:\n",
    "        print(\"Valid DNA\")\n",
    "dnaDt(\"ATGCTGAC\")\n",
    "dnaDt(\"ATGWGT\")\n",
    "dnaDt(\"12344\")"
   ]
  },
  {
   "cell_type": "code",
   "execution_count": null,
   "id": "0af2ffe0-eda1-4bcf-b873-5a11dc0b8693",
   "metadata": {},
   "outputs": [],
   "source": []
  },
  {
   "cell_type": "code",
   "execution_count": null,
   "id": "4084d2ea-6c93-4613-8fb5-bcc4a041b68c",
   "metadata": {},
   "outputs": [],
   "source": []
  },
  {
   "cell_type": "code",
   "execution_count": null,
   "id": "8e36c1be-2e35-4f7a-a3a7-ce3519b13e69",
   "metadata": {},
   "outputs": [],
   "source": []
  },
  {
   "cell_type": "code",
   "execution_count": null,
   "id": "bcdf233f-a586-413c-b57f-4649a7ca9e74",
   "metadata": {},
   "outputs": [],
   "source": []
  },
  {
   "cell_type": "code",
   "execution_count": null,
   "id": "dc8ba88d-a9c8-4d80-b104-7b0c6b042213",
   "metadata": {},
   "outputs": [],
   "source": []
  },
  {
   "cell_type": "code",
   "execution_count": null,
   "id": "1998158f-f9a9-426e-a163-76070a5974a0",
   "metadata": {},
   "outputs": [],
   "source": []
  },
  {
   "cell_type": "code",
   "execution_count": null,
   "id": "d18b15e4-9c0f-46c0-a089-d82e3e1087b9",
   "metadata": {},
   "outputs": [],
   "source": []
  }
 ],
 "metadata": {
  "kernelspec": {
   "display_name": "Python 3 (ipykernel)",
   "language": "python",
   "name": "python3"
  },
  "language_info": {
   "codemirror_mode": {
    "name": "ipython",
    "version": 3
   },
   "file_extension": ".py",
   "mimetype": "text/x-python",
   "name": "python",
   "nbconvert_exporter": "python",
   "pygments_lexer": "ipython3",
   "version": "3.12.4"
  }
 },
 "nbformat": 4,
 "nbformat_minor": 5
}
