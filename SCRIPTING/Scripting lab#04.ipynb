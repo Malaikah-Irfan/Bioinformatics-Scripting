{
 "cells": [
  {
   "cell_type": "code",
   "execution_count": 2,
   "id": "1ffd9e66-f0b8-4cf9-a9d7-9d8d8f832501",
   "metadata": {},
   "outputs": [
    {
     "data": {
      "text/plain": [
       "5"
      ]
     },
     "execution_count": 2,
     "metadata": {},
     "output_type": "execute_result"
    }
   ],
   "source": [
    "DNA = \"ATGCAGCTTAC\"\n",
    "DNA.find('GCT')"
   ]
  },
  {
   "cell_type": "code",
   "execution_count": 4,
   "id": "c1eb37b5-8159-4982-8be1-420922cb8f6a",
   "metadata": {},
   "outputs": [
    {
     "data": {
      "text/plain": [
       "-1"
      ]
     },
     "execution_count": 4,
     "metadata": {},
     "output_type": "execute_result"
    }
   ],
   "source": [
    "DNA.find('TTT')"
   ]
  },
  {
   "cell_type": "code",
   "execution_count": 6,
   "id": "acfa0fe2-9287-4626-855e-d031384a847f",
   "metadata": {},
   "outputs": [
    {
     "data": {
      "text/plain": [
       "5"
      ]
     },
     "execution_count": 6,
     "metadata": {},
     "output_type": "execute_result"
    }
   ],
   "source": [
    "DNA.index('GCT')"
   ]
  },
  {
   "cell_type": "code",
   "execution_count": 8,
   "id": "c49865ef-06e1-4ba8-9f19-63b02c392256",
   "metadata": {},
   "outputs": [
    {
     "ename": "ValueError",
     "evalue": "substring not found",
     "output_type": "error",
     "traceback": [
      "\u001b[1;31m---------------------------------------------------------------------------\u001b[0m",
      "\u001b[1;31mValueError\u001b[0m                                Traceback (most recent call last)",
      "Cell \u001b[1;32mIn[8], line 1\u001b[0m\n\u001b[1;32m----> 1\u001b[0m DNA\u001b[38;5;241m.\u001b[39mindex(\u001b[38;5;124m'\u001b[39m\u001b[38;5;124mTTT\u001b[39m\u001b[38;5;124m'\u001b[39m)\n",
      "\u001b[1;31mValueError\u001b[0m: substring not found"
     ]
    }
   ],
   "source": [
    "DNA.index('TTT')"
   ]
  },
  {
   "cell_type": "code",
   "execution_count": 10,
   "id": "e49e0591-9d63-43e1-8998-2f6d0b88acdd",
   "metadata": {},
   "outputs": [
    {
     "data": {
      "text/plain": [
       "2"
      ]
     },
     "execution_count": 10,
     "metadata": {},
     "output_type": "execute_result"
    }
   ],
   "source": [
    "DNA = \"ATGCAGCTTAC\"\n",
    "DNA.find('GC')"
   ]
  },
  {
   "cell_type": "code",
   "execution_count": 12,
   "id": "481ad5be-076b-4156-b73e-728b1af7cf9e",
   "metadata": {},
   "outputs": [
    {
     "data": {
      "text/plain": [
       "5"
      ]
     },
     "execution_count": 12,
     "metadata": {},
     "output_type": "execute_result"
    }
   ],
   "source": [
    "DNA.find('GC',3)"
   ]
  },
  {
   "cell_type": "code",
   "execution_count": 14,
   "id": "8dd6d9c3-ebf3-4896-9ff7-317e894efcb2",
   "metadata": {},
   "outputs": [
    {
     "data": {
      "text/plain": [
       "2"
      ]
     },
     "execution_count": 14,
     "metadata": {},
     "output_type": "execute_result"
    }
   ],
   "source": [
    "DNA.index('GC')"
   ]
  },
  {
   "cell_type": "code",
   "execution_count": 16,
   "id": "10481c81-cf4b-4b45-9136-cdb438b5df25",
   "metadata": {},
   "outputs": [
    {
     "data": {
      "text/plain": [
       "5"
      ]
     },
     "execution_count": 16,
     "metadata": {},
     "output_type": "execute_result"
    }
   ],
   "source": [
    "DNA.index('GC',3)"
   ]
  },
  {
   "cell_type": "code",
   "execution_count": 18,
   "id": "a377e147-3b24-48d2-b6da-d617050ea10a",
   "metadata": {},
   "outputs": [
    {
     "data": {
      "text/plain": [
       "3"
      ]
     },
     "execution_count": 18,
     "metadata": {},
     "output_type": "execute_result"
    }
   ],
   "source": [
    "DNA = \"ATCGCGG\"\n",
    "DNA.count('G')"
   ]
  },
  {
   "cell_type": "code",
   "execution_count": 20,
   "id": "63dc87af-2145-4c5d-9f98-883f5a654502",
   "metadata": {},
   "outputs": [
    {
     "data": {
      "text/plain": [
       "1"
      ]
     },
     "execution_count": 20,
     "metadata": {},
     "output_type": "execute_result"
    }
   ],
   "source": [
    "DNA.count('G', 0, 5)"
   ]
  },
  {
   "cell_type": "code",
   "execution_count": 22,
   "id": "67933a01-a71f-4285-94b0-eb90c4f5691d",
   "metadata": {},
   "outputs": [
    {
     "data": {
      "text/plain": [
       "2"
      ]
     },
     "execution_count": 22,
     "metadata": {},
     "output_type": "execute_result"
    }
   ],
   "source": [
    "seq = \"ATCCCCCGG\"\n",
    "seq.count(\"CC\")"
   ]
  },
  {
   "cell_type": "code",
   "execution_count": 30,
   "id": "26aaa2c6-c08b-4fd3-b83f-4e108953b75d",
   "metadata": {},
   "outputs": [
    {
     "data": {
      "text/plain": [
       "1"
      ]
     },
     "execution_count": 30,
     "metadata": {},
     "output_type": "execute_result"
    }
   ],
   "source": [
    "T = (1, 2, 3, 2, 4, 2)\n",
    "\n",
    "# first appearance of 2\n",
    "T.index(2)"
   ]
  },
  {
   "cell_type": "code",
   "execution_count": 44,
   "id": "3045adbf-64e6-4f1f-bef1-d912304e62dd",
   "metadata": {},
   "outputs": [
    {
     "data": {
      "text/plain": [
       "3"
      ]
     },
     "execution_count": 44,
     "metadata": {},
     "output_type": "execute_result"
    }
   ],
   "source": [
    "# appearance after position 2\n",
    "T.index(2,2) "
   ]
  },
  {
   "cell_type": "code",
   "execution_count": 42,
   "id": "e748aff8-c528-4dbb-9f99-7b04eb3282d1",
   "metadata": {},
   "outputs": [
    {
     "data": {
      "text/plain": [
       "3"
      ]
     },
     "execution_count": 42,
     "metadata": {},
     "output_type": "execute_result"
    }
   ],
   "source": [
    "# How many 2s are there?\n",
    "T.count(2) "
   ]
  },
  {
   "cell_type": "code",
   "execution_count": 46,
   "id": "d513a0ce-5929-4968-8cbc-e87a82ee59e4",
   "metadata": {},
   "outputs": [
    {
     "data": {
      "text/plain": [
       "['AT', 'TT']"
      ]
     },
     "execution_count": 46,
     "metadata": {},
     "output_type": "execute_result"
    }
   ],
   "source": [
    "DNA = 'ATGCTT'\n",
    "DNA.split('GC')"
   ]
  },
  {
   "cell_type": "code",
   "execution_count": 48,
   "id": "5154533b-d343-400f-9459-d839ffacd13d",
   "metadata": {},
   "outputs": [
    {
     "data": {
      "text/plain": [
       "'AT'"
      ]
     },
     "execution_count": 48,
     "metadata": {},
     "output_type": "execute_result"
    }
   ],
   "source": [
    "DNA.split('GC')[0]"
   ]
  },
  {
   "cell_type": "code",
   "execution_count": 50,
   "id": "d23c3806-219f-4ba8-905b-21ae31b99c0f",
   "metadata": {},
   "outputs": [
    {
     "data": {
      "text/plain": [
       "['A', 'GC', '', '']"
      ]
     },
     "execution_count": 50,
     "metadata": {},
     "output_type": "execute_result"
    }
   ],
   "source": [
    "DNA.split('T')"
   ]
  },
  {
   "cell_type": "code",
   "execution_count": 52,
   "id": "7b237991-d2eb-407c-ae78-0f20ff23dc14",
   "metadata": {},
   "outputs": [
    {
     "data": {
      "text/plain": [
       "['tumor', 'suppressor', 'gene']"
      ]
     },
     "execution_count": 52,
     "metadata": {},
     "output_type": "execute_result"
    }
   ],
   "source": [
    "t = 'tumor suppressor gene'\n",
    "t.split()"
   ]
  },
  {
   "cell_type": "code",
   "execution_count": 56,
   "id": "b73e70ec-88ef-4d3e-8f87-c878a3e2295d",
   "metadata": {},
   "outputs": [
    {
     "data": {
      "text/plain": [
       "'tumor suppressor gene'"
      ]
     },
     "execution_count": 56,
     "metadata": {},
     "output_type": "execute_result"
    }
   ],
   "source": [
    "t = 'tumor suppressor gene '\n",
    "t.strip()"
   ]
  },
  {
   "cell_type": "code",
   "execution_count": 69,
   "id": "f849820f-c040-4c0f-93de-0645fcfe0522",
   "metadata": {},
   "outputs": [
    {
     "data": {
      "text/plain": [
       "'ATCUCUU'"
      ]
     },
     "execution_count": 69,
     "metadata": {},
     "output_type": "execute_result"
    }
   ],
   "source": [
    "DNA = \"ATCGCGG\"\n",
    "DNA.replace('G', 'U')"
   ]
  },
  {
   "cell_type": "code",
   "execution_count": 71,
   "id": "660b5c71-90d6-478b-9552-017c4d615707",
   "metadata": {},
   "outputs": [
    {
     "data": {
      "text/plain": [
       "'ATCUCUG'"
      ]
     },
     "execution_count": 71,
     "metadata": {},
     "output_type": "execute_result"
    }
   ],
   "source": [
    "DNA.replace('G', 'U', 2)"
   ]
  },
  {
   "cell_type": "code",
   "execution_count": null,
   "id": "18eb37af-e957-490b-bdf7-58718901df15",
   "metadata": {},
   "outputs": [],
   "source": [
    "#ASSIGNMENT#"
   ]
  },
  {
   "cell_type": "code",
   "execution_count": 83,
   "id": "637a5e77-78fa-4d24-a435-d7d586e69459",
   "metadata": {},
   "outputs": [
    {
     "name": "stdout",
     "output_type": "stream",
     "text": [
      "AUGGGUCCGAUGAGUCAGUCAGUACAGUACAGUA\n"
     ]
    }
   ],
   "source": [
    "DNA=\"ATGGGTCCGATGAGTCAGTCAGTACAGTACAGTA\"\n",
    "RNA= DNA.replace('T','U')\n",
    "print(RNA)"
   ]
  },
  {
   "cell_type": "code",
   "execution_count": 87,
   "id": "4e0e6a1c-e39f-4a65-b9e0-9bd78cdbfab1",
   "metadata": {},
   "outputs": [
    {
     "data": {
      "text/plain": [
       "1"
      ]
     },
     "execution_count": 87,
     "metadata": {},
     "output_type": "execute_result"
    }
   ],
   "source": [
    "RNA.count('GGG')"
   ]
  },
  {
   "cell_type": "code",
   "execution_count": 89,
   "id": "31c12c2a-c618-4e84-adee-948433699ca2",
   "metadata": {},
   "outputs": [
    {
     "data": {
      "text/plain": [
       "1"
      ]
     },
     "execution_count": 89,
     "metadata": {},
     "output_type": "execute_result"
    }
   ],
   "source": [
    "RNA.index('U')"
   ]
  },
  {
   "cell_type": "code",
   "execution_count": 91,
   "id": "3bacb32b-2789-4efe-af96-d9764497c76e",
   "metadata": {},
   "outputs": [
    {
     "data": {
      "text/plain": [
       "-1"
      ]
     },
     "execution_count": 91,
     "metadata": {},
     "output_type": "execute_result"
    }
   ],
   "source": [
    "RNA.find('W')"
   ]
  },
  {
   "cell_type": "code",
   "execution_count": 93,
   "id": "c0c7ab67-7650-40c5-8ec0-40c7aeac988e",
   "metadata": {},
   "outputs": [
    {
     "ename": "ValueError",
     "evalue": "substring not found",
     "output_type": "error",
     "traceback": [
      "\u001b[1;31m---------------------------------------------------------------------------\u001b[0m",
      "\u001b[1;31mValueError\u001b[0m                                Traceback (most recent call last)",
      "Cell \u001b[1;32mIn[93], line 1\u001b[0m\n\u001b[1;32m----> 1\u001b[0m RNA\u001b[38;5;241m.\u001b[39mindex(\u001b[38;5;124m'\u001b[39m\u001b[38;5;124mW\u001b[39m\u001b[38;5;124m'\u001b[39m)\n",
      "\u001b[1;31mValueError\u001b[0m: substring not found"
     ]
    }
   ],
   "source": [
    "RNA.index('W')"
   ]
  },
  {
   "cell_type": "code",
   "execution_count": null,
   "id": "652e63af-4d52-484f-a3d2-1ab7aa91f330",
   "metadata": {},
   "outputs": [],
   "source": []
  }
 ],
 "metadata": {
  "kernelspec": {
   "display_name": "Python 3 (ipykernel)",
   "language": "python",
   "name": "python3"
  },
  "language_info": {
   "codemirror_mode": {
    "name": "ipython",
    "version": 3
   },
   "file_extension": ".py",
   "mimetype": "text/x-python",
   "name": "python",
   "nbconvert_exporter": "python",
   "pygments_lexer": "ipython3",
   "version": "3.12.4"
  }
 },
 "nbformat": 4,
 "nbformat_minor": 5
}
