{
 "cells": [
  {
   "cell_type": "code",
   "execution_count": 9,
   "id": "a29e527b-f81c-4a6a-a56f-6c45ec03101b",
   "metadata": {},
   "outputs": [],
   "source": [
    "import pandas as pd"
   ]
  },
  {
   "cell_type": "code",
   "execution_count": 68,
   "id": "ae00b10b-2dc2-4270-96ee-3b542e4528ee",
   "metadata": {},
   "outputs": [
    {
     "name": "stdout",
     "output_type": "stream",
     "text": [
      "     Student Name  Roll Number                   Subject  Marks    Remarks\n",
      "0     Laiba Arsha           16  Bioinformatics Scripting   85.0  Excellent\n",
      "1  Malaikah Irfan           20                Statistics   90.0  Very Good\n",
      "2    Zainab Ikram           42   Artificial Intelligence    NaN        NaN\n"
     ]
    }
   ],
   "source": [
    "#Create a dataframe where col names would be [‘Student name’,’Roll Number’,’Subject’,’Marks’,’Remarks’]. Add rows according to your choice.\n",
    "df1=pd.DataFrame({'Student Name': pd.Series(['Laiba Arsha', 'Malaikah Irfan', 'Zainab Ikram']),\n",
    "                  'Roll Number': pd.Series([16,20,42]),\n",
    "                  'Subject': pd.Series(['Bioinformatics Scripting', 'Statistics', 'Artificial Intelligence']),\n",
    "                  'Marks': pd.Series([85, 90]),\n",
    "                  'Remarks': pd.Series(['Excellent', 'Very Good'])})\n",
    "print(df1)"
   ]
  },
  {
   "cell_type": "code",
   "execution_count": 62,
   "id": "79d94908-9688-4726-a0ee-e2cee480253a",
   "metadata": {},
   "outputs": [
    {
     "name": "stdout",
     "output_type": "stream",
     "text": [
      "Result of Subtraction:\n",
      "0    1\n",
      "1    1\n",
      "2    1\n",
      "3    1\n",
      "4    1\n",
      "dtype: int64\n"
     ]
    }
   ],
   "source": [
    "#Create a series of even number and a series of odd number, try to subtarct series 2 from series 1.\n",
    "even_series = pd.Series([2, 4, 6, 8, 10])\n",
    "odd_series = pd.Series([1, 3, 5, 7, 9])\n",
    "\n",
    "result_series = even_series - odd_series\n",
    "print(\"Result of Subtraction:\")\n",
    "print(result_series)\n"
   ]
  },
  {
   "cell_type": "code",
   "execution_count": 60,
   "id": "3de02328-bd1e-4444-a9dc-c386d43f992b",
   "metadata": {},
   "outputs": [
    {
     "name": "stdout",
     "output_type": "stream",
     "text": [
      "Maximum Value: 1267\n",
      "Minimum Value: 3\n"
     ]
    }
   ],
   "source": [
    "#Find max and min numbers from this ; [12,45,3,21,3,456,7,123,90,54,32,1267]\n",
    "\n",
    "numbers = pd.Series([12, 45, 3, 21, 3, 456, 7, 123, 90, 54, 32, 1267])\n",
    "\n",
    "max_value = max(numbers)\n",
    "min_value = min(numbers)\n",
    "\n",
    "print(\"Maximum Value:\", max_value)\n",
    "print(\"Minimum Value:\", min_value)\n"
   ]
  },
  {
   "cell_type": "code",
   "execution_count": 58,
   "id": "bad6340e-e998-498d-8184-15dfb50eaaaa",
   "metadata": {},
   "outputs": [
    {
     "name": "stdout",
     "output_type": "stream",
     "text": [
      "Books DataFrame:\n",
      "       Book Name         Author\n",
      "0   Harry Potter  J. K. Rowling\n",
      "1    The Shining   Stephen King\n",
      "2  War and Peace   Leo Tolstoy \n"
     ]
    }
   ],
   "source": [
    "#Create a dataframe from a dictionary where keys will be ‘Book Name’ and ‘author’.And the values will be of your own choice\n",
    "books_df = pd.DataFrame({\n",
    "    'Book Name': ['Harry Potter', 'The Shining', 'War and Peace'],\n",
    "    'Author': ['J. K. Rowling', 'Stephen King', 'Leo Tolstoy ']\n",
    "})\n",
    "print(\"Books DataFrame:\")\n",
    "print(books_df)\n"
   ]
  },
  {
   "cell_type": "code",
   "execution_count": 56,
   "id": "a2ee9ad6-5fee-439d-b265-33b5f263e911",
   "metadata": {},
   "outputs": [
    {
     "name": "stdout",
     "output_type": "stream",
     "text": [
      "Merged DataFrame:\n",
      "  S1  S2\n",
      "0  A   1\n",
      "1  B   2\n",
      "2  C   3\n",
      "3  D   4\n"
     ]
    }
   ],
   "source": [
    "#Write python programm to merge two series into a dataframe.\n",
    "series1 = pd.Series(['A', 'B', 'C', 'D'])\n",
    "series2 = pd.Series([1, 2, 3, 4])\n",
    "\n",
    "# Merge into a DataFrame\n",
    "merged_df = pd.DataFrame({'S1': series1, 'S2': series2})\n",
    "print(\"Merged DataFrame:\")\n",
    "print(merged_df)\n"
   ]
  },
  {
   "cell_type": "code",
   "execution_count": null,
   "id": "f1546852-5020-441a-9490-994c233536f7",
   "metadata": {},
   "outputs": [],
   "source": []
  }
 ],
 "metadata": {
  "kernelspec": {
   "display_name": "Python 3 (ipykernel)",
   "language": "python",
   "name": "python3"
  },
  "language_info": {
   "codemirror_mode": {
    "name": "ipython",
    "version": 3
   },
   "file_extension": ".py",
   "mimetype": "text/x-python",
   "name": "python",
   "nbconvert_exporter": "python",
   "pygments_lexer": "ipython3",
   "version": "3.12.4"
  }
 },
 "nbformat": 4,
 "nbformat_minor": 5
}
