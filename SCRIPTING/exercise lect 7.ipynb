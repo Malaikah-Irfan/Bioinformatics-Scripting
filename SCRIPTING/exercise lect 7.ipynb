{
 "cells": [
  {
   "cell_type": "code",
   "execution_count": 3,
   "id": "e3f3fada-6472-4969-836d-2c67904dbbd9",
   "metadata": {},
   "outputs": [],
   "source": [
    "import pandas as pd"
   ]
  },
  {
   "cell_type": "code",
   "execution_count": 5,
   "id": "cca7306c-419b-452e-a1c4-4fd135b4eee0",
   "metadata": {},
   "outputs": [
    {
     "name": "stdout",
     "output_type": "stream",
     "text": [
      "Original DataFrame:\n",
      "      Name   Age         City   Salary\n",
      "0    Alice  25.0     New York  50000.0\n",
      "1      Bob   NaN  Los Angeles  60000.0\n",
      "2  Charlie  30.0         None      NaN\n",
      "3     None  22.0      Chicago      NaN\n",
      "4      Eve   NaN      Houston  75000.0\n"
     ]
    }
   ],
   "source": [
    "# Creating a DataFrame with missing values\n",
    "data = {\n",
    "    \"Name\": [\"Alice\", \"Bob\", \"Charlie\", None, \"Eve\"],\n",
    "    \"Age\": [25, None, 30, 22, None],\n",
    "    \"City\": [\"New York\", \"Los Angeles\", None, \"Chicago\", \"Houston\"],\n",
    "    \"Salary\": [50000, 60000, None, None, 75000]\n",
    "}\n",
    "\n",
    "df = pd.DataFrame(data)\n",
    "\n",
    "print(\"Original DataFrame:\")\n",
    "print(df)"
   ]
  },
  {
   "cell_type": "code",
   "execution_count": null,
   "id": "4a240edd-a962-426f-936a-d7bf9b319444",
   "metadata": {},
   "outputs": [],
   "source": []
  }
 ],
 "metadata": {
  "kernelspec": {
   "display_name": "Python 3 (ipykernel)",
   "language": "python",
   "name": "python3"
  },
  "language_info": {
   "codemirror_mode": {
    "name": "ipython",
    "version": 3
   },
   "file_extension": ".py",
   "mimetype": "text/x-python",
   "name": "python",
   "nbconvert_exporter": "python",
   "pygments_lexer": "ipython3",
   "version": "3.12.4"
  }
 },
 "nbformat": 4,
 "nbformat_minor": 5
}
