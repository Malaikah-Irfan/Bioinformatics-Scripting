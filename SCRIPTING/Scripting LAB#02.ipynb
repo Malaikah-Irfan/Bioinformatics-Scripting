{
 "cells": [
  {
   "cell_type": "code",
   "execution_count": 67,
   "id": "5a1f6549-6339-4836-803c-e1ddd18ccdc0",
   "metadata": {},
   "outputs": [
    {
     "name": "stdin",
     "output_type": "stream",
     "text": [
      "Enter your name:  malaikah\n",
      "Enter your registration number:  sp22-bsi-020\n"
     ]
    },
    {
     "name": "stdout",
     "output_type": "stream",
     "text": [
      "The lenght of name is less then the lenght of registeration number.\n"
     ]
    }
   ],
   "source": [
    "name= input(\"Enter your name: \") \n",
    "Reg_no= input(\"Enter your registration number: \")\n",
    "\n",
    "if len(name)<len(Reg_no):\n",
    "    print(\"The lenght of name is less then the lenght of registeration number.\")\n",
    "else:\n",
    "    print(\"The lenght of name is greater then the lenght of registeration number.\")\n",
    "    "
   ]
  },
  {
   "cell_type": "code",
   "execution_count": 16,
   "id": "466eb66f-39a1-443c-951f-007912bd516f",
   "metadata": {},
   "outputs": [
    {
     "name": "stdin",
     "output_type": "stream",
     "text": [
      "Enter your age:  22\n"
     ]
    },
    {
     "name": "stdout",
     "output_type": "stream",
     "text": [
      "greater\n"
     ]
    }
   ],
   "source": [
    "age=input(\"Enter your age: \")\n",
    "a=int(age)\n",
    "if a<20 :\n",
    "    print(age)\n",
    "else:\n",
    "    print(\"greater\")\n"
   ]
  },
  {
   "cell_type": "code",
   "execution_count": 26,
   "id": "9e0ac554-8f3d-46b8-b543-58c3e40fce61",
   "metadata": {},
   "outputs": [
    {
     "name": "stdin",
     "output_type": "stream",
     "text": [
      "Enter your score:  90\n"
     ]
    },
    {
     "name": "stdout",
     "output_type": "stream",
     "text": [
      "Grade A\n"
     ]
    }
   ],
   "source": [
    "s=input(\"Enter your score: \")\n",
    "score=int(s)\n",
    "\n",
    "if score==100:\n",
    "    print(\"Grade A+\")\n",
    "elif score<=90 and score>80:\n",
    "    print(\"Grade A\")\n",
    "elif score<=80 and score>70:\n",
    "    print(\"Grade B+\")\n",
    "elif score<=70 and score>60:\n",
    "    print(\"Grade B-\")\n",
    "else :\n",
    "    print(\"Grade F\")\n"
   ]
  },
  {
   "cell_type": "code",
   "execution_count": 5,
   "id": "c9d7c069-dfd3-4e06-bae1-7395fd30c1f1",
   "metadata": {},
   "outputs": [
    {
     "name": "stdin",
     "output_type": "stream",
     "text": [
      "Enter an integer value... 3\n",
      "Enter an integer value...  1\n",
      "Enter an integer value...  2\n",
      "Enter an integer value...  3\n",
      "Enter an integer value...  4\n",
      "Enter an integer value...  5\n",
      "Enter an integer value...  0\n"
     ]
    },
    {
     "name": "stdout",
     "output_type": "stream",
     "text": [
      "Sum of given value is 18\n"
     ]
    }
   ],
   "source": [
    "sum = 0\n",
    "s=input(\"Enter an integer value...\")\n",
    "n =int(s)\n",
    "while n!=0:\n",
    "    sum=sum+n\n",
    "    s = input(\"Enter an integer value... \") \n",
    "    n = int(s)  \n",
    "\n",
    "print(\"Sum of given value is\", sum)"
   ]
  },
  {
   "cell_type": "code",
   "execution_count": 75,
   "id": "78615962-6226-4afc-bcba-b74f98d47207",
   "metadata": {},
   "outputs": [
    {
     "name": "stdin",
     "output_type": "stream",
     "text": [
      "num1:  1\n",
      "num2:  2\n",
      "num3:  3\n",
      "num4:  4\n",
      "num5:  5\n"
     ]
    },
    {
     "name": "stdout",
     "output_type": "stream",
     "text": [
      "6\n",
      "20\n"
     ]
    }
   ],
   "source": [
    "def add(num1,num2,num3):\n",
    "    print(num1+num2+num3)\n",
    "\n",
    "def multipl(num4,num5):\n",
    "    print(num4*num5)\n",
    "\n",
    "num1=int(input(\"num1: \"))\n",
    "num2=int(input(\"num2: \"))\n",
    "num3=int(input(\"num3: \"))\n",
    "num4=int(input(\"num4: \"))\n",
    "num5=int(input(\"num5: \"))\n",
    "\n",
    "add(num1,num2,num3)\n",
    "multipl(num4,num5)\n",
    "    "
   ]
  },
  {
   "cell_type": "code",
   "execution_count": 69,
   "id": "8386c0aa-8a08-4d06-a315-068339f3d440",
   "metadata": {},
   "outputs": [
    {
     "name": "stdin",
     "output_type": "stream",
     "text": [
      "What are your aimand goals in the future: i want to dive deeper in the field of structural bioinformatics\n"
     ]
    }
   ],
   "source": [
    "goals=input(\"What are your aimand goals in the future:\")\n"
   ]
  },
  {
   "cell_type": "code",
   "execution_count": null,
   "id": "435d5699-e6fa-477c-a05b-310e6e841215",
   "metadata": {},
   "outputs": [],
   "source": [
    "# defining and declaring function\n",
    "def add(num1,num2,num3):\n",
    "    print(num1+num2+num3)\n",
    "\n",
    "def multipl(num4,num5):\n",
    "    print(num4*num5)\n",
    "\n",
    "#Taking input from user\n",
    "num1=int(input(\"num1: \"))\n",
    "num2=int(input(\"num2: \"))\n",
    "num3=int(input(\"num3: \"))\n",
    "num4=int(input(\"num4: \"))\n",
    "num5=int(input(\"num5: \"))\n",
    "#calling function\n",
    "add(num1,num2,num3)\n",
    "multipl(num4,num5)"
   ]
  },
  {
   "cell_type": "code",
   "execution_count": 6,
   "id": "47206e8c-d01b-4989-a8d6-528bc5d0485e",
   "metadata": {},
   "outputs": [
    {
     "name": "stdin",
     "output_type": "stream",
     "text": [
      "enter a number 5\n"
     ]
    },
    {
     "name": "stdout",
     "output_type": "stream",
     "text": [
      "the number is odd\n"
     ]
    }
   ],
   "source": [
    "number=int(input(\"enter a number\"))\n",
    "if (number%2)==0:\n",
    "    print(\"the number is even\")\n",
    "else:\n",
    "    print(\"the number is odd\")"
   ]
  },
  {
   "cell_type": "code",
   "execution_count": 7,
   "id": "6b16b636-099c-45e7-b6a6-93e321864eb8",
   "metadata": {},
   "outputs": [
    {
     "name": "stdin",
     "output_type": "stream",
     "text": [
      "Enter the DNA sequence:  ATGCGTACGATAGCTAGCTGATCGTACGTAGCTGATCGATCGTACGCTAGCATCGTACGCTAGCGTACGATCGTACGATCGTACGCTAGCTAGCTAGCGTACGATG\n"
     ]
    },
    {
     "name": "stdout",
     "output_type": "stream",
     "text": [
      "The sequence does not match any of the EcoRI, BamHI, or HindIII sites.\n"
     ]
    }
   ],
   "source": [
    "# Define the recognition sequences for the enzymes\n",
    "ecoRI = \"GAATTC\"\n",
    "bamHI = \"GGATCC\"\n",
    "hindIII = \"AAGCTT\"\n",
    "\n",
    "# Function to check for the enzyme recognition site\n",
    "def check_restriction_site(sequence):\n",
    "    if ecoRI in sequence:\n",
    "        print(\"The sequence matches EcoRI site.\")\n",
    "    elif bamHI in sequence:\n",
    "        print(\"The sequence matches BamHI site.\")\n",
    "    elif hindIII in sequence:\n",
    "        print(\"The sequence matches HindIII site.\")\n",
    "    else:\n",
    "        print(\"The sequence does not match any of the EcoRI, BamHI, or HindIII sites.\")\n",
    "\n",
    "# Input sequence (you can replace this with user input if needed)\n",
    "sequence = input(\"Enter the DNA sequence: \").upper()  # Converts to uppercase to match the enzyme sites\n",
    "\n",
    "# Check the sequence\n",
    "check_restriction_site(sequence)\n"
   ]
  },
  {
   "cell_type": "code",
   "execution_count": 9,
   "id": "59845657-1306-44b2-8bfe-b8b4ceaced8b",
   "metadata": {},
   "outputs": [
    {
     "name": "stdout",
     "output_type": "stream",
     "text": [
      "Nancy\n",
      "My lucky number is 7, what is yours?\n",
      "My lucky number is 7, what is yours?\n"
     ]
    }
   ],
   "source": [
    "# Text\n",
    "x = \"Nancy\"\n",
    "print(x)\n",
    "# Combine numbers and text\n",
    "s = \"My lucky number is %d, what is yours?\" % 7\n",
    "print(s)\n",
    "# alternative method of combining numbers and text\n",
    "s = \"My lucky number is \" + str(7) + \", what is yours?\"\n",
    "print(s)"
   ]
  },
  {
   "cell_type": "code",
   "execution_count": 77,
   "id": "3bfd076d-1982-4b6d-bef6-449b77d430b5",
   "metadata": {},
   "outputs": [
    {
     "name": "stdout",
     "output_type": "stream",
     "text": [
      "Nancy\n",
      "My lucky number is 7, what is yours?\n",
      "My lucky number is 7, what is yours?\n",
      "Nancy!\n"
     ]
    }
   ],
   "source": [
    "# Text\n",
    "x = \"Nancy\"\n",
    "print(x)\n",
    "# Combine numbers and text\n",
    "s = \"My lucky number is %d, what is yours?\" % 7\n",
    "print(s)\n",
    "# Alternative method of combining numbers and text\n",
    "s = \"My lucky number is \" + str(7) + \", what is yours?\"\n",
    "print(s)\n",
    "# Adding a new character to the string 'x'\n",
    "new_x = x + \"!\"\n",
    "print(new_x)  "
   ]
  },
  {
   "cell_type": "code",
   "execution_count": 11,
   "id": "1c5b5616-8919-467c-9a08-62b326dcba03",
   "metadata": {},
   "outputs": [
    {
     "name": "stdout",
     "output_type": "stream",
     "text": [
      "(1,)\n"
     ]
    }
   ],
   "source": [
    "my_tuple = (1,)\n",
    "my_string = str(my_tuple)  \n",
    "print(my_string) "
   ]
  },
  {
   "cell_type": "code",
   "execution_count": 85,
   "id": "cfd08e56-25e4-449d-9977-a9eaa659c70a",
   "metadata": {},
   "outputs": [
    {
     "name": "stdout",
     "output_type": "stream",
     "text": [
      "('H', 'e', 'l', 'l', 'o')\n"
     ]
    }
   ],
   "source": [
    "my_string = \"Hello\"\n",
    "my_tuple = tuple(my_string)\n",
    "print(my_tuple)  \n"
   ]
  },
  {
   "cell_type": "code",
   "execution_count": null,
   "id": "31e9b8ba-594b-4819-bc79-70d91459f36d",
   "metadata": {},
   "outputs": [],
   "source": []
  }
 ],
 "metadata": {
  "kernelspec": {
   "display_name": "Python 3 (ipykernel)",
   "language": "python",
   "name": "python3"
  },
  "language_info": {
   "codemirror_mode": {
    "name": "ipython",
    "version": 3
   },
   "file_extension": ".py",
   "mimetype": "text/x-python",
   "name": "python",
   "nbconvert_exporter": "python",
   "pygments_lexer": "ipython3",
   "version": "3.12.4"
  }
 },
 "nbformat": 4,
 "nbformat_minor": 5
}
