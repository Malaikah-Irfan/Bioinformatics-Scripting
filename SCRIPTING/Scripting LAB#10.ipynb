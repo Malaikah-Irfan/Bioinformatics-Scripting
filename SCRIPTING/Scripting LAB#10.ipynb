{
 "cells": [
  {
   "cell_type": "code",
   "execution_count": 2,
   "id": "b1690a62-5b82-4f1c-9f6e-3408ad58625e",
   "metadata": {},
   "outputs": [
    {
     "data": {
      "text/plain": [
       "['A', 10, ['T', 20], 30.0]"
      ]
     },
     "execution_count": 2,
     "metadata": {},
     "output_type": "execute_result"
    }
   ],
   "source": [
    "[\"A\",10,[\"T\",20],30.0]"
   ]
  },
  {
   "cell_type": "code",
   "execution_count": 4,
   "id": "f33610ce-b965-448c-9355-a579fca47fdc",
   "metadata": {},
   "outputs": [],
   "source": [
    "a = [\"A\", \"T\"] \n",
    "b = [] "
   ]
  },
  {
   "cell_type": "code",
   "execution_count": 6,
   "id": "c5937cd2-c087-4659-a04f-afe861ae8dec",
   "metadata": {},
   "outputs": [
    {
     "name": "stdout",
     "output_type": "stream",
     "text": [
      "['A', 'T'] []\n"
     ]
    }
   ],
   "source": [
    "print(a,b)"
   ]
  },
  {
   "cell_type": "code",
   "execution_count": 8,
   "id": "44eae01d-57d2-418a-ba4a-be3e7f6cdce3",
   "metadata": {},
   "outputs": [
    {
     "data": {
      "text/plain": [
       "list"
      ]
     },
     "execution_count": 8,
     "metadata": {},
     "output_type": "execute_result"
    }
   ],
   "source": [
    "type(a) "
   ]
  },
  {
   "cell_type": "code",
   "execution_count": 18,
   "id": "34765268-b04e-409e-8932-7156518ec043",
   "metadata": {},
   "outputs": [
    {
     "data": {
      "text/plain": [
       "range(1, 10, 2)"
      ]
     },
     "execution_count": 18,
     "metadata": {},
     "output_type": "execute_result"
    }
   ],
   "source": [
    "range(1,10,2)"
   ]
  },
  {
   "cell_type": "code",
   "execution_count": 20,
   "id": "004a80ea-0bd7-4c80-b9c4-1d72cbd71ebb",
   "metadata": {},
   "outputs": [
    {
     "data": {
      "text/plain": [
       "4"
      ]
     },
     "execution_count": 20,
     "metadata": {},
     "output_type": "execute_result"
    }
   ],
   "source": [
    "DNA = [\"A\", \"T\", \"G\", \"C\"]\n",
    ">>> len(DNA)"
   ]
  },
  {
   "cell_type": "code",
   "execution_count": 24,
   "id": "d62bd796-84d6-4f23-93ad-a3a2fb095f3d",
   "metadata": {},
   "outputs": [
    {
     "data": {
      "text/plain": [
       "2"
      ]
     },
     "execution_count": 24,
     "metadata": {},
     "output_type": "execute_result"
    }
   ],
   "source": [
    "len([[90,3],[\"T\",20]])\n"
   ]
  },
  {
   "cell_type": "code",
   "execution_count": 26,
   "id": "70c276f3-e73b-498a-9d08-846953e6210e",
   "metadata": {},
   "outputs": [
    {
     "name": "stdout",
     "output_type": "stream",
     "text": [
      "A\n",
      "T\n",
      "C\n",
      "G\n",
      "outside loop\n"
     ]
    }
   ],
   "source": [
    "DNA = [\"A\", \"T\", \"C\", \"G\"]\n",
    "for base in DNA:\n",
    "       print(base)\n",
    "print(\"outside loop\")"
   ]
  },
  {
   "cell_type": "code",
   "execution_count": 30,
   "id": "06a5f12e-2783-4890-9b01-51bd290b2c91",
   "metadata": {},
   "outputs": [
    {
     "name": "stdout",
     "output_type": "stream",
     "text": [
      "0 A\n",
      "1 T\n",
      "2 C\n",
      "3 G\n"
     ]
    }
   ],
   "source": [
    "DNA = [\"A\", \"T\", \"C\", \"G\"]\n",
    "for i in range(len(DNA)):\n",
    "   print(i,DNA[i])"
   ]
  },
  {
   "cell_type": "code",
   "execution_count": 32,
   "id": "8f4c68bb-9167-41b3-92be-ea1d713a9bc6",
   "metadata": {},
   "outputs": [
    {
     "name": "stdout",
     "output_type": "stream",
     "text": [
      "A,T,C,G,"
     ]
    }
   ],
   "source": [
    "DNA = [\"A\", \"T\", \"C\", \"G\"]\n",
    "i = 0\n",
    "while i < len(DNA):\n",
    "    print(DNA[i], end=\",\")\n",
    "    i += 1"
   ]
  },
  {
   "cell_type": "code",
   "execution_count": 36,
   "id": "269925fb-811f-4add-9630-10408d366152",
   "metadata": {},
   "outputs": [
    {
     "data": {
      "text/plain": [
       "['A', 'T']"
      ]
     },
     "execution_count": 36,
     "metadata": {},
     "output_type": "execute_result"
    }
   ],
   "source": [
    "DNA = [\"A\", \"T\", \"C\", \"G\"]\n",
    "DNA[0:2]"
   ]
  },
  {
   "cell_type": "code",
   "execution_count": 38,
   "id": "ac8828f5-f59b-499e-91eb-02f64abe8e6f",
   "metadata": {},
   "outputs": [
    {
     "name": "stdout",
     "output_type": "stream",
     "text": [
      "['A', 'T', 'C', 'G']\n"
     ]
    }
   ],
   "source": [
    "dna_at = [\"A\", \"T\"]\n",
    "dna_cg = [\"C\", \"G\"]\n",
    "print(dna_at + dna_cg)"
   ]
  },
  {
   "cell_type": "code",
   "execution_count": 40,
   "id": "7cc1f1ef-4e51-4d5b-bbfc-06429e334adb",
   "metadata": {},
   "outputs": [
    {
     "data": {
      "text/plain": [
       "['A', 'A', 'A', 'A']"
      ]
     },
     "execution_count": 40,
     "metadata": {},
     "output_type": "execute_result"
    }
   ],
   "source": [
    "[\"A\"]*4"
   ]
  },
  {
   "cell_type": "code",
   "execution_count": 42,
   "id": "91fc5455-684b-4c0b-accf-f11a8379676b",
   "metadata": {},
   "outputs": [
    {
     "data": {
      "text/plain": [
       "['A', 'T', 'C', 'G']"
      ]
     },
     "execution_count": 42,
     "metadata": {},
     "output_type": "execute_result"
    }
   ],
   "source": [
    "DNA = \"A T C G\"\n",
    "DNA.split()"
   ]
  },
  {
   "cell_type": "code",
   "execution_count": 46,
   "id": "e79f03d5-9d4b-4761-b8c6-d58cd3ab5cbe",
   "metadata": {},
   "outputs": [
    {
     "data": {
      "text/plain": [
       "str"
      ]
     },
     "execution_count": 46,
     "metadata": {},
     "output_type": "execute_result"
    }
   ],
   "source": [
    "type(a[0])"
   ]
  },
  {
   "cell_type": "code",
   "execution_count": 48,
   "id": "3e31eb55-1eed-439c-8435-6fa951a6d00b",
   "metadata": {},
   "outputs": [
    {
     "name": "stdout",
     "output_type": "stream",
     "text": [
      "ATCG\n"
     ]
    }
   ],
   "source": [
    "DNA = [\"A\", \"T\", \"C\", \"G\"]\n",
    "print(\"\".join(DNA))"
   ]
  },
  {
   "cell_type": "code",
   "execution_count": 50,
   "id": "5f03c820-7432-4b3b-ad65-e34ef0efdb65",
   "metadata": {},
   "outputs": [
    {
     "name": "stdout",
     "output_type": "stream",
     "text": [
      "['T', 'T', 'G', 'G']\n"
     ]
    }
   ],
   "source": [
    "DNA = [\"A\", \"T\", \"C\", \"G\"]\n",
    "DNA[0] = \"T\"\n",
    "DNA[-2] = \"G\"\n",
    "print(DNA)"
   ]
  },
  {
   "cell_type": "code",
   "execution_count": 52,
   "id": "912cab04-6e87-436b-898b-6ec72239949a",
   "metadata": {},
   "outputs": [
    {
     "name": "stdout",
     "output_type": "stream",
     "text": [
      "['T', 'A', 'C', 'G']\n"
     ]
    }
   ],
   "source": [
    "DNA = [\"A\", \"T\", \"C\", \"G\"]\n",
    "DNA[0:2] = [\"T\", \"A\"]\n",
    "print(DNA)"
   ]
  },
  {
   "cell_type": "code",
   "execution_count": 54,
   "id": "beef7274-8753-43dd-8232-003212b971e5",
   "metadata": {},
   "outputs": [
    {
     "data": {
      "text/plain": [
       "['A', 'T', 'G', 'C']"
      ]
     },
     "execution_count": 54,
     "metadata": {},
     "output_type": "execute_result"
    }
   ],
   "source": [
    "DNA = list(\"ATGC\") #using iterable\n",
    "DNA"
   ]
  },
  {
   "cell_type": "code",
   "execution_count": null,
   "id": "30552720-e33f-4c3a-bdc4-94443236b401",
   "metadata": {},
   "outputs": [],
   "source": []
  },
  {
   "cell_type": "code",
   "execution_count": null,
   "id": "c392cd72-3cd7-4a08-8714-c23ac3c6d456",
   "metadata": {},
   "outputs": [],
   "source": []
  },
  {
   "cell_type": "code",
   "execution_count": null,
   "id": "45a794b2-f4ee-42ca-a748-16fa77853518",
   "metadata": {},
   "outputs": [],
   "source": []
  },
  {
   "cell_type": "code",
   "execution_count": null,
   "id": "0101eb35-fbf7-4800-8ba7-ee87edaf1305",
   "metadata": {},
   "outputs": [],
   "source": []
  },
  {
   "cell_type": "code",
   "execution_count": null,
   "id": "7635c180-d42c-489a-8499-40723462bdda",
   "metadata": {},
   "outputs": [],
   "source": []
  },
  {
   "cell_type": "code",
   "execution_count": null,
   "id": "7f64db7c-b159-4ae4-9ba0-355cadca12c9",
   "metadata": {},
   "outputs": [],
   "source": []
  }
 ],
 "metadata": {
  "kernelspec": {
   "display_name": "Python 3 (ipykernel)",
   "language": "python",
   "name": "python3"
  },
  "language_info": {
   "codemirror_mode": {
    "name": "ipython",
    "version": 3
   },
   "file_extension": ".py",
   "mimetype": "text/x-python",
   "name": "python",
   "nbconvert_exporter": "python",
   "pygments_lexer": "ipython3",
   "version": "3.12.4"
  }
 },
 "nbformat": 4,
 "nbformat_minor": 5
}
