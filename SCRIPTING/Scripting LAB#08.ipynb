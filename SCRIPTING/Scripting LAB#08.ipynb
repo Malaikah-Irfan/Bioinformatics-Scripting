{
 "cells": [
  {
   "cell_type": "code",
   "execution_count": 1,
   "id": "84ba251f-ca6d-4f37-8a13-a8a29fb8468b",
   "metadata": {},
   "outputs": [
    {
     "data": {
      "text/plain": [
       "{'A': 3, 'G': 0, 'C': 5, 'T': 1}"
      ]
     },
     "execution_count": 1,
     "metadata": {},
     "output_type": "execute_result"
    }
   ],
   "source": [
    "a = {'A':3, 'G':0, 'C':5, 'T':1} \n",
    "a"
   ]
  },
  {
   "cell_type": "code",
   "execution_count": 11,
   "id": "46bf28dd-d62a-4155-b161-4bd516b25a16",
   "metadata": {},
   "outputs": [
    {
     "data": {
      "text/plain": [
       "str"
      ]
     },
     "execution_count": 11,
     "metadata": {},
     "output_type": "execute_result"
    }
   ],
   "source": [
    "type('A')"
   ]
  },
  {
   "cell_type": "code",
   "execution_count": 13,
   "id": "4f874504-89f0-4183-b831-0e893c2b0daf",
   "metadata": {},
   "outputs": [
    {
     "data": {
      "text/plain": [
       "{'A': 3, 'G': 5}"
      ]
     },
     "execution_count": 13,
     "metadata": {},
     "output_type": "execute_result"
    }
   ],
   "source": [
    "dict(A = 3, G = 5)"
   ]
  },
  {
   "cell_type": "code",
   "execution_count": 17,
   "id": "8b983717-d21a-4046-9d5e-7aaf8b8fc483",
   "metadata": {},
   "outputs": [
    {
     "data": {
      "text/plain": [
       "'A'"
      ]
     },
     "execution_count": 17,
     "metadata": {},
     "output_type": "execute_result"
    }
   ],
   "source": [
    "a=dict.fromkeys(['A','T','C']) # using list as keys and default value\n",
    "a"
   ]
  },
  {
   "cell_type": "code",
   "execution_count": 25,
   "id": "15bb0359-4547-4833-b3bb-80ec9a2ea930",
   "metadata": {},
   "outputs": [
    {
     "data": {
      "text/plain": [
       "{'A': 1, 'T': 1, 'C': 1}"
      ]
     },
     "execution_count": 25,
     "metadata": {},
     "output_type": "execute_result"
    }
   ],
   "source": [
    "b=dict.fromkeys(['A','T','C'], 1) #changing default value\n",
    "b"
   ]
  },
  {
   "cell_type": "code",
   "execution_count": 29,
   "id": "73da520d-6edc-4b6e-9f76-be5cdea1006e",
   "metadata": {},
   "outputs": [
    {
     "data": {
      "text/plain": [
       "{'A': 3, 'T': 3, 'C': 3}"
      ]
     },
     "execution_count": 29,
     "metadata": {},
     "output_type": "execute_result"
    }
   ],
   "source": [
    "b=dict.fromkeys(('A','T','C'), 3) # using tuple as keys\n",
    "b"
   ]
  },
  {
   "cell_type": "code",
   "execution_count": 33,
   "id": "00aac3c3-4373-4aad-a4cb-e397339712f8",
   "metadata": {},
   "outputs": [
    {
     "data": {
      "text/plain": [
       "{'A': 9, 'T': 9, 'C': 9}"
      ]
     },
     "execution_count": 33,
     "metadata": {},
     "output_type": "execute_result"
    }
   ],
   "source": [
    "b=dict.fromkeys('ATC', 9) # using string as keys\n",
    "b"
   ]
  },
  {
   "cell_type": "code",
   "execution_count": 47,
   "id": "7bce3bad-83e4-4119-a969-293be1873da8",
   "metadata": {},
   "outputs": [],
   "source": [
    "info=dict(Name=\"Malikah Irfan\",Roll_Number=\"020\" ,Contact= \"03168054050\" ,Department=\"Bioinformatics\")\n"
   ]
  },
  {
   "cell_type": "code",
   "execution_count": 45,
   "id": "5adf9465-3228-4b47-81be-8e8f89aa9342",
   "metadata": {},
   "outputs": [
    {
     "name": "stdout",
     "output_type": "stream",
     "text": [
      "The value of A is =  Bioinformatics\n"
     ]
    }
   ],
   "source": [
    "print (\"The value of A is = \", info.get('Department'))"
   ]
  },
  {
   "cell_type": "code",
   "execution_count": 49,
   "id": "c5d1e4b6-2879-499d-afff-97c97b5e0991",
   "metadata": {},
   "outputs": [
    {
     "data": {
      "text/plain": [
       "dict_keys(['Name', 'Roll_Number', 'Contact', 'Department'])"
      ]
     },
     "execution_count": 49,
     "metadata": {},
     "output_type": "execute_result"
    }
   ],
   "source": [
    "info.keys()"
   ]
  },
  {
   "cell_type": "code",
   "execution_count": 53,
   "id": "81302442-3677-4ca8-8d62-ed95361bbbcd",
   "metadata": {},
   "outputs": [
    {
     "data": {
      "text/plain": [
       "dict_values(['Malikah Irfan', '020', '03168054050', 'Bioinformatics'])"
      ]
     },
     "execution_count": 53,
     "metadata": {},
     "output_type": "execute_result"
    }
   ],
   "source": [
    "info.values()"
   ]
  },
  {
   "cell_type": "code",
   "execution_count": 55,
   "id": "941dae7a-76f3-4de6-9f5d-e1cb74384546",
   "metadata": {},
   "outputs": [
    {
     "data": {
      "text/plain": [
       "dict_items([('Name', 'Malikah Irfan'), ('Roll_Number', '020'), ('Contact', '03168054050'), ('Department', 'Bioinformatics')])"
      ]
     },
     "execution_count": 55,
     "metadata": {},
     "output_type": "execute_result"
    }
   ],
   "source": [
    "info.items()"
   ]
  },
  {
   "cell_type": "code",
   "execution_count": 63,
   "id": "8c0c36eb-9c59-4b83-80a4-54a9d057cebb",
   "metadata": {},
   "outputs": [
    {
     "name": "stdout",
     "output_type": "stream",
     "text": [
      "Name\n",
      "Roll_Number\n",
      "Contact\n",
      "Department\n"
     ]
    }
   ],
   "source": [
    "for k in info:\n",
    "  print (k)"
   ]
  },
  {
   "cell_type": "code",
   "execution_count": 85,
   "id": "5f5e4972-203e-4a55-ba0e-9d52390f6bfc",
   "metadata": {},
   "outputs": [
    {
     "name": "stdout",
     "output_type": "stream",
     "text": [
      "Name Malikah Irfan\n",
      "Roll_Number 020\n",
      "Contact 03168054050\n",
      "Department Bioinformatics\n"
     ]
    }
   ],
   "source": [
    "for k in info:\n",
    "  print (k, info[k])"
   ]
  },
  {
   "cell_type": "code",
   "execution_count": 91,
   "id": "af0f5233-4752-4247-9dc0-d59fa7986c5c",
   "metadata": {},
   "outputs": [
    {
     "name": "stdout",
     "output_type": "stream",
     "text": [
      "Name : Malikah Irfan\n",
      "Roll_Number : 020\n",
      "Contact : 03168054050\n",
      "Department : Bioinformatics\n"
     ]
    }
   ],
   "source": [
    "for k, v in info.items():\n",
    "  print (k,\":\", v)"
   ]
  },
  {
   "cell_type": "code",
   "execution_count": 75,
   "id": "4fecc91f-c9d9-4e4b-9443-302d46e625e2",
   "metadata": {},
   "outputs": [
    {
     "name": "stdout",
     "output_type": "stream",
     "text": [
      "Malikah Irfan\n",
      "020\n",
      "03168054050\n",
      "Bioinformatics\n"
     ]
    }
   ],
   "source": [
    "for k in info.values():\n",
    "  print (k)"
   ]
  },
  {
   "cell_type": "code",
   "execution_count": 125,
   "id": "b108ec11-9dd2-4f56-b06b-68a835159cd4",
   "metadata": {},
   "outputs": [
    {
     "name": "stdout",
     "output_type": "stream",
     "text": [
      "Malaikah Irfan\n"
     ]
    }
   ],
   "source": [
    "student_ids={\n",
    "    1:{                                       #key of dictionary \n",
    "        'Name':'Malaikah Irfan',\n",
    "        'Department':'Bioinformatics',\n",
    "        'Marks':'96',\n",
    "        'Contact':{\n",
    "            'Phone':'1203838',\n",
    "            'Email':'e.naeem@gmail.com'}\n",
    "    }\n",
    "}\n",
    "print(student_ids[1]['Name'])"
   ]
  },
  {
   "cell_type": "code",
   "execution_count": 113,
   "id": "ca49c33a-6821-4684-b010-fd21e5bdf125",
   "metadata": {},
   "outputs": [],
   "source": [
    "new_students = {\n",
    "    2:{                                       #key of dictionary \n",
    "        'Name':'Zainab Ikram',\n",
    "        'Department':'Bioinformatics',\n",
    "        'Marks':'96',\n",
    "        'Contact':{\n",
    "            'Phone':'1203838',\n",
    "            'Email':'e.naeem@gmail.com'}\n",
    "    },\n",
    "\n",
    "    3:{                                       #key of dictionary \n",
    "        'Name':'Saad Irfan',\n",
    "        'Department':'Bioinformatics',\n",
    "        'Marks':'96',\n",
    "        'Contact':{\n",
    "            'Phone':'1203838',\n",
    "            'Email':'e.naeem@gmail.com'}\n",
    "    },\n",
    "\n",
    "    4:{                                       #key of dictionary \n",
    "        'Name':'Anika Irfan',\n",
    "        'Department':'Bioinformatics',\n",
    "        'Marks':'96',\n",
    "        'Contact':{\n",
    "            'Phone':'1203838',\n",
    "            'Email':'e.naeem@gmail.com'}\n",
    "    },\n",
    "\n",
    "    5:{                                       #key of dictionary \n",
    "        'Name':'Fahad Irfan',\n",
    "        'Department':'Bioinformatics',\n",
    "        'Marks':'96',\n",
    "        'Contact':{\n",
    "            'Phone':'1203838',\n",
    "            'Email':'e.naeem@gmail.com'}\n",
    "    },\n",
    "\n",
    "    6:{                                       #key of dictionary \n",
    "        'Name':'Irfan Arif',\n",
    "        'Department':'Bioinformatics',\n",
    "        'Marks':'96',\n",
    "        'Contact':{\n",
    "            'Phone':'1203838',\n",
    "            'Email':'e.naeem@gmail.com'}\n",
    "    }\n",
    "}\n",
    "\n",
    "student_ids.update(new_students)"
   ]
  },
  {
   "cell_type": "code",
   "execution_count": 128,
   "id": "2dc6d69a-3121-4e22-8be6-5b59e69dbbfd",
   "metadata": {},
   "outputs": [
    {
     "ename": "IndentationError",
     "evalue": "expected an indented block after 'with' statement on line 1 (2801810504.py, line 2)",
     "output_type": "error",
     "traceback": [
      "\u001b[1;36m  Cell \u001b[1;32mIn[128], line 2\u001b[1;36m\u001b[0m\n\u001b[1;33m    for student_id, student_info in student_ids.items():\u001b[0m\n\u001b[1;37m    ^\u001b[0m\n\u001b[1;31mIndentationError\u001b[0m\u001b[1;31m:\u001b[0m expected an indented block after 'with' statement on line 1\n"
     ]
    }
   ],
   "source": [
    "with open(\"C:\\\\Users\\\\miari\\\\Downloads\\\\student_contacts.txt\", \"w\") as file:\n",
    "for student_id, student_info in student_ids.items():\n",
    "    name = student_info['Name']\n",
    "    phone = student_info['Contact']['Phone']\n",
    "    email = student_info['Contact']['Email']\n",
    "        \n",
    "        # Write each contact information in the file\n",
    "file.write(f\"Name: {name}, Phone: {phone}, Email: {email}\\n\")"
   ]
  },
  {
   "cell_type": "code",
   "execution_count": null,
   "id": "5d48d273-1847-4259-a1e2-bfe9cb262ef0",
   "metadata": {},
   "outputs": [],
   "source": []
  }
 ],
 "metadata": {
  "kernelspec": {
   "display_name": "Python 3 (ipykernel)",
   "language": "python",
   "name": "python3"
  },
  "language_info": {
   "codemirror_mode": {
    "name": "ipython",
    "version": 3
   },
   "file_extension": ".py",
   "mimetype": "text/x-python",
   "name": "python",
   "nbconvert_exporter": "python",
   "pygments_lexer": "ipython3",
   "version": "3.12.4"
  }
 },
 "nbformat": 4,
 "nbformat_minor": 5
}
