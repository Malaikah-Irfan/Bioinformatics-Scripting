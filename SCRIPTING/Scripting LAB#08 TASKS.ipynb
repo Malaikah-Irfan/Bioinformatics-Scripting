{
 "cells": [
  {
   "cell_type": "code",
   "execution_count": 63,
   "id": "87ea7cd0-916a-4eaf-9dbd-051d5af71fde",
   "metadata": {},
   "outputs": [
    {
     "name": "stdout",
     "output_type": "stream",
     "text": [
      "Name : Zainab Ikram\n",
      "Roll_Number : 42\n",
      "Department : Bioinformatics\n"
     ]
    }
   ],
   "source": [
    "Dictionary_1 = {'Name': 'Malikah Irfan', 'Roll_Number': 20, 'Department': 'Bioinformatics'}\n",
    "\n",
    "Dictionary_2 = dict(Name='Zainab Ikram', Roll_Number=42, Department='Bioinformatics')\n",
    "\n",
    "for k, v in Dictionary_2.items():\n",
    "    print(k,\":\", v)"
   ]
  },
  {
   "cell_type": "code",
   "execution_count": 77,
   "id": "e79f30b2-8ada-4c89-85d0-347c9576286d",
   "metadata": {},
   "outputs": [
    {
     "data": {
      "text/plain": [
       "{'Name': None, 'Roll_Number': None, 'Contact': None, 'Department': None}"
      ]
     },
     "execution_count": 77,
     "metadata": {},
     "output_type": "execute_result"
    }
   ],
   "source": [
    "a=dict.fromkeys(['Name','Roll_Number','Contact','Department']) \n",
    "a\n"
   ]
  },
  {
   "cell_type": "code",
   "execution_count": 99,
   "id": "affa9507-eb2f-4497-bea8-4eab84541ca0",
   "metadata": {},
   "outputs": [
    {
     "name": "stdout",
     "output_type": "stream",
     "text": [
      "Not Present in Dictionary\n"
     ]
    }
   ],
   "source": [
    "value = a.get('Grade','Not Present in Dictionary')  \n",
    "print(value)"
   ]
  },
  {
   "cell_type": "code",
   "execution_count": 101,
   "id": "40bb2e64-cc2f-40c4-9d8e-9d34478df50c",
   "metadata": {},
   "outputs": [
    {
     "name": "stdout",
     "output_type": "stream",
     "text": [
      "Present in Dictionary\n"
     ]
    }
   ],
   "source": [
    "if 'Contact' in a:\n",
    "    value = \"Present in Dictionary\"\n",
    "else:\n",
    "    value = 'Not Present in Dictionary'\n",
    "\n",
    "print(value)"
   ]
  },
  {
   "cell_type": "code",
   "execution_count": 103,
   "id": "4e661e7e-8f85-4137-9c84-970319e19154",
   "metadata": {},
   "outputs": [
    {
     "name": "stdout",
     "output_type": "stream",
     "text": [
      "Name\n",
      "Roll_Number\n",
      "Department\n"
     ]
    }
   ],
   "source": [
    "Dictionary_2 = dict(Name='Zainab Ikram', Roll_Number=42, Department='Bioinformatics')\n",
    "\n",
    "for k in Dictionary_2.keys():\n",
    "    print(k)"
   ]
  },
  {
   "cell_type": "code",
   "execution_count": 120,
   "id": "56308aef-9c75-4704-9156-90fd21c2e998",
   "metadata": {},
   "outputs": [
    {
     "name": "stdout",
     "output_type": "stream",
     "text": [
      "Name : Empty\n",
      "Roll_Number : Empty\n",
      "Contact : Empty\n",
      "Department : Empty\n"
     ]
    }
   ],
   "source": [
    "a=dict.fromkeys(['Name','Roll_Number','Contact','Department'],\"Empty\") \n",
    "for k, v in a.items():\n",
    "    print(k,\":\", v)"
   ]
  },
  {
   "cell_type": "code",
   "execution_count": 122,
   "id": "5c913dbe-ca46-4683-8c42-3500030c88a7",
   "metadata": {},
   "outputs": [
    {
     "name": "stdout",
     "output_type": "stream",
     "text": [
      "('Name', 'Empty')\n",
      "('Roll_Number', 'Empty')\n",
      "('Contact', 'Empty')\n",
      "('Department', 'Empty')\n"
     ]
    }
   ],
   "source": [
    "T_7=dict.fromkeys(['Name','Roll_Number','Contact','Department'],\"Empty\") \n",
    "for k in T_7.items():\n",
    "    print(k)"
   ]
  },
  {
   "cell_type": "code",
   "execution_count": 149,
   "id": "ffeac006-d4cf-42fa-9fae-c84715574203",
   "metadata": {},
   "outputs": [
    {
     "name": "stdout",
     "output_type": "stream",
     "text": [
      " None\n"
     ]
    }
   ],
   "source": [
    "student1_Info={\n",
    "    1:{                                       #key of dictionary \n",
    "        'Name':'Malaikah Irfan',\n",
    "        'Department':'Bioinformatics',\n",
    "        'Marks':'96',\n",
    "        'Contact':{\n",
    "            'Phone':'1203838',\n",
    "            'Email':'m.i.2002.pk@gmail.com'}\n",
    "    }\n",
    "}\n",
    "student2_Info={\n",
    "    2:{                                       #key of dictionary \n",
    "        'Name':'Zainab Ikram',\n",
    "        'Department':'Bioinformatics',\n",
    "        'Marks':'96',\n",
    "        'Contact':{\n",
    "            'Phone':'1206786',\n",
    "            'Email':'zainab@gmail.com'}\n",
    "    }\n",
    "}\n",
    "New_List=student1_Info.update(student2_Info)\n",
    "print(\"\",New_List)"
   ]
  },
  {
   "cell_type": "code",
   "execution_count": null,
   "id": "14855f05-f995-41b1-8f33-1bc79308fa11",
   "metadata": {},
   "outputs": [],
   "source": []
  },
  {
   "cell_type": "code",
   "execution_count": null,
   "id": "c03083dd-1bd0-46b3-af27-74a45f99a410",
   "metadata": {},
   "outputs": [],
   "source": []
  },
  {
   "cell_type": "code",
   "execution_count": null,
   "id": "ed50e6d0-13a9-457e-9bfc-af35161ffbf9",
   "metadata": {},
   "outputs": [],
   "source": []
  }
 ],
 "metadata": {
  "kernelspec": {
   "display_name": "Python 3 (ipykernel)",
   "language": "python",
   "name": "python3"
  },
  "language_info": {
   "codemirror_mode": {
    "name": "ipython",
    "version": 3
   },
   "file_extension": ".py",
   "mimetype": "text/x-python",
   "name": "python",
   "nbconvert_exporter": "python",
   "pygments_lexer": "ipython3",
   "version": "3.12.4"
  }
 },
 "nbformat": 4,
 "nbformat_minor": 5
}
