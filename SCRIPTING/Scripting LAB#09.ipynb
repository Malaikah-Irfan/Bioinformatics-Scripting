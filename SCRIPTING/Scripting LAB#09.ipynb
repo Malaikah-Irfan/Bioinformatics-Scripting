{
 "cells": [
  {
   "cell_type": "code",
   "execution_count": 11,
   "id": "b55423dc-e5d0-4e1e-a3f7-630f1ed7f7f4",
   "metadata": {},
   "outputs": [
    {
     "name": "stdout",
     "output_type": "stream",
     "text": [
      "A\n",
      "G\n",
      "C\n",
      "T\n"
     ]
    }
   ],
   "source": [
    "a = {'A':3, 'G':0, 'C':5, 'T':1}\n",
    "for k in a:\n",
    "  print (k)"
   ]
  },
  {
   "cell_type": "code",
   "execution_count": 17,
   "id": "fdd98cdd-75f8-4206-8980-2513863f5fa7",
   "metadata": {},
   "outputs": [
    {
     "name": "stdout",
     "output_type": "stream",
     "text": [
      "A 3\n",
      "G 0\n",
      "C 5\n",
      "T 1\n"
     ]
    }
   ],
   "source": [
    "for k in a:\n",
    "  print (k, a[k])"
   ]
  },
  {
   "cell_type": "code",
   "execution_count": 41,
   "id": "0a2a203e-8625-485d-9f11-d0c2ee1d37d4",
   "metadata": {},
   "outputs": [
    {
     "name": "stdout",
     "output_type": "stream",
     "text": [
      "A\n",
      "G\n",
      "C\n",
      "T\n"
     ]
    }
   ],
   "source": [
    "for k, v in a.items():\n",
    "  print (k)"
   ]
  },
  {
   "cell_type": "code",
   "execution_count": 23,
   "id": "af7f126c-6cdf-4f80-82cb-b47974fc3c1f",
   "metadata": {},
   "outputs": [
    {
     "name": "stdout",
     "output_type": "stream",
     "text": [
      "3\n",
      "0\n",
      "5\n",
      "1\n"
     ]
    }
   ],
   "source": [
    "for k in a.values():\n",
    " print (k)"
   ]
  },
  {
   "cell_type": "code",
   "execution_count": 27,
   "id": "12f3e991-5c6f-4a98-86e4-5835732379ab",
   "metadata": {},
   "outputs": [
    {
     "data": {
      "text/plain": [
       "{'A': 1}"
      ]
     },
     "execution_count": 27,
     "metadata": {},
     "output_type": "execute_result"
    }
   ],
   "source": [
    "DNA = {}\n",
    "DNA['A'] = 1 \n",
    "DNA"
   ]
  },
  {
   "cell_type": "code",
   "execution_count": 39,
   "id": "72930b2b-e47d-4007-89e0-8db265edff4d",
   "metadata": {},
   "outputs": [
    {
     "name": "stdout",
     "output_type": "stream",
     "text": [
      "DNA after adding a single element =  {'A': 1}\n",
      "DNA after adding more than one elements =  {'A': 1, 'G': 3, 'T': 5}\n"
     ]
    }
   ],
   "source": [
    "DNA = {}\n",
    "DNA.update({'A':1})\n",
    "print (\"DNA after adding a single element = \", DNA)\n",
    "\n",
    "DNA.update({'G':3, 'T':5})\n",
    "print (\"DNA after adding more than one element = \", DNA)"
   ]
  },
  {
   "cell_type": "code",
   "execution_count": 14,
   "id": "acef825a-3d20-4b0a-ad5c-ce7afc72d01a",
   "metadata": {},
   "outputs": [
    {
     "data": {
      "text/plain": [
       "{'one': 1, 'two': 3.0, 'three': [], 'four': (), 'five': 'ATGC', 'six': []}"
      ]
     },
     "execution_count": 14,
     "metadata": {},
     "output_type": "execute_result"
    }
   ],
   "source": [
    "a = {}\n",
    "a['one'] = 1\n",
    "a['two'] = 3.0\n",
    "a['three'] = []\n",
    "a['four'] = ()\n",
    "a['five'] = \"ATGC\"\n",
    "a['six'] = []\n",
    "a"
   ]
  },
  {
   "cell_type": "code",
   "execution_count": 16,
   "id": "8a03fe45-3659-424e-bce1-d97073f6fa82",
   "metadata": {},
   "outputs": [
    {
     "data": {
      "text/plain": [
       "{'five': 'ATGC', 'four': 5, 'one': 1, 'three': [], 'two': 3.0}"
      ]
     },
     "execution_count": 16,
     "metadata": {},
     "output_type": "execute_result"
    }
   ],
   "source": [
    "a = {'five': 'ATGC', 'four': (), 'one': 1, 'three': [], 'two': 3.0}\n",
    "a['four'] = 5\n",
    "a"
   ]
  },
  {
   "cell_type": "code",
   "execution_count": 18,
   "id": "375f6b95-efcf-405a-8e09-0120fa0fed66",
   "metadata": {},
   "outputs": [
    {
     "data": {
      "text/plain": [
       "{'five': [], 'four': {}, 'one': (), 'three': [], 'two': set()}"
      ]
     },
     "execution_count": 18,
     "metadata": {},
     "output_type": "execute_result"
    }
   ],
   "source": [
    "a = {'five': 'ATGC', 'four': (), 'one': 1, 'three': [], 'two': 3.0}\n",
    "a.update({'five':[], 'four':{}, 'one':(), 'two':set()})\n",
    "a\n"
   ]
  },
  {
   "cell_type": "code",
   "execution_count": 26,
   "id": "bc653e89-8432-46c6-b2b0-267696a62261",
   "metadata": {},
   "outputs": [
    {
     "name": "stdout",
     "output_type": "stream",
     "text": [
      "Adding tuple as a key =  {(2, 3): ''}\n",
      "Adding string as a key =  {(2, 3): '', 'test': ''}\n"
     ]
    },
    {
     "ename": "TypeError",
     "evalue": "unhashable type: 'list'",
     "output_type": "error",
     "traceback": [
      "\u001b[1;31m---------------------------------------------------------------------------\u001b[0m",
      "\u001b[1;31mTypeError\u001b[0m                                 Traceback (most recent call last)",
      "Cell \u001b[1;32mIn[26], line 6\u001b[0m\n\u001b[0;32m      4\u001b[0m a[\u001b[38;5;124m'\u001b[39m\u001b[38;5;124mtest\u001b[39m\u001b[38;5;124m'\u001b[39m] \u001b[38;5;241m=\u001b[39m \u001b[38;5;124m'\u001b[39m\u001b[38;5;124m'\u001b[39m\n\u001b[0;32m      5\u001b[0m \u001b[38;5;28mprint\u001b[39m (\u001b[38;5;124m'\u001b[39m\u001b[38;5;124mAdding string as a key = \u001b[39m\u001b[38;5;124m'\u001b[39m, a)\n\u001b[1;32m----> 6\u001b[0m a[[\u001b[38;5;241m4\u001b[39m,\u001b[38;5;241m5\u001b[39m]]\u001b[38;5;241m=\u001b[39m \u001b[38;5;124m'\u001b[39m\u001b[38;5;124m'\u001b[39m\n\u001b[0;32m      7\u001b[0m \u001b[38;5;28mprint\u001b[39m (\u001b[38;5;124m'\u001b[39m\u001b[38;5;124mAdding list as a key = \u001b[39m\u001b[38;5;124m'\u001b[39m, a)\n",
      "\u001b[1;31mTypeError\u001b[0m: unhashable type: 'list'"
     ]
    }
   ],
   "source": [
    "a = {}\n",
    "a[(2,3)] = ''\n",
    "print ('Adding tuple as a key = ', a)\n",
    "a['test'] = ''\n",
    "print ('Adding string as a key = ', a)\n",
    "a[[4,5]]= ''\n",
    "print ('Adding list as a key = ', a)"
   ]
  },
  {
   "cell_type": "code",
   "execution_count": 28,
   "id": "dd25ecbb-cb19-4ec7-909b-0d8a3ae9d6e7",
   "metadata": {},
   "outputs": [
    {
     "data": {
      "text/plain": [
       "{'T': 3, 'C': 1, 'G': 0}"
      ]
     },
     "execution_count": 28,
     "metadata": {},
     "output_type": "execute_result"
    }
   ],
   "source": [
    "DNA = {'A':5, 'T':3, 'C': 1, 'G':0}\n",
    "del DNA['A']\n",
    "DNA"
   ]
  },
  {
   "cell_type": "code",
   "execution_count": 29,
   "id": "c436f95b-d6f6-4095-87da-83176b179392",
   "metadata": {},
   "outputs": [
    {
     "ename": "KeyError",
     "evalue": "'U'",
     "output_type": "error",
     "traceback": [
      "\u001b[1;31m---------------------------------------------------------------------------\u001b[0m",
      "\u001b[1;31mKeyError\u001b[0m                                  Traceback (most recent call last)",
      "Cell \u001b[1;32mIn[29], line 2\u001b[0m\n\u001b[0;32m      1\u001b[0m DNA \u001b[38;5;241m=\u001b[39m {\u001b[38;5;124m'\u001b[39m\u001b[38;5;124mA\u001b[39m\u001b[38;5;124m'\u001b[39m:\u001b[38;5;241m5\u001b[39m, \u001b[38;5;124m'\u001b[39m\u001b[38;5;124mT\u001b[39m\u001b[38;5;124m'\u001b[39m:\u001b[38;5;241m3\u001b[39m, \u001b[38;5;124m'\u001b[39m\u001b[38;5;124mC\u001b[39m\u001b[38;5;124m'\u001b[39m: \u001b[38;5;241m1\u001b[39m, \u001b[38;5;124m'\u001b[39m\u001b[38;5;124mG\u001b[39m\u001b[38;5;124m'\u001b[39m:\u001b[38;5;241m0\u001b[39m}\n\u001b[1;32m----> 2\u001b[0m \u001b[38;5;28;01mdel\u001b[39;00m DNA[\u001b[38;5;124m'\u001b[39m\u001b[38;5;124mU\u001b[39m\u001b[38;5;124m'\u001b[39m]\n\u001b[0;32m      3\u001b[0m DNA\n",
      "\u001b[1;31mKeyError\u001b[0m: 'U'"
     ]
    }
   ],
   "source": [
    "DNA = {'A':5, 'T':3, 'C': 1, 'G':0}\n",
    "del DNA['U']\n",
    "DNA"
   ]
  },
  {
   "cell_type": "code",
   "execution_count": 31,
   "id": "a6eceee7-1090-4167-925a-1afdfe45edbc",
   "metadata": {},
   "outputs": [
    {
     "data": {
      "text/plain": [
       "{'A': 5, 'T': 3, 'C': 1, 'G': 0}"
      ]
     },
     "execution_count": 31,
     "metadata": {},
     "output_type": "execute_result"
    }
   ],
   "source": [
    "DNA = {'A':5, 'T':3, 'C': 1, 'G':0}\n",
    "if 'U' in DNA:\n",
    " del DNA['U']\n",
    "DNA"
   ]
  },
  {
   "cell_type": "code",
   "execution_count": 33,
   "id": "1210d3d6-cb57-494d-bc39-3b8b21d8d643",
   "metadata": {},
   "outputs": [
    {
     "ename": "NameError",
     "evalue": "name 'DNA' is not defined",
     "output_type": "error",
     "traceback": [
      "\u001b[1;31m---------------------------------------------------------------------------\u001b[0m",
      "\u001b[1;31mNameError\u001b[0m                                 Traceback (most recent call last)",
      "Cell \u001b[1;32mIn[33], line 3\u001b[0m\n\u001b[0;32m      1\u001b[0m DNA \u001b[38;5;241m=\u001b[39m {\u001b[38;5;124m'\u001b[39m\u001b[38;5;124mA\u001b[39m\u001b[38;5;124m'\u001b[39m:\u001b[38;5;241m5\u001b[39m, \u001b[38;5;124m'\u001b[39m\u001b[38;5;124mT\u001b[39m\u001b[38;5;124m'\u001b[39m:\u001b[38;5;241m3\u001b[39m, \u001b[38;5;124m'\u001b[39m\u001b[38;5;124mC\u001b[39m\u001b[38;5;124m'\u001b[39m: \u001b[38;5;241m1\u001b[39m, \u001b[38;5;124m'\u001b[39m\u001b[38;5;124mG\u001b[39m\u001b[38;5;124m'\u001b[39m:\u001b[38;5;241m0\u001b[39m}\n\u001b[0;32m      2\u001b[0m \u001b[38;5;28;01mdel\u001b[39;00m DNA\n\u001b[1;32m----> 3\u001b[0m DNA\n",
      "\u001b[1;31mNameError\u001b[0m: name 'DNA' is not defined"
     ]
    }
   ],
   "source": [
    "DNA = {'A':5, 'T':3, 'C': 1, 'G':0}\n",
    "del DNA\n",
    "DNA"
   ]
  },
  {
   "cell_type": "code",
   "execution_count": 35,
   "id": "f83a605d-9b54-4fa1-91a8-0d216d067f99",
   "metadata": {},
   "outputs": [
    {
     "data": {
      "text/plain": [
       "{}"
      ]
     },
     "execution_count": 35,
     "metadata": {},
     "output_type": "execute_result"
    }
   ],
   "source": [
    "DNA = {'A':5, 'T':3, 'C': 1, 'G':0}\n",
    "DNA.clear()\n",
    "DNA"
   ]
  },
  {
   "cell_type": "code",
   "execution_count": 37,
   "id": "e8a7bae3-c592-4889-8bb5-f823a03d3490",
   "metadata": {},
   "outputs": [
    {
     "data": {
      "text/plain": [
       "5"
      ]
     },
     "execution_count": 37,
     "metadata": {},
     "output_type": "execute_result"
    }
   ],
   "source": [
    "DNA = {'A':5, 'T':3, 'C': 1, 'G':0}\n",
    "DNA.pop('A')"
   ]
  },
  {
   "cell_type": "code",
   "execution_count": 55,
   "id": "69c86015-6edb-4ac7-bb0d-eff5ca3bd42a",
   "metadata": {},
   "outputs": [
    {
     "name": "stdout",
     "output_type": "stream",
     "text": [
      "The remove item is =  ('six', [])\n"
     ]
    }
   ],
   "source": [
    "a = {}\n",
    "a['one'] = 1\n",
    "a['two'] = 3.0\n",
    "a['three'] = []\n",
    "a['four'] = ()\n",
    "a['five'] = \"ATGC\"\n",
    "a['six'] = []\n",
    "print ('The remove item is = ', a.popitem())"
   ]
  },
  {
   "cell_type": "code",
   "execution_count": 65,
   "id": "464fd87a-9f92-4597-91df-c6ea89cb7965",
   "metadata": {},
   "outputs": [
    {
     "name": "stdout",
     "output_type": "stream",
     "text": [
      "a =  {'T': 3, 'C': 1, 'G': 0}\n",
      "b =  {'T': 3, 'C': 1, 'G': 0}\n",
      "c =  {'A': 5, 'T': 3, 'C': 1, 'G': 0}\n"
     ]
    }
   ],
   "source": [
    "a = {'A':5, 'T':3, 'C': 1, 'G':0}\n",
    "b = a\n",
    "c = a.copy()\n",
    "del a['A']\n",
    "print ('a = ', a)\n",
    "print ('b = ', b)\n",
    "print ('c = ', c)"
   ]
  },
  {
   "cell_type": "code",
   "execution_count": null,
   "id": "2b9b1663-5612-4221-9f43-3507977420c8",
   "metadata": {},
   "outputs": [],
   "source": []
  }
 ],
 "metadata": {
  "kernelspec": {
   "display_name": "Python 3 (ipykernel)",
   "language": "python",
   "name": "python3"
  },
  "language_info": {
   "codemirror_mode": {
    "name": "ipython",
    "version": 3
   },
   "file_extension": ".py",
   "mimetype": "text/x-python",
   "name": "python",
   "nbconvert_exporter": "python",
   "pygments_lexer": "ipython3",
   "version": "3.12.4"
  }
 },
 "nbformat": 4,
 "nbformat_minor": 5
}
