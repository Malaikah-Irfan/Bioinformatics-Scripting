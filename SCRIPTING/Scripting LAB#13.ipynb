{
 "cells": [
  {
   "cell_type": "code",
   "execution_count": 167,
   "id": "fb1d310b-f198-441e-9b18-f633092f2a9e",
   "metadata": {},
   "outputs": [
    {
     "name": "stdout",
     "output_type": "stream",
     "text": [
      "{'milk', 'pulses', 'cooking oil', 'apple', 'rice', 'flour'}\n"
     ]
    }
   ],
   "source": [
    "#1. Create a list of some grocery items and remove duplicate entries. \n",
    "groceries=[\"apple\",\"milk\",\"apple\",\"flour\",\"rice\",\"rice\",\"cooking oil\",\"pulses\",]\n",
    "\n",
    "final_list=set(groceries)\n",
    "print(final_list)"
   ]
  },
  {
   "cell_type": "code",
   "execution_count": 169,
   "id": "bc5b8733-913a-4d19-9e9b-f041edfe26ba",
   "metadata": {},
   "outputs": [
    {
     "name": "stdout",
     "output_type": "stream",
     "text": [
      "{'name': 0, 'roll_number': 0, 'semester': 0, 'department': 0, 'discipline': 0}\n"
     ]
    }
   ],
   "source": [
    "#2. Create a dictionary where keys will be name, roll number, semester, department and discipline.\n",
    "a = dict.fromkeys(('name', 'roll_number', 'semester', 'department', 'discipline'), 0)\n",
    "print(a)"
   ]
  },
  {
   "cell_type": "code",
   "execution_count": 171,
   "id": "56ea3be3-0b9c-4f1e-839a-32d794a26f04",
   "metadata": {},
   "outputs": [
    {
     "name": "stdout",
     "output_type": "stream",
     "text": [
      "{1, 2, 3, 4, 5, 6, 7, 8, 9, 10}\n"
     ]
    }
   ],
   "source": [
    "#3. Write a python script to merge two sets. \n",
    "set_1={1,2,3,4,5} \n",
    "set_2={6,7,8,9,10}\n",
    "set_1.update(set_2)\n",
    "print(set_1)"
   ]
  },
  {
   "cell_type": "code",
   "execution_count": 173,
   "id": "15efc4e4-a064-40ad-b7ad-9d8724f15205",
   "metadata": {},
   "outputs": [
    {
     "name": "stdout",
     "output_type": "stream",
     "text": [
      "[16, 49, 9, 4, 64]\n"
     ]
    }
   ],
   "source": [
    "#4. Write a function to take square of each digit from this list. [4,7,3,2,8]\n",
    "def square(list):\n",
    "    for item in range(len(list)):\n",
    "        list[item] = list[item] ** 2\n",
    "    print(list)\n",
    "\n",
    "\n",
    "list = [4, 7, 3, 2, 8]\n",
    "square(list)"
   ]
  },
  {
   "cell_type": "code",
   "execution_count": 175,
   "id": "b0f5fc8e-d2af-42b7-9d4f-dd8201204d67",
   "metadata": {},
   "outputs": [
    {
     "name": "stdout",
     "output_type": "stream",
     "text": [
      "Intersection of list:  {9, 4, 5}\n",
      "symmetric difference of lists:  {1, 2, 3, 6, 7, 8}\n"
     ]
    }
   ],
   "source": [
    "'''5. Write a Python function that takes two lists as inputs and returns a set containing:\n",
    "•\tElements that are common in both lists (intersection).\n",
    "•\tElements that are unique to each list (symmetric difference).\n",
    "'''\n",
    "def comparison_of_list(list_1,list_2):\n",
    "    list_1=set(list_1)\n",
    "    list_2=set(list_2)\n",
    "    \n",
    "    intersection=list_1 & list_2\n",
    "    difference=list_1^list_2\n",
    "    print(\"Intersection of list: \",intersection)\n",
    "    print(\"symmetric difference of lists: \",difference)\n",
    "\n",
    "list_1=[1,2,3,4,5,9]\n",
    "list_2=[4,5,6,7,8,9]\n",
    "comparison_of_list(list_1,list_2)"
   ]
  },
  {
   "cell_type": "code",
   "execution_count": 177,
   "id": "c68520db-29e6-445e-a591-fa25fe60d281",
   "metadata": {},
   "outputs": [
    {
     "name": "stdout",
     "output_type": "stream",
     "text": [
      "Intersection of list:  {9, 4, 5}\n",
      "symmetric difference of lists:  {1, 2, 3, 6, 7, 8}\n"
     ]
    }
   ],
   "source": [
    "''''5. Write a Python function that takes two lists as inputs and returns a set containing:\n",
    "•\tElements that are common in both lists (intersection).\n",
    "•\tElements that are unique to each list (symmetric difference).\n",
    "'''\n",
    "def comparison_of_list(list_1,list_2):\n",
    "    list_1=set(list_1)\n",
    "    list_2=set(list_2)\n",
    "    \n",
    "    intersection=list_1.intersection(list_2)\n",
    "    difference=list_1.symmetric_difference(list_2)\n",
    "    print(\"Intersection of list: \",intersection)\n",
    "    print(\"symmetric difference of lists: \",difference)\n",
    "\n",
    "list_1=[1,2,3,4,5,9]\n",
    "list_2=[4,5,6,7,8,9]\n",
    "comparison_of_list(list_1,list_2)"
   ]
  },
  {
   "cell_type": "code",
   "execution_count": 196,
   "id": "2fcc910a-dfaa-4782-b839-33950ddb6e68",
   "metadata": {},
   "outputs": [
    {
     "name": "stdout",
     "output_type": "stream",
     "text": [
      "{'orange': 22, 'mango': 30}\n"
     ]
    }
   ],
   "source": [
    "#\n",
    "items = {\n",
    "    \"apple\": 15,\n",
    "    \"banana\": 12,\n",
    "    \"orange\": 22,\n",
    "    \"mango\": 30,\n",
    "    \"grapes\": 18\n",
    "}\n",
    "\n",
    "items_price_20={}\n",
    "for item,price in items.items():\n",
    "    if price>20:\n",
    "        items_price_20[item]=price\n",
    "        \n",
    "print(items_price_20)"
   ]
  },
  {
   "cell_type": "code",
   "execution_count": 190,
   "id": "75d95f84-1ba2-4460-8e7f-c3a803841e34",
   "metadata": {},
   "outputs": [
    {
     "name": "stdout",
     "output_type": "stream",
     "text": [
      "{'H': 1, 'e': 1, 'l': 3, 'o': 2, ' ': 2, 'w': 1, 'r': 1, 'd': 1}\n"
     ]
    }
   ],
   "source": [
    "#7. Given the string below, create a dictionary that counts the occurrences of each character (ignore spaces).\n",
    "String = 'Hello world '\n",
    "dictionary=dict()\n",
    "for char in String:\n",
    "    if char!=\"\":\n",
    "        if char in dictionary:\n",
    "            dictionary[char]+=1\n",
    "        else:\n",
    "            dictionary[char]=1\n",
    "\n",
    "print(dictionary)\n"
   ]
  },
  {
   "cell_type": "code",
   "execution_count": 186,
   "id": "d180b106-2d88-4542-9f8e-b3eff257ff51",
   "metadata": {},
   "outputs": [
    {
     "name": "stdout",
     "output_type": "stream",
     "text": [
      "Sum:  7\n",
      "Product:  12\n"
     ]
    }
   ],
   "source": [
    "#8. Create a function that takes two arguments and return the sum, and product of these arguments.\n",
    "def sum_product(x, y):\n",
    "    sum=x+y\n",
    "    product=x*y\n",
    "    return sum,product\n",
    "    \n",
    "ans_sum,ans_product=sum_product(3, 4)\n",
    "\n",
    "print(\"Sum: \", ans_sum)\n",
    "print(\"Product: \", ans_product)\n"
   ]
  },
  {
   "cell_type": "code",
   "execution_count": 4,
   "id": "df1816fb-b331-4a26-97db-8de8592ad5b5",
   "metadata": {},
   "outputs": [
    {
     "name": "stdin",
     "output_type": "stream",
     "text": [
      "Enter a number:  5\n"
     ]
    },
    {
     "name": "stdout",
     "output_type": "stream",
     "text": [
      "Converted to float: 5.0\n"
     ]
    }
   ],
   "source": [
    "value = input(\"Enter a number: \")\n",
    "converted_value = float(value)\n",
    "print(\"Converted to float:\", converted_value)"
   ]
  },
  {
   "cell_type": "code",
   "execution_count": 6,
   "id": "78009d4e-7e64-4b19-9a23-59664cc91e83",
   "metadata": {},
   "outputs": [
    {
     "name": "stdout",
     "output_type": "stream",
     "text": [
      "Even numbers: [2, 4, 6, 8, 10, 12, 14, 16, 18, 20, 22, 24, 26, 28, 30, 32, 34, 36, 38, 40, 42, 44, 46, 48, 50]\n",
      "Count of even numbers: 25\n"
     ]
    }
   ],
   "source": [
    "def even_numbers(start, end):\n",
    "    even_numbers = []  \n",
    "    for num in range(start, end + 1):\n",
    "        if num % 2 == 0:  \n",
    "            even_numbers.append(num)  \n",
    "    return even_numbers, len(even_numbers)\n",
    "\n",
    "\n",
    "even_nums, count = even_numbers(1, 50)\n",
    "print(\"Even numbers:\", even_nums)\n",
    "print(\"Count of even numbers:\", count)\n"
   ]
  }
 ],
 "metadata": {
  "kernelspec": {
   "display_name": "Python 3 (ipykernel)",
   "language": "python",
   "name": "python3"
  },
  "language_info": {
   "codemirror_mode": {
    "name": "ipython",
    "version": 3
   },
   "file_extension": ".py",
   "mimetype": "text/x-python",
   "name": "python",
   "nbconvert_exporter": "python",
   "pygments_lexer": "ipython3",
   "version": "3.12.4"
  }
 },
 "nbformat": 4,
 "nbformat_minor": 5
}
