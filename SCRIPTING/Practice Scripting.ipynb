{
 "cells": [
  {
   "cell_type": "code",
   "execution_count": 17,
   "id": "561ff987-ddbe-4634-b1dc-950473d1baef",
   "metadata": {},
   "outputs": [
    {
     "data": {
      "text/plain": [
       "['2']"
      ]
     },
     "execution_count": 17,
     "metadata": {},
     "output_type": "execute_result"
    }
   ],
   "source": [
    "list('2')"
   ]
  },
  {
   "cell_type": "code",
   "execution_count": 19,
   "id": "2b442f3b-7491-446c-a7ec-6022f16a7243",
   "metadata": {},
   "outputs": [
    {
     "data": {
      "text/plain": [
       "2"
      ]
     },
     "execution_count": 19,
     "metadata": {},
     "output_type": "execute_result"
    }
   ],
   "source": [
    "a=\"AA\"\n",
    "len(a)"
   ]
  },
  {
   "cell_type": "code",
   "execution_count": 37,
   "id": "1a2e1051-40c8-46c6-91ce-b0d25839a26e",
   "metadata": {},
   "outputs": [
    {
     "data": {
      "text/plain": [
       "'T'"
      ]
     },
     "execution_count": 37,
     "metadata": {},
     "output_type": "execute_result"
    }
   ],
   "source": [
    "DNA = \"ATGCAGCT\"\n",
    "length=len(DNA)\n",
    "DNA[length-1]"
   ]
  },
  {
   "cell_type": "code",
   "execution_count": 42,
   "id": "b4a8d493-a534-4e9c-8fd3-cd2c46e9d937",
   "metadata": {},
   "outputs": [
    {
     "data": {
      "text/plain": [
       "'AB'"
      ]
     },
     "execution_count": 42,
     "metadata": {},
     "output_type": "execute_result"
    }
   ],
   "source": [
    "str(\"A\"+\"B\")"
   ]
  },
  {
   "cell_type": "code",
   "execution_count": 58,
   "id": "3272f24c-2975-4d6a-8a77-012805f2e92c",
   "metadata": {},
   "outputs": [
    {
     "data": {
      "text/plain": [
       "[2, 3, 2, 3, 2, 3, 2, 3, 2, 3]"
      ]
     },
     "execution_count": 58,
     "metadata": {},
     "output_type": "execute_result"
    }
   ],
   "source": [
    "list(([2]+[3])*5)"
   ]
  },
  {
   "cell_type": "code",
   "execution_count": 52,
   "id": "0da5dff3-50d2-4e34-8066-f470b6974860",
   "metadata": {},
   "outputs": [
    {
     "data": {
      "text/plain": [
       "(2, 3, 4, 3, 4, 3, 4, 3, 4, 3, 4)"
      ]
     },
     "execution_count": 52,
     "metadata": {},
     "output_type": "execute_result"
    }
   ],
   "source": [
    "tuple((2,)+(3,4,)*5)"
   ]
  },
  {
   "cell_type": "code",
   "execution_count": 60,
   "id": "8410bed8-0a41-4764-afe2-3ffd1bf57a37",
   "metadata": {},
   "outputs": [
    {
     "data": {
      "text/plain": [
       "str"
      ]
     },
     "execution_count": 60,
     "metadata": {},
     "output_type": "execute_result"
    }
   ],
   "source": [
    "type(DNA)"
   ]
  },
  {
   "cell_type": "code",
   "execution_count": 78,
   "id": "6cb15783-94ef-4046-ab36-94d462bcbbac",
   "metadata": {},
   "outputs": [
    {
     "data": {
      "text/plain": [
       "2"
      ]
     },
     "execution_count": 78,
     "metadata": {},
     "output_type": "execute_result"
    }
   ],
   "source": [
    "import math\n",
    "int(math.sqrt(4))"
   ]
  },
  {
   "cell_type": "code",
   "execution_count": 85,
   "id": "dd9c738b-aba2-4a5c-a0b9-50e0f1f8c594",
   "metadata": {},
   "outputs": [
    {
     "data": {
      "text/plain": [
       "5"
      ]
     },
     "execution_count": 85,
     "metadata": {},
     "output_type": "execute_result"
    }
   ],
   "source": [
    "s=(5,6)\n",
    "s[0]"
   ]
  },
  {
   "cell_type": "code",
   "execution_count": 87,
   "id": "c613b4a1-7e63-44ac-a40f-61b7caa9e325",
   "metadata": {},
   "outputs": [
    {
     "data": {
      "text/plain": [
       "3"
      ]
     },
     "execution_count": 87,
     "metadata": {},
     "output_type": "execute_result"
    }
   ],
   "source": [
    "DNA = \"ATCGCGG\"\n",
    "DNA.count('G')"
   ]
  },
  {
   "cell_type": "code",
   "execution_count": 89,
   "id": "33388890-efb3-4608-a5f5-fad8b907459d",
   "metadata": {},
   "outputs": [
    {
     "data": {
      "text/plain": [
       "1"
      ]
     },
     "execution_count": 89,
     "metadata": {},
     "output_type": "execute_result"
    }
   ],
   "source": [
    "DNA.count('G', 0, 5)"
   ]
  },
  {
   "cell_type": "code",
   "execution_count": 103,
   "id": "1be206a7-d4a6-4db2-873e-8fdd9092a04f",
   "metadata": {},
   "outputs": [
    {
     "data": {
      "text/plain": [
       "'tumor suppressor protein'"
      ]
     },
     "execution_count": 103,
     "metadata": {},
     "output_type": "execute_result"
    }
   ],
   "source": [
    "t = 'tumor suppressor gene    '\n",
    "a=t.replace(\"gene\",\"protein\")\n",
    "a.strip()"
   ]
  },
  {
   "cell_type": "code",
   "execution_count": 123,
   "id": "c5c877c4-92c3-4e6d-a06c-3b793b952a0a",
   "metadata": {},
   "outputs": [
    {
     "ename": "SyntaxError",
     "evalue": "unexpected character after line continuation character (1917700892.py, line 1)",
     "output_type": "error",
     "traceback": [
      "\u001b[1;36m  Cell \u001b[1;32mIn[123], line 1\u001b[1;36m\u001b[0m\n\u001b[1;33m    \\\\fg\\\\dd\\\\\u001b[0m\n\u001b[1;37m     ^\u001b[0m\n\u001b[1;31mSyntaxError\u001b[0m\u001b[1;31m:\u001b[0m unexpected character after line continuation character\n"
     ]
    }
   ],
   "source": []
  },
  {
   "cell_type": "code",
   "execution_count": null,
   "id": "9b72230c-9c37-4d07-ba92-a555dea917b0",
   "metadata": {},
   "outputs": [],
   "source": []
  },
  {
   "cell_type": "code",
   "execution_count": null,
   "id": "20788791-4de6-4274-a80c-388093e9d317",
   "metadata": {},
   "outputs": [],
   "source": []
  }
 ],
 "metadata": {
  "kernelspec": {
   "display_name": "Python 3 (ipykernel)",
   "language": "python",
   "name": "python3"
  },
  "language_info": {
   "codemirror_mode": {
    "name": "ipython",
    "version": 3
   },
   "file_extension": ".py",
   "mimetype": "text/x-python",
   "name": "python",
   "nbconvert_exporter": "python",
   "pygments_lexer": "ipython3",
   "version": "3.12.4"
  }
 },
 "nbformat": 4,
 "nbformat_minor": 5
}
