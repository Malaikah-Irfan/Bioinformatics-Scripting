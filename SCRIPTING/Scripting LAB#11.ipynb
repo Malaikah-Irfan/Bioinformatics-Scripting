{
 "cells": [
  {
   "cell_type": "code",
   "execution_count": null,
   "id": "0b7c522d-208f-421c-8bb9-15c56fd43f7f",
   "metadata": {},
   "outputs": [],
   "source": [
    "#1. Does tuple support indexing and slicing? If yes, then explain by example in python."
   ]
  },
  {
   "cell_type": "code",
   "execution_count": 3,
   "id": "c9d04c9c-161a-4cd5-be24-cdf86003cda4",
   "metadata": {},
   "outputs": [
    {
     "name": "stdout",
     "output_type": "stream",
     "text": [
      "ATG\n"
     ]
    }
   ],
   "source": [
    "x = ('ATG', 'ATA', 'TAA') \n",
    "print(x[0])        # tuple indexing"
   ]
  },
  {
   "cell_type": "code",
   "execution_count": 21,
   "id": "13278576-5fa1-4a7b-abc2-748a31fe15ad",
   "metadata": {},
   "outputs": [
    {
     "name": "stdout",
     "output_type": "stream",
     "text": [
      "('ATG', 'ATA', 'TAA')\n"
     ]
    }
   ],
   "source": [
    "x = ('ATG', 'ATA', 'TAA', 'TAG')\n",
    "print(x[0:3])     #tuple slicing"
   ]
  },
  {
   "cell_type": "code",
   "execution_count": null,
   "id": "0a6876dc-5ff7-4bcb-a340-86d66a97f6d0",
   "metadata": {},
   "outputs": [],
   "source": [
    "#2. How can we create an empty tuple. Write code by using parenthesis, and by constructor."
   ]
  },
  {
   "cell_type": "code",
   "execution_count": 29,
   "id": "e0f88a2e-39eb-4ec5-81ce-21a7babd5aa4",
   "metadata": {},
   "outputs": [
    {
     "name": "stdout",
     "output_type": "stream",
     "text": [
      "(0, [4], 1.2, '3')\n"
     ]
    }
   ],
   "source": [
    "x = (0, [4], 1.2, '3')  #with parenthesis\n",
    "print(x)"
   ]
  },
  {
   "cell_type": "code",
   "execution_count": 25,
   "id": "4b9301d7-acaa-4335-bd0b-351fd7c46d91",
   "metadata": {},
   "outputs": [
    {
     "name": "stdout",
     "output_type": "stream",
     "text": [
      "()\n",
      "(44, 'ATGC', 22.5)\n"
     ]
    }
   ],
   "source": [
    "print(tuple())  #empty tuple\n",
    "T = tuple([44, 'ATGC',22.5])   #with constructor\n",
    "print(T)"
   ]
  },
  {
   "cell_type": "code",
   "execution_count": null,
   "id": "5f4b93e0-8b75-4874-ba85-93e7f65a4be2",
   "metadata": {},
   "outputs": [],
   "source": [
    "#3. What is type() of these, and also explain reason:\n",
    "#T1 = 1, 2 , [3,4]\n",
    "#T2= (3,4)\n",
    "#T3= ((3,6))\n",
    "#T4 = tuple(2,3)"
   ]
  },
  {
   "cell_type": "code",
   "execution_count": 33,
   "id": "6177f384-5a4f-42a4-ab33-0fa8708f5e05",
   "metadata": {},
   "outputs": [
    {
     "data": {
      "text/plain": [
       "tuple"
      ]
     },
     "execution_count": 33,
     "metadata": {},
     "output_type": "execute_result"
    }
   ],
   "source": [
    "T1 = 1, 2, [3,4]\n",
    "type(T1)"
   ]
  },
  {
   "cell_type": "code",
   "execution_count": 35,
   "id": "d6417a0f-917d-4d46-aa29-cd540c730c14",
   "metadata": {},
   "outputs": [
    {
     "data": {
      "text/plain": [
       "tuple"
      ]
     },
     "execution_count": 35,
     "metadata": {},
     "output_type": "execute_result"
    }
   ],
   "source": [
    "T2= (3,4)\n",
    "type(T2)"
   ]
  },
  {
   "cell_type": "code",
   "execution_count": 37,
   "id": "c5203933-9e00-4c98-a186-8bcf8f490e6e",
   "metadata": {},
   "outputs": [
    {
     "data": {
      "text/plain": [
       "tuple"
      ]
     },
     "execution_count": 37,
     "metadata": {},
     "output_type": "execute_result"
    }
   ],
   "source": [
    "T3= ((3,6))\n",
    "type(T2)"
   ]
  },
  {
   "cell_type": "code",
   "execution_count": 97,
   "id": "e7b613ed-1845-4f6a-875a-f539747478c5",
   "metadata": {},
   "outputs": [
    {
     "data": {
      "text/plain": [
       "tuple"
      ]
     },
     "execution_count": 97,
     "metadata": {},
     "output_type": "execute_result"
    }
   ],
   "source": [
    "T4 = tuple((2,3))  #shows error without the ()\n",
    "type(T4)"
   ]
  },
  {
   "cell_type": "code",
   "execution_count": null,
   "id": "8b93e379-5076-4fda-b156-c98f7cc40b65",
   "metadata": {},
   "outputs": [],
   "source": [
    "4. Take any three tuples and merge them using concatenation."
   ]
  },
  {
   "cell_type": "code",
   "execution_count": 45,
   "id": "aff32aef-5aff-43d4-99e8-26ce230eaee0",
   "metadata": {},
   "outputs": [
    {
     "name": "stdout",
     "output_type": "stream",
     "text": [
      "(22, 'Malaikah', 2002, 21, 'Zainab', 2003, 13, 'Anika', 2011)\n"
     ]
    }
   ],
   "source": [
    "x=(22, \"Malaikah\", 2002)\n",
    "y=(21, \"Zainab\", 2003)\n",
    "z=(13, \"Anika\", 2011)\n",
    "print(x+y+z)       #concatination"
   ]
  },
  {
   "cell_type": "code",
   "execution_count": 47,
   "id": "e1eb01d9-7670-4c79-b024-62a84d63cbf8",
   "metadata": {},
   "outputs": [
    {
     "name": "stdout",
     "output_type": "stream",
     "text": [
      "('ATG', 'ATA', 'ATG', 'ATA', 'ATG', 'ATA')\n"
     ]
    }
   ],
   "source": [
    "a=('ATG', 'ATA')\n",
    "print(a*3)     #repeatition"
   ]
  },
  {
   "cell_type": "code",
   "execution_count": 99,
   "id": "ae74bcff-b96c-407a-a127-e1abc2463075",
   "metadata": {},
   "outputs": [
    {
     "name": "stdout",
     "output_type": "stream",
     "text": [
      "22\n",
      "Malaikah\n",
      "2002\n"
     ]
    }
   ],
   "source": [
    "i = 0\n",
    "while i < len(x):\n",
    "  print(x[i])\n",
    "  i += 1"
   ]
  },
  {
   "cell_type": "code",
   "execution_count": 83,
   "id": "27487bd6-5bb3-4182-aae7-4e64badbae7a",
   "metadata": {},
   "outputs": [
    {
     "name": "stdout",
     "output_type": "stream",
     "text": [
      "6\n"
     ]
    }
   ],
   "source": [
    "tu = ((2,2),2,4,5,6,7,2,2,2)\n",
    "b=tu.count(2)\n",
    "c=tu[0].count(2)\n",
    "print(b+c)"
   ]
  },
  {
   "cell_type": "code",
   "execution_count": 75,
   "id": "563e2a59-e988-4d66-b7c1-b85361a6f92e",
   "metadata": {},
   "outputs": [
    {
     "data": {
      "text/plain": [
       "4"
      ]
     },
     "execution_count": 75,
     "metadata": {},
     "output_type": "execute_result"
    }
   ],
   "source": [
    "tu = ((2,2),2,4,5,6,7,2,2,2)\n",
    "tu.index(6)"
   ]
  },
  {
   "cell_type": "code",
   "execution_count": 93,
   "id": "8fc2f657-461e-4fcd-bbce-f487747ccab8",
   "metadata": {},
   "outputs": [
    {
     "name": "stdout",
     "output_type": "stream",
     "text": [
      "<class 'int'>\n",
      "<class 'tuple'>\n"
     ]
    }
   ],
   "source": [
    "print(type(2+3))\n",
    "print(type((2,3)))"
   ]
  },
  {
   "cell_type": "code",
   "execution_count": 85,
   "id": "1a37e77f-15e3-4e7a-a411-9c35ac724494",
   "metadata": {},
   "outputs": [
    {
     "ename": "AttributeError",
     "evalue": "'tuple' object has no attribute 'insert'",
     "output_type": "error",
     "traceback": [
      "\u001b[1;31m---------------------------------------------------------------------------\u001b[0m",
      "\u001b[1;31mAttributeError\u001b[0m                            Traceback (most recent call last)",
      "Cell \u001b[1;32mIn[85], line 2\u001b[0m\n\u001b[0;32m      1\u001b[0m z\u001b[38;5;241m=\u001b[39m(\u001b[38;5;241m13\u001b[39m, \u001b[38;5;124m\"\u001b[39m\u001b[38;5;124mAnika\u001b[39m\u001b[38;5;124m\"\u001b[39m, \u001b[38;5;241m2011\u001b[39m)\n\u001b[1;32m----> 2\u001b[0m z\u001b[38;5;241m.\u001b[39minsert(\u001b[38;5;241m55\u001b[39m)\n",
      "\u001b[1;31mAttributeError\u001b[0m: 'tuple' object has no attribute 'insert'"
     ]
    }
   ],
   "source": [
    "z=(13, \"Anika\", 2011)\n",
    "z.insert(55)"
   ]
  },
  {
   "cell_type": "code",
   "execution_count": null,
   "id": "912f2ccf-3499-46ee-8a7d-35288cbde532",
   "metadata": {},
   "outputs": [],
   "source": []
  }
 ],
 "metadata": {
  "kernelspec": {
   "display_name": "Python 3 (ipykernel)",
   "language": "python",
   "name": "python3"
  },
  "language_info": {
   "codemirror_mode": {
    "name": "ipython",
    "version": 3
   },
   "file_extension": ".py",
   "mimetype": "text/x-python",
   "name": "python",
   "nbconvert_exporter": "python",
   "pygments_lexer": "ipython3",
   "version": "3.12.4"
  }
 },
 "nbformat": 4,
 "nbformat_minor": 5
}
