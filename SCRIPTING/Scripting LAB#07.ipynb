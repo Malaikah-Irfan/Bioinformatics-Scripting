{
 "cells": [
  {
   "cell_type": "code",
   "execution_count": null,
   "id": "3b0f8838-1de6-4b91-a47a-980bf5571fd2",
   "metadata": {},
   "outputs": [],
   "source": [
    "#LAB TASKS"
   ]
  },
  {
   "cell_type": "code",
   "execution_count": 208,
   "id": "9835d1f2-2cab-4364-8dab-165ea0e7b49b",
   "metadata": {},
   "outputs": [],
   "source": [
    "Task=open(\"C:Downloads\\\\Practice-Questions.txt\",\"a\")\n",
    "Task.write(\"Hello, World!\\n\")\n",
    "Task.write(\"This is a sample text file.\\n\")\n",
    "Task.close()"
   ]
  },
  {
   "cell_type": "code",
   "execution_count": 214,
   "id": "a1e03133-4e86-4d4c-bb7b-de25480b7e0e",
   "metadata": {},
   "outputs": [
    {
     "name": "stdout",
     "output_type": "stream",
     "text": [
      "Hello, World!\n",
      "\n"
     ]
    }
   ],
   "source": [
    "Task=open(\"C:Downloads\\\\Practice-Questions.txt\",\"r\")\n",
    "print(Task.readline())\n",
    "Task.close()"
   ]
  },
  {
   "cell_type": "code",
   "execution_count": 224,
   "id": "088f24fe-e558-4874-a863-787fcb052a10",
   "metadata": {},
   "outputs": [
    {
     "name": "stdout",
     "output_type": "stream",
     "text": [
      "Hello, World!\n",
      "\n",
      "This is a sample text file.\n",
      "\n"
     ]
    }
   ],
   "source": [
    "Task=open(\"C:Downloads\\\\Practice-Questions.txt\",\"r\")\n",
    "line = Task.readline()\n",
    "while line:\n",
    "    print(line)\n",
    "    line = Task.readline()\n",
    "Task.close()"
   ]
  },
  {
   "cell_type": "code",
   "execution_count": 226,
   "id": "98fda72b-bc98-4c9f-bb82-e2e7c48b1525",
   "metadata": {},
   "outputs": [
    {
     "name": "stdout",
     "output_type": "stream",
     "text": [
      "Hello, World!\n",
      "This is a sample text file.\n"
     ]
    }
   ],
   "source": [
    "Task=open(\"C:Downloads\\\\Practice-Questions.txt\",\"r\")\n",
    "line = Task.readline()\n",
    "while line:\n",
    "    print(line.rstrip())\n",
    "    line = Task.readline()\n",
    "Task.close()"
   ]
  },
  {
   "cell_type": "code",
   "execution_count": 232,
   "id": "5f15379c-4568-437d-ae60-976c79d48a43",
   "metadata": {},
   "outputs": [
    {
     "name": "stdout",
     "output_type": "stream",
     "text": [
      "Hello, World!\n",
      "This is a sample text file.\n"
     ]
    }
   ],
   "source": [
    "Task=open(\"C:Downloads\\\\Practice-Questions.txt\",\"r\")\n",
    "all_lines = Task.readlines()\n",
    "for line in all_lines:\n",
    "    print(line,end=\"\")\n",
    "Task.close()"
   ]
  },
  {
   "cell_type": "code",
   "execution_count": 254,
   "id": "f4376caa-2098-4f8a-8a9a-401a0a15b2e2",
   "metadata": {},
   "outputs": [
    {
     "name": "stdin",
     "output_type": "stream",
     "text": [
      "Enter text:   \n"
     ]
    }
   ],
   "source": [
    "Task=open(\"C:Downloads\\\\Practice-Questions.txt\",\"a\")\n",
    "user=input(\"Enter text:  \")\n",
    "Task.write(user)\n",
    "\n",
    "Task.close()"
   ]
  },
  {
   "cell_type": "code",
   "execution_count": 258,
   "id": "06080f76-3db7-4b8c-950e-2c1cc5ae2f08",
   "metadata": {},
   "outputs": [
    {
     "name": "stdout",
     "output_type": "stream",
     "text": [
      "Hello, World!\n",
      "This is a sample text file.\n",
      "I am Malaikah Irfan"
     ]
    }
   ],
   "source": [
    "Task=open(\"C:Downloads\\\\Practice-Questions.txt\",\"r\")\n",
    "all_lines = Task.readlines()\n",
    "for line in all_lines:\n",
    "    print(line,end=\"\")"
   ]
  },
  {
   "cell_type": "code",
   "execution_count": 244,
   "id": "f7fa28b2-cab4-49df-a3c3-16c78b7bce0b",
   "metadata": {},
   "outputs": [
    {
     "name": "stdout",
     "output_type": "stream",
     "text": [
      "3\n"
     ]
    }
   ],
   "source": [
    "count=0\n",
    "Task=open(\"C:Downloads\\\\Practice-Questions.txt\",\"r\")\n",
    "line = Task.readline()\n",
    "while line:\n",
    "    line = Task.readline()\n",
    "    count=count+1\n",
    "print(count)\n",
    "Task.close()"
   ]
  },
  {
   "cell_type": "code",
   "execution_count": 11,
   "id": "1a5661c3-69f5-43a2-83ed-0883d4c56b5d",
   "metadata": {},
   "outputs": [
    {
     "ename": "TypeError",
     "evalue": "not all arguments converted during string formatting",
     "output_type": "error",
     "traceback": [
      "\u001b[1;31m---------------------------------------------------------------------------\u001b[0m",
      "\u001b[1;31mTypeError\u001b[0m                                 Traceback (most recent call last)",
      "Cell \u001b[1;32mIn[11], line 1\u001b[0m\n\u001b[1;32m----> 1\u001b[0m \u001b[38;5;124m\"\u001b[39m\u001b[38;5;124mHHHHHHHH\u001b[39m\u001b[38;5;124m\"\u001b[39m \u001b[38;5;241m%\u001b[39m\u001b[38;5;241m3\u001b[39m\n",
      "\u001b[1;31mTypeError\u001b[0m: not all arguments converted during string formatting"
     ]
    }
   ],
   "source": [
    "\"HHHHHHHH\" %3"
   ]
  },
  {
   "cell_type": "code",
   "execution_count": 13,
   "id": "92b1c207-f323-4aea-9c62-b5397827f476",
   "metadata": {},
   "outputs": [
    {
     "ename": "TypeError",
     "evalue": "int() argument must be a string, a bytes-like object or a real number, not 'tuple'",
     "output_type": "error",
     "traceback": [
      "\u001b[1;31m---------------------------------------------------------------------------\u001b[0m",
      "\u001b[1;31mTypeError\u001b[0m                                 Traceback (most recent call last)",
      "Cell \u001b[1;32mIn[13], line 1\u001b[0m\n\u001b[1;32m----> 1\u001b[0m \u001b[38;5;28mint\u001b[39m((\u001b[38;5;241m2\u001b[39m,\u001b[38;5;241m5\u001b[39m))\n",
      "\u001b[1;31mTypeError\u001b[0m: int() argument must be a string, a bytes-like object or a real number, not 'tuple'"
     ]
    }
   ],
   "source": [
    "int((2,5))"
   ]
  },
  {
   "cell_type": "code",
   "execution_count": 21,
   "id": "d9debbc4-e7ac-47ff-97d9-a6eb329c1a8f",
   "metadata": {},
   "outputs": [
    {
     "data": {
      "text/plain": [
       "'(2,)'"
      ]
     },
     "execution_count": 21,
     "metadata": {},
     "output_type": "execute_result"
    }
   ],
   "source": [
    "str((2,))"
   ]
  },
  {
   "cell_type": "code",
   "execution_count": 27,
   "id": "8c99f4f2-b904-4032-8465-bbde6bf53802",
   "metadata": {},
   "outputs": [
    {
     "data": {
      "text/plain": [
       "2"
      ]
     },
     "execution_count": 27,
     "metadata": {},
     "output_type": "execute_result"
    }
   ],
   "source": [
    "import math\n",
    "int(math.sqrt(4))"
   ]
  },
  {
   "cell_type": "code",
   "execution_count": 29,
   "id": "957bf09a-8174-433a-b46a-3bd2d9360a63",
   "metadata": {},
   "outputs": [
    {
     "name": "stdout",
     "output_type": "stream",
     "text": [
      "First Line\n",
      "\n",
      "Second Line\n"
     ]
    }
   ],
   "source": [
    "def newLine():\n",
    "    print(\"\")\n",
    "\n",
    "print(\"First Line\")\n",
    "newLine()\n",
    "print(\"Second Line\")"
   ]
  },
  {
   "cell_type": "code",
   "execution_count": 35,
   "id": "fe3899ba-27aa-46bf-b589-1ed4e5a89078",
   "metadata": {},
   "outputs": [
    {
     "data": {
      "text/plain": [
       "(2,)"
      ]
     },
     "execution_count": 35,
     "metadata": {},
     "output_type": "execute_result"
    }
   ],
   "source": [
    "tuple((2,))"
   ]
  },
  {
   "cell_type": "code",
   "execution_count": 37,
   "id": "4070655e-2c32-4bec-9e98-d90f082bca59",
   "metadata": {},
   "outputs": [
    {
     "data": {
      "text/plain": [
       "[2, 3, 2, 3]"
      ]
     },
     "execution_count": 37,
     "metadata": {},
     "output_type": "execute_result"
    }
   ],
   "source": [
    "[2, 3] * 2"
   ]
  },
  {
   "cell_type": "code",
   "execution_count": 39,
   "id": "e2b1eb94-a32f-4c3e-8166-e27dca11ae24",
   "metadata": {},
   "outputs": [
    {
     "ename": "TypeError",
     "evalue": "'str' object does not support item assignment",
     "output_type": "error",
     "traceback": [
      "\u001b[1;31m---------------------------------------------------------------------------\u001b[0m",
      "\u001b[1;31mTypeError\u001b[0m                                 Traceback (most recent call last)",
      "Cell \u001b[1;32mIn[39], line 2\u001b[0m\n\u001b[0;32m      1\u001b[0m s \u001b[38;5;241m=\u001b[39m \u001b[38;5;124m'\u001b[39m\u001b[38;5;124mATG\u001b[39m\u001b[38;5;124m'\u001b[39m \n\u001b[1;32m----> 2\u001b[0m s[\u001b[38;5;241m0\u001b[39m] \u001b[38;5;241m=\u001b[39m \u001b[38;5;124m'\u001b[39m\u001b[38;5;124mG\u001b[39m\u001b[38;5;124m'\u001b[39m\n",
      "\u001b[1;31mTypeError\u001b[0m: 'str' object does not support item assignment"
     ]
    }
   ],
   "source": [
    "s = 'ATG' \n",
    "s[0] = 'G'"
   ]
  },
  {
   "cell_type": "code",
   "execution_count": 45,
   "id": "eb265aff-5596-4437-affb-ed32e366bcd4",
   "metadata": {},
   "outputs": [
    {
     "data": {
      "text/plain": [
       "2"
      ]
     },
     "execution_count": 45,
     "metadata": {},
     "output_type": "execute_result"
    }
   ],
   "source": [
    "DNA = \"ATCGCGG\"\n",
    ">>> DNA.count('C')"
   ]
  },
  {
   "cell_type": "code",
   "execution_count": 69,
   "id": "86eedd49-e3bb-4cb3-8f6e-5493c8673853",
   "metadata": {},
   "outputs": [
    {
     "data": {
      "text/plain": [
       "5"
      ]
     },
     "execution_count": 69,
     "metadata": {},
     "output_type": "execute_result"
    }
   ],
   "source": [
    "T = (1, 2, 3, 2, 4, 2)\n",
    "T.index(2,-2)"
   ]
  },
  {
   "cell_type": "code",
   "execution_count": 79,
   "id": "5da461be-69a2-4a4d-ae6c-a30fb95ab4b4",
   "metadata": {},
   "outputs": [
    {
     "data": {
      "text/plain": [
       "['AT', 'CTT']"
      ]
     },
     "execution_count": 79,
     "metadata": {},
     "output_type": "execute_result"
    }
   ],
   "source": [
    "DNA = 'ATGCTT'\n",
    "DNA.split('G')"
   ]
  },
  {
   "cell_type": "code",
   "execution_count": 83,
   "id": "15114ad8-025b-4609-8aa9-c370a4d7dcfc",
   "metadata": {},
   "outputs": [
    {
     "data": {
      "text/plain": [
       "'ATCUCUU'"
      ]
     },
     "execution_count": 83,
     "metadata": {},
     "output_type": "execute_result"
    }
   ],
   "source": [
    "DNA = \"ATCGCGG\"\n",
    ">>> DNA.replace('G', 'U',3)"
   ]
  },
  {
   "cell_type": "code",
   "execution_count": 99,
   "id": "827cb2f1-21ce-4f33-bf5c-ff74cf312af5",
   "metadata": {},
   "outputs": [
    {
     "name": "stdout",
     "output_type": "stream",
     "text": [
      "['ATCGCGG', 'C']\n"
     ]
    }
   ],
   "source": [
    "DNA = [\"ATCGCGG\"]\n",
    "DNA.append(\"C\")\n",
    "print(DNA)"
   ]
  },
  {
   "cell_type": "code",
   "execution_count": 116,
   "id": "4a0cba8f-5a7b-4eea-bc87-0d6542b14851",
   "metadata": {},
   "outputs": [
    {
     "ename": "TypeError",
     "evalue": "list.remove() takes exactly one argument (2 given)",
     "output_type": "error",
     "traceback": [
      "\u001b[1;31m---------------------------------------------------------------------------\u001b[0m",
      "\u001b[1;31mTypeError\u001b[0m                                 Traceback (most recent call last)",
      "Cell \u001b[1;32mIn[116], line 2\u001b[0m\n\u001b[0;32m      1\u001b[0m DNA \u001b[38;5;241m=\u001b[39m [\u001b[38;5;124m\"\u001b[39m\u001b[38;5;124mA\u001b[39m\u001b[38;5;124m\"\u001b[39m, \u001b[38;5;124m\"\u001b[39m\u001b[38;5;124mT\u001b[39m\u001b[38;5;124m\"\u001b[39m, \u001b[38;5;124m\"\u001b[39m\u001b[38;5;124mC\u001b[39m\u001b[38;5;124m\"\u001b[39m, \u001b[38;5;124m\"\u001b[39m\u001b[38;5;124mG\u001b[39m\u001b[38;5;124m\"\u001b[39m,\u001b[38;5;124m\"\u001b[39m\u001b[38;5;124mA\u001b[39m\u001b[38;5;124m\"\u001b[39m]\n\u001b[1;32m----> 2\u001b[0m DNA\u001b[38;5;241m.\u001b[39mremove(\u001b[38;5;124m\"\u001b[39m\u001b[38;5;124mA\u001b[39m\u001b[38;5;124m\"\u001b[39m,\u001b[38;5;241m-\u001b[39m\u001b[38;5;241m1\u001b[39m)\n\u001b[0;32m      3\u001b[0m \u001b[38;5;28mprint\u001b[39m(DNA)\n",
      "\u001b[1;31mTypeError\u001b[0m: list.remove() takes exactly one argument (2 given)"
     ]
    }
   ],
   "source": [
    "DNA = [\"A\", \"T\", \"C\", \"G\",\"A\"]\n",
    "DNA.remove(\"A\",-1)\n",
    "print(DNA)"
   ]
  },
  {
   "cell_type": "code",
   "execution_count": 122,
   "id": "e6fec43f-e59a-4169-9040-c989cb61bd97",
   "metadata": {},
   "outputs": [
    {
     "name": "stdout",
     "output_type": "stream",
     "text": [
      "8\n",
      "6\n",
      "4\n",
      "2\n",
      "0\n"
     ]
    }
   ],
   "source": [
    "x = 10\n",
    "while x: \n",
    "    x = x-1 \n",
    "    if x % 2 != 0:\n",
    "        continue # Odd -- skip print\n",
    "    print(x)"
   ]
  },
  {
   "cell_type": "code",
   "execution_count": 134,
   "id": "76be51e9-dec8-4142-a65a-4b23134b714c",
   "metadata": {},
   "outputs": [
    {
     "ename": "SyntaxError",
     "evalue": "unterminated string literal (detected at line 1) (3857616527.py, line 1)",
     "output_type": "error",
     "traceback": [
      "\u001b[1;36m  Cell \u001b[1;32mIn[134], line 1\u001b[1;36m\u001b[0m\n\u001b[1;33m    \"this is a \\\"girl's\" room\"\u001b[0m\n\u001b[1;37m                             ^\u001b[0m\n\u001b[1;31mSyntaxError\u001b[0m\u001b[1;31m:\u001b[0m unterminated string literal (detected at line 1)\n"
     ]
    }
   ],
   "source": [
    "\"this is a \\\"girl's\" room\""
   ]
  },
  {
   "cell_type": "code",
   "execution_count": null,
   "id": "85966ef1-abdb-4d22-b786-8e77d7ac3ab5",
   "metadata": {},
   "outputs": [],
   "source": [
    "dna = \"\"\"abcd\n",
    "efgh\n",
    "Ijkl\"\"\"\n",
    "print(dna)\n",
    "print(dna.split('\\n'))"
   ]
  }
 ],
 "metadata": {
  "kernelspec": {
   "display_name": "Python 3 (ipykernel)",
   "language": "python",
   "name": "python3"
  },
  "language_info": {
   "codemirror_mode": {
    "name": "ipython",
    "version": 3
   },
   "file_extension": ".py",
   "mimetype": "text/x-python",
   "name": "python",
   "nbconvert_exporter": "python",
   "pygments_lexer": "ipython3",
   "version": "3.12.4"
  }
 },
 "nbformat": 4,
 "nbformat_minor": 5
}
