{
 "cells": [
  {
   "cell_type": "code",
   "execution_count": 6,
   "id": "52fe74da-fa7d-4127-bf37-5feae07b901a",
   "metadata": {},
   "outputs": [
    {
     "data": {
      "text/plain": [
       "str"
      ]
     },
     "execution_count": 6,
     "metadata": {},
     "output_type": "execute_result"
    }
   ],
   "source": [
    "type (\"22\")"
   ]
  },
  {
   "cell_type": "code",
   "execution_count": 4,
   "id": "8dee9b44-b580-455f-b4da-b1b4bd51cb82",
   "metadata": {},
   "outputs": [
    {
     "data": {
      "text/plain": [
       "str"
      ]
     },
     "execution_count": 4,
     "metadata": {},
     "output_type": "execute_result"
    }
   ],
   "source": [
    ">>> message = \"Hello\"\n",
    ">>> n = 17\n",
    ">>> pi = 3.1415\n",
    "type(message)"
   ]
  },
  {
   "cell_type": "code",
   "execution_count": 8,
   "id": "9e0f0c36-9093-4508-8e9b-147a1eac0a08",
   "metadata": {},
   "outputs": [
    {
     "data": {
      "text/plain": [
       "3.14"
      ]
     },
     "execution_count": 8,
     "metadata": {},
     "output_type": "execute_result"
    }
   ],
   "source": [
    " a, b, c = 17, 3.14, \"test\"\n",
    " a\n",
    " b"
   ]
  },
  {
   "cell_type": "code",
   "execution_count": 23,
   "id": "d9dda1d0-dbc2-4b17-ad8d-0a817519c1d4",
   "metadata": {},
   "outputs": [
    {
     "data": {
      "text/plain": [
       "3.14"
      ]
     },
     "execution_count": 23,
     "metadata": {},
     "output_type": "execute_result"
    }
   ],
   "source": [
    "b"
   ]
  },
  {
   "cell_type": "code",
   "execution_count": 27,
   "id": "55337573-6f41-4df5-bbfd-431f1a2b7ecf",
   "metadata": {},
   "outputs": [
    {
     "name": "stdout",
     "output_type": "stream",
     "text": [
      "hello world\n"
     ]
    }
   ],
   "source": [
    "print(\"hello world\")\n"
   ]
  },
  {
   "cell_type": "code",
   "execution_count": 31,
   "id": "cbe5652c-b346-4429-b3eb-da07415a39e0",
   "metadata": {},
   "outputs": [
    {
     "data": {
      "text/plain": [
       "'HHH'"
      ]
     },
     "execution_count": 31,
     "metadata": {},
     "output_type": "execute_result"
    }
   ],
   "source": [
    " \"H\"*3 "
   ]
  },
  {
   "cell_type": "code",
   "execution_count": 10,
   "id": "e2950dc5-e857-4167-9aef-990b52cd24e1",
   "metadata": {},
   "outputs": [
    {
     "data": {
      "text/plain": [
       "True"
      ]
     },
     "execution_count": 10,
     "metadata": {},
     "output_type": "execute_result"
    }
   ],
   "source": [
    "8 == 8"
   ]
  },
  {
   "cell_type": "code",
   "execution_count": 37,
   "id": "b9d99c5c-d790-401b-bf56-87f21350df58",
   "metadata": {},
   "outputs": [
    {
     "data": {
      "text/plain": [
       "24"
      ]
     },
     "execution_count": 37,
     "metadata": {},
     "output_type": "execute_result"
    }
   ],
   "source": [
    "x = 6\n",
    "x*4"
   ]
  },
  {
   "cell_type": "code",
   "execution_count": 39,
   "id": "ecc398b1-2216-4d8b-a2c2-37285d3c2b72",
   "metadata": {},
   "outputs": [
    {
     "name": "stdout",
     "output_type": "stream",
     "text": [
      "hello world\n"
     ]
    }
   ],
   "source": [
    "a = \"hello \"\n",
    "b = \"world\"\n",
    "print(a + b)"
   ]
  },
  {
   "cell_type": "code",
   "execution_count": 49,
   "id": "445b08c7-774d-4a4d-901f-c0c8aa0e8e97",
   "metadata": {},
   "outputs": [
    {
     "data": {
      "text/plain": [
       "False"
      ]
     },
     "execution_count": 49,
     "metadata": {},
     "output_type": "execute_result"
    }
   ],
   "source": [
    "5==9"
   ]
  },
  {
   "cell_type": "code",
   "execution_count": 51,
   "id": "d6ff6e80-6921-41f4-9ce5-1fbe2c978e0e",
   "metadata": {},
   "outputs": [
    {
     "data": {
      "text/plain": [
       "True"
      ]
     },
     "execution_count": 51,
     "metadata": {},
     "output_type": "execute_result"
    }
   ],
   "source": [
    "5!=9"
   ]
  },
  {
   "cell_type": "code",
   "execution_count": 53,
   "id": "0e230f94-b768-4fad-8e28-38c6300cab78",
   "metadata": {},
   "outputs": [
    {
     "data": {
      "text/plain": [
       "False"
      ]
     },
     "execution_count": 53,
     "metadata": {},
     "output_type": "execute_result"
    }
   ],
   "source": [
    "5>=9"
   ]
  },
  {
   "cell_type": "code",
   "execution_count": 55,
   "id": "190b3619-5b8a-45e8-b9d3-8ff64548174b",
   "metadata": {},
   "outputs": [
    {
     "data": {
      "text/plain": [
       "True"
      ]
     },
     "execution_count": 55,
     "metadata": {},
     "output_type": "execute_result"
    }
   ],
   "source": [
    "5<=9"
   ]
  },
  {
   "cell_type": "code",
   "execution_count": 57,
   "id": "1783406b-2919-4f0b-bb4f-41c5c65ee1f2",
   "metadata": {},
   "outputs": [
    {
     "data": {
      "text/plain": [
       "False"
      ]
     },
     "execution_count": 57,
     "metadata": {},
     "output_type": "execute_result"
    }
   ],
   "source": [
    "5>9"
   ]
  },
  {
   "cell_type": "code",
   "execution_count": 59,
   "id": "50957144-6133-4141-80e7-3766bf363f04",
   "metadata": {},
   "outputs": [
    {
     "data": {
      "text/plain": [
       "True"
      ]
     },
     "execution_count": 59,
     "metadata": {},
     "output_type": "execute_result"
    }
   ],
   "source": [
    "5<9"
   ]
  },
  {
   "cell_type": "code",
   "execution_count": 61,
   "id": "038a1efa-7896-4391-870a-f2049576fa00",
   "metadata": {},
   "outputs": [
    {
     "data": {
      "text/plain": [
       "False"
      ]
     },
     "execution_count": 61,
     "metadata": {},
     "output_type": "execute_result"
    }
   ],
   "source": [
    ">>> a = 5\n",
    ">>> b = 10\n",
    ">>> a > 0 and b < 10"
   ]
  },
  {
   "cell_type": "code",
   "execution_count": 12,
   "id": "68badd46-554c-4373-ad28-2a74b3d1e832",
   "metadata": {},
   "outputs": [
    {
     "name": "stdout",
     "output_type": "stream",
     "text": [
      "Error\n"
     ]
    }
   ],
   "source": [
    "x=5\n",
    "y=9\n",
    "if x==y:\n",
    "    print(\"Equal\")\n",
    "elif x>=y:\n",
    "    print(\"Not Equal\")\n",
    "else :\n",
    "    print(\"Error\")\n",
    "    "
   ]
  },
  {
   "cell_type": "code",
   "execution_count": 20,
   "id": "72ba52b9-3cfb-4602-8fa3-2320c963bc76",
   "metadata": {},
   "outputs": [],
   "source": [
    "a,b,c,d,e = 55,8.56,\"Malaikah\",\"Irfan\",1000\n"
   ]
  },
  {
   "cell_type": "code",
   "execution_count": 69,
   "id": "a64fdbd2-8500-4710-abd2-a89cf5b10cc4",
   "metadata": {},
   "outputs": [
    {
     "data": {
      "text/plain": [
       "int"
      ]
     },
     "execution_count": 69,
     "metadata": {},
     "output_type": "execute_result"
    }
   ],
   "source": [
    "type(a)"
   ]
  },
  {
   "cell_type": "code",
   "execution_count": 71,
   "id": "ca462b18-06c7-4be1-987f-f400b4f16dd5",
   "metadata": {},
   "outputs": [
    {
     "data": {
      "text/plain": [
       "float"
      ]
     },
     "execution_count": 71,
     "metadata": {},
     "output_type": "execute_result"
    }
   ],
   "source": [
    "type(b)"
   ]
  },
  {
   "cell_type": "code",
   "execution_count": 73,
   "id": "3b1d9903-609a-4260-a77e-65bdcff05416",
   "metadata": {},
   "outputs": [
    {
     "data": {
      "text/plain": [
       "str"
      ]
     },
     "execution_count": 73,
     "metadata": {},
     "output_type": "execute_result"
    }
   ],
   "source": [
    "type(c)"
   ]
  },
  {
   "cell_type": "code",
   "execution_count": 75,
   "id": "27f2c0ac-2d7f-41de-98c4-e123c915fdc5",
   "metadata": {},
   "outputs": [
    {
     "data": {
      "text/plain": [
       "str"
      ]
     },
     "execution_count": 75,
     "metadata": {},
     "output_type": "execute_result"
    }
   ],
   "source": [
    "type(d)"
   ]
  },
  {
   "cell_type": "code",
   "execution_count": 22,
   "id": "d7fca251-f4f1-46d1-a0a2-f13409d5687a",
   "metadata": {},
   "outputs": [
    {
     "data": {
      "text/plain": [
       "int"
      ]
     },
     "execution_count": 22,
     "metadata": {},
     "output_type": "execute_result"
    }
   ],
   "source": [
    "type(e)"
   ]
  },
  {
   "cell_type": "code",
   "execution_count": 79,
   "id": "ce747132-d842-42fd-9463-f7f9840237d4",
   "metadata": {},
   "outputs": [
    {
     "name": "stdout",
     "output_type": "stream",
     "text": [
      "My name is Malaikah Irfan\n",
      "I am interested to learn Python language\n"
     ]
    }
   ],
   "source": [
    "print(\"My name is Malaikah Irfan\")\n",
    "print(\"I am interested to learn Python language\")"
   ]
  },
  {
   "cell_type": "code",
   "execution_count": 82,
   "id": "94ef6f7f-4e55-4a66-a1ae-ab87c835afae",
   "metadata": {},
   "outputs": [
    {
     "data": {
      "text/plain": [
       "51.0"
      ]
     },
     "execution_count": 82,
     "metadata": {},
     "output_type": "execute_result"
    }
   ],
   "source": [
    "5*10-(4-2)+12/4"
   ]
  },
  {
   "cell_type": "code",
   "execution_count": 96,
   "id": "73524a57-7a61-4ad9-ad74-7d824799f13c",
   "metadata": {},
   "outputs": [
    {
     "name": "stdout",
     "output_type": "stream",
     "text": [
      "Aysha 23 intermediate\n"
     ]
    }
   ],
   "source": [
    "Name=\"Aysha \"\n",
    "Rollnumber=\"23 \"\n",
    "Experience_in_python=\"intermediate\"\n",
    "\n",
    "print(Name+Rollnumber+Experience_in_python)"
   ]
  },
  {
   "cell_type": "code",
   "execution_count": 92,
   "id": "c16e68bc-9e5b-47ea-9b43-60644d249034",
   "metadata": {},
   "outputs": [
    {
     "name": "stdout",
     "output_type": "stream",
     "text": [
      "x is less then y\n"
     ]
    }
   ],
   "source": [
    "x=34\n",
    "y=50\n",
    "\n",
    "if x>y:\n",
    "    print(\"x is greater then y\")\n",
    "else:\n",
    "    print(\"x is less then y\")"
   ]
  },
  {
   "cell_type": "code",
   "execution_count": null,
   "id": "a53e2b1e-8851-4776-b111-d8ad19717046",
   "metadata": {},
   "outputs": [],
   "source": []
  }
 ],
 "metadata": {
  "kernelspec": {
   "display_name": "Python 3 (ipykernel)",
   "language": "python",
   "name": "python3"
  },
  "language_info": {
   "codemirror_mode": {
    "name": "ipython",
    "version": 3
   },
   "file_extension": ".py",
   "mimetype": "text/x-python",
   "name": "python",
   "nbconvert_exporter": "python",
   "pygments_lexer": "ipython3",
   "version": "3.12.4"
  }
 },
 "nbformat": 4,
 "nbformat_minor": 5
}
