{
 "cells": [
  {
   "cell_type": "code",
   "execution_count": 4,
   "id": "a17f2f30-cbe3-47a9-9d6b-2ecba7464258",
   "metadata": {},
   "outputs": [],
   "source": [
    "import pandas as pd"
   ]
  },
  {
   "cell_type": "code",
   "execution_count": 6,
   "id": "4d441cda-441a-400d-98a2-cb85f5bb4abc",
   "metadata": {},
   "outputs": [
    {
     "name": "stdout",
     "output_type": "stream",
     "text": [
      "Original DataFrame:\n",
      "      Name   Age         City   Salary\n",
      "0    Alice  25.0     New York  50000.0\n",
      "1      Bob   NaN  Los Angeles  60000.0\n",
      "2  Charlie  30.0         None      NaN\n",
      "3     None  22.0      Chicago      NaN\n",
      "4      Eve   NaN      Houston  75000.0\n"
     ]
    }
   ],
   "source": [
    "# Creating a DataFrame with missing values\n",
    "data = {\n",
    "    \"Name\": [\"Alice\", \"Bob\", \"Charlie\", None, \"Eve\"],\n",
    "    \"Age\": [25, None, 30, 22, None],\n",
    "    \"City\": [\"New York\", \"Los Angeles\", None, \"Chicago\", \"Houston\"],\n",
    "    \"Salary\": [50000, 60000, None, None, 75000]\n",
    "}\n",
    "\n",
    "df = pd.DataFrame(data)\n",
    "\n",
    "print(\"Original DataFrame:\")\n",
    "print(df)"
   ]
  },
  {
   "cell_type": "code",
   "execution_count": 12,
   "id": "860929d1-b56e-402d-9706-38dbf92d12e4",
   "metadata": {},
   "outputs": [],
   "source": [
    "#Fill missing values in DataFrame df using forward fill method.\n",
    "#Fill missing values in DataFrame df using backward fill method.\n",
    "#Fill missing values along the columns (axis=1) using forward fill method"
   ]
  },
  {
   "cell_type": "code",
   "execution_count": 24,
   "id": "7f7a777f-0f3f-4920-a54b-9290e2776ed1",
   "metadata": {},
   "outputs": [
    {
     "name": "stdout",
     "output_type": "stream",
     "text": [
      "DataFrame after forward fill (down columns):\n",
      "      Name   Age         City   Salary\n",
      "0    Alice  25.0     New York  50000.0\n",
      "1      Bob  25.0  Los Angeles  60000.0\n",
      "2  Charlie  30.0  Los Angeles  60000.0\n",
      "3  Charlie  22.0      Chicago  60000.0\n",
      "4      Eve  22.0      Houston  75000.0\n"
     ]
    },
    {
     "name": "stderr",
     "output_type": "stream",
     "text": [
      "C:\\Users\\miari\\AppData\\Local\\Temp\\ipykernel_47256\\54734214.py:1: FutureWarning: DataFrame.fillna with 'method' is deprecated and will raise in a future version. Use obj.ffill() or obj.bfill() instead.\n",
      "  df_ffill = df.fillna(method='ffill')\n"
     ]
    }
   ],
   "source": [
    "df_ffill = df.fillna(method='ffill')\n",
    "print(\"DataFrame after forward fill (down columns):\")\n",
    "print(df_ffill)"
   ]
  },
  {
   "cell_type": "code",
   "execution_count": 22,
   "id": "719efa65-5659-4639-b545-5355af2e7de1",
   "metadata": {},
   "outputs": [
    {
     "name": "stdout",
     "output_type": "stream",
     "text": [
      "DataFrame after backward fill (down columns):\n",
      "      Name   Age         City   Salary\n",
      "0    Alice  25.0     New York  50000.0\n",
      "1      Bob  30.0  Los Angeles  60000.0\n",
      "2  Charlie  30.0      Chicago  75000.0\n",
      "3      Eve  22.0      Chicago  75000.0\n",
      "4      Eve   NaN      Houston  75000.0\n"
     ]
    },
    {
     "name": "stderr",
     "output_type": "stream",
     "text": [
      "C:\\Users\\miari\\AppData\\Local\\Temp\\ipykernel_47256\\3930549878.py:2: FutureWarning: DataFrame.fillna with 'method' is deprecated and will raise in a future version. Use obj.ffill() or obj.bfill() instead.\n",
      "  df_bfill = df.fillna(method='bfill')\n"
     ]
    }
   ],
   "source": [
    "# Backward fill along rows (default axis=0)\n",
    "df_bfill = df.fillna(method='bfill')\n",
    "print(\"DataFrame after backward fill (down columns):\")\n",
    "print(df_bfill)"
   ]
  },
  {
   "cell_type": "code",
   "execution_count": 20,
   "id": "ab1fc9f0-e027-4ec4-b42f-93bc7a9c223b",
   "metadata": {},
   "outputs": [
    {
     "name": "stdout",
     "output_type": "stream",
     "text": [
      "DataFrame after forward fill (across columns):\n",
      "      Name   Age         City   Salary\n",
      "0    Alice  25.0     New York  50000.0\n",
      "1      Bob   Bob  Los Angeles  60000.0\n",
      "2  Charlie  30.0         30.0     30.0\n",
      "3     None  22.0      Chicago  Chicago\n",
      "4      Eve   Eve      Houston  75000.0\n"
     ]
    },
    {
     "name": "stderr",
     "output_type": "stream",
     "text": [
      "C:\\Users\\miari\\AppData\\Local\\Temp\\ipykernel_47256\\3370835659.py:2: FutureWarning: DataFrame.fillna with 'method' is deprecated and will raise in a future version. Use obj.ffill() or obj.bfill() instead.\n",
      "  df_ffill_axis1 = df.fillna(method='ffill', axis=1)\n"
     ]
    }
   ],
   "source": [
    "# Forward fill along columns (axis=1)\n",
    "df_ffill_axis1 = df.fillna(method='ffill', axis=1)\n",
    "print(\"DataFrame after forward fill (across columns):\")\n",
    "print(df_ffill_axis1)"
   ]
  },
  {
   "cell_type": "code",
   "execution_count": null,
   "id": "a92f98ec-e005-46e1-bdd9-c6958ddfab19",
   "metadata": {},
   "outputs": [],
   "source": []
  }
 ],
 "metadata": {
  "kernelspec": {
   "display_name": "Python 3 (ipykernel)",
   "language": "python",
   "name": "python3"
  },
  "language_info": {
   "codemirror_mode": {
    "name": "ipython",
    "version": 3
   },
   "file_extension": ".py",
   "mimetype": "text/x-python",
   "name": "python",
   "nbconvert_exporter": "python",
   "pygments_lexer": "ipython3",
   "version": "3.12.4"
  }
 },
 "nbformat": 4,
 "nbformat_minor": 5
}
